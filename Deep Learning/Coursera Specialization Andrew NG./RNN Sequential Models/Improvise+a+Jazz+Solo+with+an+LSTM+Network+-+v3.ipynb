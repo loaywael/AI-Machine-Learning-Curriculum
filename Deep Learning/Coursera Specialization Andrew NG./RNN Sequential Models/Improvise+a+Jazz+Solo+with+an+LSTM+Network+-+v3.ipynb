{
 "cells": [
  {
   "cell_type": "markdown",
   "metadata": {},
   "source": [
    "# Improvise a Jazz Solo with an LSTM Network\n",
    "\n",
    "Welcome to your final programming assignment of this week! In this notebook, you will implement a model that uses an LSTM to generate music. You will even be able to listen to your own music at the end of the assignment. \n",
    "\n",
    "**You will learn to:**\n",
    "- Apply an LSTM to music generation.\n",
    "- Generate your own jazz music with deep learning.\n",
    "\n",
    "Please run the following cell to load all the packages required in this assignment. This may take a few minutes. "
   ]
  },
  {
   "cell_type": "code",
   "execution_count": null,
   "metadata": {},
   "outputs": [
    {
     "name": "stderr",
     "output_type": "stream",
     "text": [
      "Using TensorFlow backend.\n"
     ]
    }
   ],
   "source": [
    "from __future__ import print_function\n",
    "import IPython\n",
    "import sys\n",
    "from music21 import *\n",
    "import numpy as np\n",
    "from grammar import *\n",
    "from qa import *\n",
    "from preprocess import * \n",
    "from music_utils import *\n",
    "from data_utils import *\n",
    "from keras.models import load_model, Model\n",
    "from keras.layers import Dense, Activation, Dropout, Input, LSTM, Reshape, Lambda, RepeatVector\n",
    "from keras.initializers import glorot_uniform\n",
    "from keras.utils import to_categorical\n",
    "from keras.optimizers import Adam\n",
    "from keras import backend as K"
   ]
  },
  {
   "cell_type": "markdown",
   "metadata": {},
   "source": [
    "## 1 - Problem statement\n",
    "\n",
    "You would like to create a jazz music piece specially for a friend's birthday. However, you don't know any instruments or music composition. Fortunately, you know deep learning and will solve this problem using an LSTM netwok.  \n",
    "\n",
    "You will train a network to generate novel jazz solos in a style representative of a body of performed work.\n",
    "\n",
    "<img src=\"images/jazz.jpg\" style=\"width:450;height:300px;\">\n",
    "\n",
    "\n",
    "### 1.1 - Dataset\n",
    "\n",
    "You will train your algorithm on a corpus of Jazz music. Run the cell below to listen to a snippet of the audio from the training set:"
   ]
  },
  {
   "cell_type": "code",
   "execution_count": null,
   "metadata": {
    "collapsed": true
   },
   "outputs": [],
   "source": [
    "IPython.display.Audio('./data/30s_seq.mp3')"
   ]
  },
  {
   "cell_type": "markdown",
   "metadata": {},
   "source": [
    "We have taken care of the preprocessing of the musical data to render it in terms of musical \"values.\" You can informally think of each \"value\" as a note, which comprises a pitch and a duration. For example, if you press down a specific piano key for 0.5 seconds, then you have just played a note. In music theory, a \"value\" is actually more complicated than this--specifically, it also captures the information needed to play multiple notes at the same time. For example, when playing a music piece, you might press down two piano keys at the same time (playng multiple notes at the same time generates what's called a \"chord\"). But we don't need to worry about the details of music theory for this assignment. For the purpose of this assignment, all you need to know is that we will obtain a dataset of values, and will learn an RNN model to generate sequences of values. \n",
    "\n",
    "Our music generation system will use 78 unique values. Run the following code to load the raw music data and preprocess it into values. This might take a few minutes."
   ]
  },
  {
   "cell_type": "code",
   "execution_count": null,
   "metadata": {},
   "outputs": [
    {
     "name": "stdout",
     "output_type": "stream",
     "text": [
      "shape of X: (60, 30, 78)\n",
      "number of training examples: 60\n",
      "Tx (length of sequence): 30\n",
      "total # of unique values: 78\n",
      "Shape of Y: (30, 60, 78)\n"
     ]
    }
   ],
   "source": [
    "X, Y, n_values, indices_values = load_music_utils()\n",
    "print('shape of X:', X.shape)\n",
    "print('number of training examples:', X.shape[0])\n",
    "print('Tx (length of sequence):', X.shape[1])\n",
    "print('total # of unique values:', n_values)\n",
    "print('Shape of Y:', Y.shape)"
   ]
  },
  {
   "cell_type": "markdown",
   "metadata": {},
   "source": [
    "You have just loaded the following:\n",
    "\n",
    "- `X`: This is an (m, $T_x$, 78) dimensional array. We have m training examples, each of which is a snippet of $T_x =30$ musical values. At each time step, the input is one of 78 different possible values, represented as a one-hot vector. Thus for example, X[i,t,:] is a one-hot vector representating the value of the i-th example at time t. \n",
    "\n",
    "- `Y`: This is essentially the same as `X`, but shifted one step to the left (to the past). Similar to the dinosaurus assignment, we're interested in the network using the previous values to predict the next value, so our sequence model will try to predict $y^{\\langle t \\rangle}$ given $x^{\\langle 1\\rangle}, \\ldots, x^{\\langle t \\rangle}$. However, the data in `Y` is reordered to be dimension $(T_y, m, 78)$, where $T_y = T_x$. This format makes it more convenient to feed to the LSTM later. \n",
    "\n",
    "- `n_values`: The number of unique values in this dataset. This should be 78. \n",
    "\n",
    "- `indices_values`: python dictionary mapping from 0-77 to musical values."
   ]
  },
  {
   "cell_type": "markdown",
   "metadata": {},
   "source": [
    "### 1.2 - Overview of our model\n",
    "\n",
    "Here is the architecture of the model we will use. This is similar to the Dinosaurus model you had used in the previous notebook, except that in you will be implementing it in Keras. The architecture is as follows: \n",
    "\n",
    "<img src=\"images/music_generation.png\" style=\"width:600;height:400px;\">\n",
    "\n",
    "<!--\n",
    "<img src=\"images/djmodel.png\" style=\"width:600;height:400px;\">\n",
    "<br>\n",
    "<caption><center> **Figure 1**: LSTM model. $X = (x^{\\langle 1 \\rangle}, x^{\\langle 2 \\rangle}, ..., x^{\\langle T_x \\rangle})$ is a window of size $T_x$ scanned over the musical corpus. Each $x^{\\langle t \\rangle}$ is an index corresponding to a value (ex: \"A,0.250,< m2,P-4 >\") while $\\hat{y}$ is the prediction for the next value  </center></caption>\n",
    "!--> \n",
    "\n",
    "We will be training the model on random snippets of 30 values taken from a much longer piece of music. Thus, we won't bother to set the first input $x^{\\langle 1 \\rangle} = \\vec{0}$, which we had done previously to denote the start of a dinosaur name, since now most of these snippets of audio start somewhere in the middle of a piece of music. We are setting each of the snippts to have the same length $T_x = 30$ to make vectorization easier. \n"
   ]
  },
  {
   "cell_type": "markdown",
   "metadata": {},
   "source": [
    "## 2 - Building the model\n",
    "\n",
    "In this part you will build and train a model that will learn musical patterns. To do so, you will need to build a model that takes in X of shape $(m, T_x, 78)$ and Y of shape $(T_y, m, 78)$. We will use an LSTM with 64 dimensional hidden states. Lets set `n_a = 64`. \n"
   ]
  },
  {
   "cell_type": "code",
   "execution_count": 3,
   "metadata": {
    "collapsed": true
   },
   "outputs": [],
   "source": [
    "n_a = 64 "
   ]
  },
  {
   "cell_type": "markdown",
   "metadata": {},
   "source": [
    "\n",
    "Here's how you can create a Keras model with multiple inputs and outputs. If you're building an RNN where even at test time entire input sequence $x^{\\langle 1 \\rangle}, x^{\\langle 2 \\rangle}, \\ldots, x^{\\langle T_x \\rangle}$ were *given in advance*, for example if the inputs were words and the output was a label, then Keras has simple built-in functions to build the model. However, for sequence generation, at test time we don't know all the values of $x^{\\langle t\\rangle}$ in advance; instead we generate them one at a time using $x^{\\langle t\\rangle} = y^{\\langle t-1 \\rangle}$. So the code will be a bit more complicated, and you'll need to implement your own for-loop to iterate over the different time steps. \n",
    "\n",
    "The function `djmodel()` will call the LSTM layer $T_x$ times using a for-loop, and it is important that all $T_x$ copies have the same weights. I.e., it should not re-initiaiize the weights every time---the $T_x$ steps should have shared weights. The key steps for implementing layers with shareable weights in Keras are: \n",
    "1. Define the layer objects (we will use global variables for this).\n",
    "2. Call these objects when propagating the input.\n",
    "\n",
    "We have defined the layers objects you need as global variables. Please run the next cell to create them. Please check the Keras documentation to make sure you understand what these layers are: [Reshape()](https://keras.io/layers/core/#reshape), [LSTM()](https://keras.io/layers/recurrent/#lstm), [Dense()](https://keras.io/layers/core/#dense).\n"
   ]
  },
  {
   "cell_type": "code",
   "execution_count": 16,
   "metadata": {
    "collapsed": true
   },
   "outputs": [],
   "source": [
    "reshapor = Reshape((1, 78))                        # Used in Step 2.B of djmodel(), below\n",
    "LSTM_cell = LSTM(n_a, return_state = True)         # Used in Step 2.C\n",
    "densor = Dense(n_values, activation='softmax')     # Used in Step 2.D"
   ]
  },
  {
   "cell_type": "markdown",
   "metadata": {},
   "source": [
    "Each of `reshapor`, `LSTM_cell` and `densor` are now layer objects, and you can use them to implement `djmodel()`. In order to propagate a Keras tensor object X through one of these layers, use `layer_object(X)` (or `layer_object([X,Y])` if it requires multiple inputs.). For example, `reshapor(X)` will propagate X through the `Reshape((1,78))` layer defined above."
   ]
  },
  {
   "cell_type": "markdown",
   "metadata": {},
   "source": [
    " \n",
    "**Exercise**: Implement `djmodel()`. You will need to carry out 2 steps:\n",
    "\n",
    "1. Create an empty list \"outputs\" to save the outputs of the LSTM Cell at every time step.\n",
    "2. Loop for $t \\in 1, \\ldots, T_x$:\n",
    "\n",
    "    A. Select the \"t\"th time-step vector from X. The shape of this selection should be (78,). To do so, create a custom [Lambda](https://keras.io/layers/core/#lambda) layer in Keras by using this line of code:\n",
    "```    \n",
    "           x = Lambda(lambda x: X[:,t,:])(X)\n",
    "``` \n",
    "Look over the Keras documentation to figure out what this does. It is creating a \"temporary\" or \"unnamed\" function (that's what Lambda functions are) that extracts out the appropriate one-hot vector, and making this function a Keras `Layer` object to apply to `X`. \n",
    "\n",
    "    B. Reshape x to be (1,78). You may find the `reshapor()` layer (defined below) helpful.\n",
    "\n",
    "    C. Run x through one step of LSTM_cell. Remember to initialize the LSTM_cell with the previous step's hidden state $a$ and cell state $c$. Use the following formatting:\n",
    "```python\n",
    "a, _, c = LSTM_cell(input_x, initial_state=[previous hidden state, previous cell state])\n",
    "```\n",
    "\n",
    "    D. Propagate the LSTM's output activation value through a dense+softmax layer using `densor`. \n",
    "    \n",
    "    E. Append the predicted value to the list of \"outputs\"\n",
    " \n"
   ]
  },
  {
   "cell_type": "code",
   "execution_count": 17,
   "metadata": {
    "collapsed": true
   },
   "outputs": [],
   "source": [
    "# GRADED FUNCTION: djmodel\n",
    "\n",
    "def djmodel(Tx, n_a, n_values):\n",
    "    \"\"\"\n",
    "    Implement the model\n",
    "    \n",
    "    Arguments:\n",
    "    Tx -- length of the sequence in a corpus\n",
    "    n_a -- the number of activations used in our model\n",
    "    n_values -- number of unique values in the music data \n",
    "    \n",
    "    Returns:\n",
    "    model -- a keras model with the \n",
    "    \"\"\"\n",
    "    \n",
    "    # Define the input of your model with a shape \n",
    "    X = Input(shape=(Tx, n_values))\n",
    "    \n",
    "    # Define s0, initial hidden state for the decoder LSTM\n",
    "    a0 = Input(shape=(n_a,), name='a0')\n",
    "    c0 = Input(shape=(n_a,), name='c0')\n",
    "    a = a0\n",
    "    c = c0\n",
    "    \n",
    "    ### START CODE HERE ### \n",
    "    # Step 1: Create empty list to append the outputs while you iterate (≈1 line)\n",
    "    outputs = []\n",
    "    \n",
    "    # Step 2: Loop\n",
    "    for t in range(Tx):\n",
    "        \n",
    "        # Step 2.A: select the \"t\"th time step vector from X. \n",
    "        x = Lambda(lambda x: X[:,t,:])(X)\n",
    "        # Step 2.B: Use reshapor to reshape x to be (1, n_values) (≈1 line)\n",
    "        x = reshapor(x)\n",
    "        # Step 2.C: Perform one step of the LSTM_cell\n",
    "        a, _, c = LSTM_cell(x, initial_state=[a, c])\n",
    "        # Step 2.D: Apply densor to the hidden state output of LSTM_Cell\n",
    "        out = densor(a)\n",
    "        # Step 2.E: add the output to \"outputs\"\n",
    "        outputs.append(out)\n",
    "        \n",
    "    # Step 3: Create model instance\n",
    "    model = Model(inputs=[X, a0, c0], outputs=outputs)\n",
    "    \n",
    "    ### END CODE HERE ###\n",
    "    \n",
    "    return model"
   ]
  },
  {
   "cell_type": "markdown",
   "metadata": {},
   "source": [
    "Run the following cell to define your model. We will use `Tx=30`, `n_a=64` (the dimension of the LSTM activations), and `n_values=78`. This cell may take a few seconds to run. "
   ]
  },
  {
   "cell_type": "code",
   "execution_count": 18,
   "metadata": {
    "collapsed": true
   },
   "outputs": [],
   "source": [
    "model = djmodel(Tx = 30 , n_a = 64, n_values = 78)"
   ]
  },
  {
   "cell_type": "markdown",
   "metadata": {},
   "source": [
    "You now need to compile your model to be trained. We will Adam and a categorical cross-entropy loss."
   ]
  },
  {
   "cell_type": "code",
   "execution_count": 19,
   "metadata": {
    "collapsed": true
   },
   "outputs": [],
   "source": [
    "opt = Adam(lr=0.01, beta_1=0.9, beta_2=0.999, decay=0.01)\n",
    "\n",
    "model.compile(optimizer=opt, loss='categorical_crossentropy', metrics=['accuracy'])"
   ]
  },
  {
   "cell_type": "markdown",
   "metadata": {},
   "source": [
    "Finally, lets initialize `a0` and `c0` for the LSTM's initial state to be zero. "
   ]
  },
  {
   "cell_type": "code",
   "execution_count": 20,
   "metadata": {
    "collapsed": true,
    "scrolled": true
   },
   "outputs": [],
   "source": [
    "m = 60\n",
    "a0 = np.zeros((m, n_a))\n",
    "c0 = np.zeros((m, n_a))"
   ]
  },
  {
   "cell_type": "markdown",
   "metadata": {},
   "source": [
    "Lets now fit the model! We will turn `Y` to a list before doing so, since the cost function expects `Y` to be provided in this format (one list item per time-step). So `list(Y)` is a list with 30 items, where each of the list items is of shape (60,78). Lets train for 100 epochs. This will take a few minutes. \n",
    "\n"
   ]
  },
  {
   "cell_type": "code",
   "execution_count": 21,
   "metadata": {
    "scrolled": true
   },
   "outputs": [
    {
     "name": "stdout",
     "output_type": "stream",
     "text": [
      "Epoch 1/100\n",
      "60/60 [==============================] - 13s - loss: 125.7821 - dense_2_loss_1: 4.3519 - dense_2_loss_2: 4.3486 - dense_2_loss_3: 4.3437 - dense_2_loss_4: 4.3429 - dense_2_loss_5: 4.3408 - dense_2_loss_6: 4.3400 - dense_2_loss_7: 4.3288 - dense_2_loss_8: 4.3375 - dense_2_loss_9: 4.3473 - dense_2_loss_10: 4.3386 - dense_2_loss_11: 4.3369 - dense_2_loss_12: 4.3353 - dense_2_loss_13: 4.3385 - dense_2_loss_14: 4.3340 - dense_2_loss_15: 4.3340 - dense_2_loss_16: 4.3283 - dense_2_loss_17: 4.3433 - dense_2_loss_18: 4.3359 - dense_2_loss_19: 4.3313 - dense_2_loss_20: 4.3302 - dense_2_loss_21: 4.3428 - dense_2_loss_22: 4.3342 - dense_2_loss_23: 4.3411 - dense_2_loss_24: 4.3306 - dense_2_loss_25: 4.3355 - dense_2_loss_26: 4.3275 - dense_2_loss_27: 4.3341 - dense_2_loss_28: 4.3348 - dense_2_loss_29: 4.3337 - dense_2_loss_30: 0.0000e+00 - dense_2_acc_1: 0.0333 - dense_2_acc_2: 0.0500 - dense_2_acc_3: 0.0333 - dense_2_acc_4: 0.0667 - dense_2_acc_5: 0.0333 - dense_2_acc_6: 0.0500 - dense_2_acc_7: 0.1000 - dense_2_acc_8: 0.1000 - dense_2_acc_9: 0.0333 - dense_2_acc_10: 0.0833 - dense_2_acc_11: 0.0667 - dense_2_acc_12: 0.0500 - dense_2_acc_13: 0.0667 - dense_2_acc_14: 0.1167 - dense_2_acc_15: 0.0500 - dense_2_acc_16: 0.0500 - dense_2_acc_17: 0.0167 - dense_2_acc_18: 0.1000 - dense_2_acc_19: 0.0833 - dense_2_acc_20: 0.0667 - dense_2_acc_21: 0.0167 - dense_2_acc_22: 0.1167 - dense_2_acc_23: 0.0333 - dense_2_acc_24: 0.1500 - dense_2_acc_25: 0.0333 - dense_2_acc_26: 0.1333 - dense_2_acc_27: 0.0833 - dense_2_acc_28: 0.0500 - dense_2_acc_29: 0.0667 - dense_2_acc_30: 0.0000e+00                                                                                 \n",
      "Epoch 2/100\n",
      "60/60 [==============================] - 1s - loss: 122.6937 - dense_2_loss_1: 4.3342 - dense_2_loss_2: 4.3058 - dense_2_loss_3: 4.2765 - dense_2_loss_4: 4.2723 - dense_2_loss_5: 4.2645 - dense_2_loss_6: 4.2523 - dense_2_loss_7: 4.2405 - dense_2_loss_8: 4.2308 - dense_2_loss_9: 4.2387 - dense_2_loss_10: 4.2148 - dense_2_loss_11: 4.2371 - dense_2_loss_12: 4.2263 - dense_2_loss_13: 4.2152 - dense_2_loss_14: 4.2139 - dense_2_loss_15: 4.2236 - dense_2_loss_16: 4.2120 - dense_2_loss_17: 4.2298 - dense_2_loss_18: 4.2033 - dense_2_loss_19: 4.2003 - dense_2_loss_20: 4.2021 - dense_2_loss_21: 4.2312 - dense_2_loss_22: 4.2150 - dense_2_loss_23: 4.2272 - dense_2_loss_24: 4.2000 - dense_2_loss_25: 4.2259 - dense_2_loss_26: 4.1812 - dense_2_loss_27: 4.2046 - dense_2_loss_28: 4.1994 - dense_2_loss_29: 4.2149 - dense_2_loss_30: 0.0000e+00 - dense_2_acc_1: 0.0333 - dense_2_acc_2: 0.2000 - dense_2_acc_3: 0.2333 - dense_2_acc_4: 0.2000 - dense_2_acc_5: 0.2167 - dense_2_acc_6: 0.1167 - dense_2_acc_7: 0.2167 - dense_2_acc_8: 0.3000 - dense_2_acc_9: 0.2000 - dense_2_acc_10: 0.2333 - dense_2_acc_11: 0.2167 - dense_2_acc_12: 0.1167 - dense_2_acc_13: 0.1667 - dense_2_acc_14: 0.2333 - dense_2_acc_15: 0.1833 - dense_2_acc_16: 0.1500 - dense_2_acc_17: 0.1333 - dense_2_acc_18: 0.1000 - dense_2_acc_19: 0.2333 - dense_2_acc_20: 0.1500 - dense_2_acc_21: 0.1000 - dense_2_acc_22: 0.1500 - dense_2_acc_23: 0.0833 - dense_2_acc_24: 0.1667 - dense_2_acc_25: 0.1333 - dense_2_acc_26: 0.2667 - dense_2_acc_27: 0.0500 - dense_2_acc_28: 0.1333 - dense_2_acc_29: 0.2000 - dense_2_acc_30: 0.0000e+00         \n",
      "Epoch 3/100\n",
      "60/60 [==============================] - 1s - loss: 117.0468 - dense_2_loss_1: 4.3125 - dense_2_loss_2: 4.2579 - dense_2_loss_3: 4.1864 - dense_2_loss_4: 4.1817 - dense_2_loss_5: 4.1359 - dense_2_loss_6: 4.1337 - dense_2_loss_7: 4.0910 - dense_2_loss_8: 4.0223 - dense_2_loss_9: 4.0296 - dense_2_loss_10: 3.9403 - dense_2_loss_11: 4.0116 - dense_2_loss_12: 4.0392 - dense_2_loss_13: 3.9555 - dense_2_loss_14: 3.9253 - dense_2_loss_15: 3.8924 - dense_2_loss_16: 3.9705 - dense_2_loss_17: 3.9599 - dense_2_loss_18: 3.9202 - dense_2_loss_19: 3.8279 - dense_2_loss_20: 4.0910 - dense_2_loss_21: 4.1027 - dense_2_loss_22: 4.0197 - dense_2_loss_23: 4.0834 - dense_2_loss_24: 3.9457 - dense_2_loss_25: 4.1562 - dense_2_loss_26: 3.8476 - dense_2_loss_27: 3.9029 - dense_2_loss_28: 4.0518 - dense_2_loss_29: 4.0521 - dense_2_loss_30: 0.0000e+00 - dense_2_acc_1: 0.0333 - dense_2_acc_2: 0.1833 - dense_2_acc_3: 0.2500 - dense_2_acc_4: 0.1500 - dense_2_acc_5: 0.2333 - dense_2_acc_6: 0.2000 - dense_2_acc_7: 0.1167 - dense_2_acc_8: 0.2167 - dense_2_acc_9: 0.1500 - dense_2_acc_10: 0.1333 - dense_2_acc_11: 0.0833 - dense_2_acc_12: 0.0500 - dense_2_acc_13: 0.0500 - dense_2_acc_14: 0.1000 - dense_2_acc_15: 0.0500 - dense_2_acc_16: 0.0667 - dense_2_acc_17: 0.1167 - dense_2_acc_18: 0.0333 - dense_2_acc_19: 0.0500 - dense_2_acc_20: 0.1000 - dense_2_acc_21: 0.0667 - dense_2_acc_22: 0.0333 - dense_2_acc_23: 0.0167 - dense_2_acc_24: 0.0167 - dense_2_acc_25: 0.0833 - dense_2_acc_26: 0.1167 - dense_2_acc_27: 0.0667 - dense_2_acc_28: 0.0667 - dense_2_acc_29: 0.1167 - dense_2_acc_30: 0.0000e+00                 \n",
      "Epoch 4/100\n",
      "60/60 [==============================] - 1s - loss: 112.5000 - dense_2_loss_1: 4.2943 - dense_2_loss_2: 4.2161 - dense_2_loss_3: 4.1122 - dense_2_loss_4: 4.1008 - dense_2_loss_5: 4.0184 - dense_2_loss_6: 4.0107 - dense_2_loss_7: 3.9503 - dense_2_loss_8: 3.7981 - dense_2_loss_9: 3.8310 - dense_2_loss_10: 3.7121 - dense_2_loss_11: 3.7966 - dense_2_loss_12: 3.9134 - dense_2_loss_13: 3.7284 - dense_2_loss_14: 3.7152 - dense_2_loss_15: 3.7247 - dense_2_loss_16: 3.7056 - dense_2_loss_17: 3.8137 - dense_2_loss_18: 3.8547 - dense_2_loss_19: 3.6777 - dense_2_loss_20: 3.8846 - dense_2_loss_21: 4.0342 - dense_2_loss_22: 3.8559 - dense_2_loss_23: 3.7562 - dense_2_loss_24: 3.7338 - dense_2_loss_25: 4.0612 - dense_2_loss_26: 3.5753 - dense_2_loss_27: 3.7174 - dense_2_loss_28: 3.8381 - dense_2_loss_29: 4.0692 - dense_2_loss_30: 0.0000e+00 - dense_2_acc_1: 0.0333 - dense_2_acc_2: 0.2000 - dense_2_acc_3: 0.2500 - dense_2_acc_4: 0.2000 - dense_2_acc_5: 0.2667 - dense_2_acc_6: 0.1000 - dense_2_acc_7: 0.1167 - dense_2_acc_8: 0.2000 - dense_2_acc_9: 0.1500 - dense_2_acc_10: 0.1000 - dense_2_acc_11: 0.1000 - dense_2_acc_12: 0.0167 - dense_2_acc_13: 0.1000 - dense_2_acc_14: 0.1000 - dense_2_acc_15: 0.0667 - dense_2_acc_16: 0.1000 - dense_2_acc_17: 0.1333 - dense_2_acc_18: 0.0667 - dense_2_acc_19: 0.1333 - dense_2_acc_20: 0.0667 - dense_2_acc_21: 0.0833 - dense_2_acc_22: 0.0833 - dense_2_acc_23: 0.1333 - dense_2_acc_24: 0.1000 - dense_2_acc_25: 0.0333 - dense_2_acc_26: 0.1167 - dense_2_acc_27: 0.1000 - dense_2_acc_28: 0.0833 - dense_2_acc_29: 0.0333 - dense_2_acc_30: 0.0000e+00         \n",
      "Epoch 5/100\n",
      "60/60 [==============================] - 1s - loss: 109.9161 - dense_2_loss_1: 4.2777 - dense_2_loss_2: 4.1739 - dense_2_loss_3: 4.0376 - dense_2_loss_4: 4.0271 - dense_2_loss_5: 3.9112 - dense_2_loss_6: 3.9371 - dense_2_loss_7: 3.8450 - dense_2_loss_8: 3.6565 - dense_2_loss_9: 3.7215 - dense_2_loss_10: 3.5970 - dense_2_loss_11: 3.6722 - dense_2_loss_12: 3.8553 - dense_2_loss_13: 3.6265 - dense_2_loss_14: 3.6208 - dense_2_loss_15: 3.6742 - dense_2_loss_16: 3.6979 - dense_2_loss_17: 3.7879 - dense_2_loss_18: 3.7775 - dense_2_loss_19: 3.6158 - dense_2_loss_20: 3.8225 - dense_2_loss_21: 3.8928 - dense_2_loss_22: 3.7224 - dense_2_loss_23: 3.6323 - dense_2_loss_24: 3.6699 - dense_2_loss_25: 3.8267 - dense_2_loss_26: 3.5062 - dense_2_loss_27: 3.6572 - dense_2_loss_28: 3.7282 - dense_2_loss_29: 3.9454 - dense_2_loss_30: 0.0000e+00 - dense_2_acc_1: 0.0333 - dense_2_acc_2: 0.1833 - dense_2_acc_3: 0.2833 - dense_2_acc_4: 0.2333 - dense_2_acc_5: 0.2167 - dense_2_acc_6: 0.0667 - dense_2_acc_7: 0.1000 - dense_2_acc_8: 0.1833 - dense_2_acc_9: 0.1333 - dense_2_acc_10: 0.1167 - dense_2_acc_11: 0.1500 - dense_2_acc_12: 0.0833 - dense_2_acc_13: 0.1500 - dense_2_acc_14: 0.1667 - dense_2_acc_15: 0.1167 - dense_2_acc_16: 0.1000 - dense_2_acc_17: 0.1167 - dense_2_acc_18: 0.1333 - dense_2_acc_19: 0.1500 - dense_2_acc_20: 0.0167 - dense_2_acc_21: 0.0667 - dense_2_acc_22: 0.1500 - dense_2_acc_23: 0.1000 - dense_2_acc_24: 0.0667 - dense_2_acc_25: 0.0500 - dense_2_acc_26: 0.1000 - dense_2_acc_27: 0.0833 - dense_2_acc_28: 0.0833 - dense_2_acc_29: 0.0333 - dense_2_acc_30: 0.0000e+00             \n",
      "Epoch 6/100\n",
      "60/60 [==============================] - 1s - loss: 107.0691 - dense_2_loss_1: 4.2619 - dense_2_loss_2: 4.1367 - dense_2_loss_3: 3.9734 - dense_2_loss_4: 3.9711 - dense_2_loss_5: 3.8285 - dense_2_loss_6: 3.8626 - dense_2_loss_7: 3.7814 - dense_2_loss_8: 3.5688 - dense_2_loss_9: 3.6526 - dense_2_loss_10: 3.4916 - dense_2_loss_11: 3.5821 - dense_2_loss_12: 3.7327 - dense_2_loss_13: 3.5490 - dense_2_loss_14: 3.5686 - dense_2_loss_15: 3.5655 - dense_2_loss_16: 3.6430 - dense_2_loss_17: 3.5991 - dense_2_loss_18: 3.6971 - dense_2_loss_19: 3.5402 - dense_2_loss_20: 3.5715 - dense_2_loss_21: 3.7793 - dense_2_loss_22: 3.5836 - dense_2_loss_23: 3.4978 - dense_2_loss_24: 3.5516 - dense_2_loss_25: 3.7236 - dense_2_loss_26: 3.4182 - dense_2_loss_27: 3.5562 - dense_2_loss_28: 3.5797 - dense_2_loss_29: 3.8018 - dense_2_loss_30: 0.0000e+00 - dense_2_acc_1: 0.0333 - dense_2_acc_2: 0.2000 - dense_2_acc_3: 0.2833 - dense_2_acc_4: 0.2167 - dense_2_acc_5: 0.2667 - dense_2_acc_6: 0.0833 - dense_2_acc_7: 0.1500 - dense_2_acc_8: 0.2167 - dense_2_acc_9: 0.1333 - dense_2_acc_10: 0.1500 - dense_2_acc_11: 0.0667 - dense_2_acc_12: 0.0333 - dense_2_acc_13: 0.1167 - dense_2_acc_14: 0.1167 - dense_2_acc_15: 0.0833 - dense_2_acc_16: 0.1000 - dense_2_acc_17: 0.1500 - dense_2_acc_18: 0.0667 - dense_2_acc_19: 0.1333 - dense_2_acc_20: 0.0667 - dense_2_acc_21: 0.0833 - dense_2_acc_22: 0.0667 - dense_2_acc_23: 0.1667 - dense_2_acc_24: 0.1167 - dense_2_acc_25: 0.0333 - dense_2_acc_26: 0.1333 - dense_2_acc_27: 0.1500 - dense_2_acc_28: 0.1167 - dense_2_acc_29: 0.0500 - dense_2_acc_30: 0.0000e+00     \n",
      "Epoch 7/100\n",
      "60/60 [==============================] - 1s - loss: 103.7301 - dense_2_loss_1: 4.2459 - dense_2_loss_2: 4.0961 - dense_2_loss_3: 3.9005 - dense_2_loss_4: 3.8984 - dense_2_loss_5: 3.7258 - dense_2_loss_6: 3.7672 - dense_2_loss_7: 3.6840 - dense_2_loss_8: 3.4420 - dense_2_loss_9: 3.5475 - dense_2_loss_10: 3.3554 - dense_2_loss_11: 3.4643 - dense_2_loss_12: 3.6288 - dense_2_loss_13: 3.4317 - dense_2_loss_14: 3.3499 - dense_2_loss_15: 3.4094 - dense_2_loss_16: 3.5426 - dense_2_loss_17: 3.4917 - dense_2_loss_18: 3.5567 - dense_2_loss_19: 3.3632 - dense_2_loss_20: 3.5089 - dense_2_loss_21: 3.6447 - dense_2_loss_22: 3.4591 - dense_2_loss_23: 3.4136 - dense_2_loss_24: 3.4198 - dense_2_loss_25: 3.5831 - dense_2_loss_26: 3.2316 - dense_2_loss_27: 3.4115 - dense_2_loss_28: 3.4792 - dense_2_loss_29: 3.6774 - dense_2_loss_30: 0.0000e+00 - dense_2_acc_1: 0.0333 - dense_2_acc_2: 0.2000 - dense_2_acc_3: 0.3500 - dense_2_acc_4: 0.2000 - dense_2_acc_5: 0.2833 - dense_2_acc_6: 0.1000 - dense_2_acc_7: 0.1667 - dense_2_acc_8: 0.2167 - dense_2_acc_9: 0.2000 - dense_2_acc_10: 0.1833 - dense_2_acc_11: 0.1000 - dense_2_acc_12: 0.0833 - dense_2_acc_13: 0.1667 - dense_2_acc_14: 0.1833 - dense_2_acc_15: 0.1833 - dense_2_acc_16: 0.1167 - dense_2_acc_17: 0.1500 - dense_2_acc_18: 0.1167 - dense_2_acc_19: 0.1667 - dense_2_acc_20: 0.1333 - dense_2_acc_21: 0.1167 - dense_2_acc_22: 0.2000 - dense_2_acc_23: 0.1833 - dense_2_acc_24: 0.1333 - dense_2_acc_25: 0.0833 - dense_2_acc_26: 0.2167 - dense_2_acc_27: 0.1333 - dense_2_acc_28: 0.1167 - dense_2_acc_29: 0.0833 - dense_2_acc_30: 0.0000e+00     \n",
      "Epoch 8/100\n",
      "60/60 [==============================] - 1s - loss: 99.9431 - dense_2_loss_1: 4.2330 - dense_2_loss_2: 4.0559 - dense_2_loss_3: 3.8382 - dense_2_loss_4: 3.8187 - dense_2_loss_5: 3.6267 - dense_2_loss_6: 3.6716 - dense_2_loss_7: 3.5827 - dense_2_loss_8: 3.3266 - dense_2_loss_9: 3.3940 - dense_2_loss_10: 3.2268 - dense_2_loss_11: 3.3279 - dense_2_loss_12: 3.4781 - dense_2_loss_13: 3.2438 - dense_2_loss_14: 3.2118 - dense_2_loss_15: 3.3040 - dense_2_loss_16: 3.3971 - dense_2_loss_17: 3.3073 - dense_2_loss_18: 3.4473 - dense_2_loss_19: 3.2158 - dense_2_loss_20: 3.3384 - dense_2_loss_21: 3.4686 - dense_2_loss_22: 3.2965 - dense_2_loss_23: 3.3190 - dense_2_loss_24: 3.2474 - dense_2_loss_25: 3.4697 - dense_2_loss_26: 3.0965 - dense_2_loss_27: 3.2314 - dense_2_loss_28: 3.2937 - dense_2_loss_29: 3.4748 - dense_2_loss_30: 0.0000e+00 - dense_2_acc_1: 0.0333 - dense_2_acc_2: 0.2000 - dense_2_acc_3: 0.3167 - dense_2_acc_4: 0.1833 - dense_2_acc_5: 0.3000 - dense_2_acc_6: 0.1500 - dense_2_acc_7: 0.1500 - dense_2_acc_8: 0.1667 - dense_2_acc_9: 0.2500 - dense_2_acc_10: 0.2500 - dense_2_acc_11: 0.1333 - dense_2_acc_12: 0.1000 - dense_2_acc_13: 0.2000 - dense_2_acc_14: 0.2000 - dense_2_acc_15: 0.1833 - dense_2_acc_16: 0.1833 - dense_2_acc_17: 0.2167 - dense_2_acc_18: 0.1000 - dense_2_acc_19: 0.1500 - dense_2_acc_20: 0.1667 - dense_2_acc_21: 0.0833 - dense_2_acc_22: 0.1167 - dense_2_acc_23: 0.1333 - dense_2_acc_24: 0.1500 - dense_2_acc_25: 0.0833 - dense_2_acc_26: 0.1667 - dense_2_acc_27: 0.1667 - dense_2_acc_28: 0.1667 - dense_2_acc_29: 0.1333 - dense_2_acc_30: 0.0000e+00          \n",
      "Epoch 9/100\n",
      "60/60 [==============================] - 1s - loss: 96.4158 - dense_2_loss_1: 4.2199 - dense_2_loss_2: 4.0181 - dense_2_loss_3: 3.7688 - dense_2_loss_4: 3.7384 - dense_2_loss_5: 3.5230 - dense_2_loss_6: 3.5712 - dense_2_loss_7: 3.4834 - dense_2_loss_8: 3.2205 - dense_2_loss_9: 3.2510 - dense_2_loss_10: 3.1139 - dense_2_loss_11: 3.2191 - dense_2_loss_12: 3.3260 - dense_2_loss_13: 3.1033 - dense_2_loss_14: 3.0407 - dense_2_loss_15: 3.1613 - dense_2_loss_16: 3.2949 - dense_2_loss_17: 3.1724 - dense_2_loss_18: 3.2839 - dense_2_loss_19: 3.1018 - dense_2_loss_20: 3.2050 - dense_2_loss_21: 3.3258 - dense_2_loss_22: 3.1326 - dense_2_loss_23: 3.2511 - dense_2_loss_24: 3.1453 - dense_2_loss_25: 3.3773 - dense_2_loss_26: 2.8730 - dense_2_loss_27: 3.0854 - dense_2_loss_28: 3.1249 - dense_2_loss_29: 3.2836 - dense_2_loss_30: 0.0000e+00 - dense_2_acc_1: 0.0667 - dense_2_acc_2: 0.1500 - dense_2_acc_3: 0.3167 - dense_2_acc_4: 0.1833 - dense_2_acc_5: 0.2667 - dense_2_acc_6: 0.1333 - dense_2_acc_7: 0.1500 - dense_2_acc_8: 0.1833 - dense_2_acc_9: 0.2167 - dense_2_acc_10: 0.2667 - dense_2_acc_11: 0.1833 - dense_2_acc_12: 0.1667 - dense_2_acc_13: 0.1500 - dense_2_acc_14: 0.2167 - dense_2_acc_15: 0.2333 - dense_2_acc_16: 0.1667 - dense_2_acc_17: 0.1667 - dense_2_acc_18: 0.1500 - dense_2_acc_19: 0.1667 - dense_2_acc_20: 0.2167 - dense_2_acc_21: 0.1667 - dense_2_acc_22: 0.1667 - dense_2_acc_23: 0.1500 - dense_2_acc_24: 0.1167 - dense_2_acc_25: 0.1167 - dense_2_acc_26: 0.3167 - dense_2_acc_27: 0.1333 - dense_2_acc_28: 0.1667 - dense_2_acc_29: 0.1667 - dense_2_acc_30: 0.0000e+00         \n",
      "Epoch 10/100\n",
      "60/60 [==============================] - 1s - loss: 92.1275 - dense_2_loss_1: 4.2097 - dense_2_loss_2: 3.9785 - dense_2_loss_3: 3.7039 - dense_2_loss_4: 3.6499 - dense_2_loss_5: 3.4213 - dense_2_loss_6: 3.4485 - dense_2_loss_7: 3.3693 - dense_2_loss_8: 3.1130 - dense_2_loss_9: 3.1120 - dense_2_loss_10: 2.9409 - dense_2_loss_11: 3.1345 - dense_2_loss_12: 3.1510 - dense_2_loss_13: 2.8987 - dense_2_loss_14: 2.9193 - dense_2_loss_15: 2.9648 - dense_2_loss_16: 3.1140 - dense_2_loss_17: 3.0240 - dense_2_loss_18: 2.9834 - dense_2_loss_19: 2.9676 - dense_2_loss_20: 3.1013 - dense_2_loss_21: 3.1507 - dense_2_loss_22: 2.8997 - dense_2_loss_23: 3.1013 - dense_2_loss_24: 2.8988 - dense_2_loss_25: 3.2089 - dense_2_loss_26: 2.7619 - dense_2_loss_27: 2.9140 - dense_2_loss_28: 2.9678 - dense_2_loss_29: 3.0188 - dense_2_loss_30: 0.0000e+00 - dense_2_acc_1: 0.0667 - dense_2_acc_2: 0.1667 - dense_2_acc_3: 0.3000 - dense_2_acc_4: 0.1500 - dense_2_acc_5: 0.2833 - dense_2_acc_6: 0.1333 - dense_2_acc_7: 0.1500 - dense_2_acc_8: 0.1667 - dense_2_acc_9: 0.2500 - dense_2_acc_10: 0.2333 - dense_2_acc_11: 0.1500 - dense_2_acc_12: 0.1333 - dense_2_acc_13: 0.1667 - dense_2_acc_14: 0.1667 - dense_2_acc_15: 0.2167 - dense_2_acc_16: 0.1500 - dense_2_acc_17: 0.1500 - dense_2_acc_18: 0.1333 - dense_2_acc_19: 0.2000 - dense_2_acc_20: 0.2167 - dense_2_acc_21: 0.1833 - dense_2_acc_22: 0.2333 - dense_2_acc_23: 0.1833 - dense_2_acc_24: 0.1833 - dense_2_acc_25: 0.1333 - dense_2_acc_26: 0.3000 - dense_2_acc_27: 0.1000 - dense_2_acc_28: 0.1667 - dense_2_acc_29: 0.1667 - dense_2_acc_30: 0.0000e+00     \n",
      "Epoch 11/100\n"
     ]
    },
    {
     "name": "stdout",
     "output_type": "stream",
     "text": [
      "60/60 [==============================] - 1s - loss: 88.2577 - dense_2_loss_1: 4.1985 - dense_2_loss_2: 3.9406 - dense_2_loss_3: 3.6340 - dense_2_loss_4: 3.5599 - dense_2_loss_5: 3.3069 - dense_2_loss_6: 3.3141 - dense_2_loss_7: 3.2378 - dense_2_loss_8: 2.9687 - dense_2_loss_9: 3.0084 - dense_2_loss_10: 2.7951 - dense_2_loss_11: 3.0086 - dense_2_loss_12: 2.9380 - dense_2_loss_13: 2.7530 - dense_2_loss_14: 2.7644 - dense_2_loss_15: 2.8623 - dense_2_loss_16: 2.9183 - dense_2_loss_17: 2.8732 - dense_2_loss_18: 2.8215 - dense_2_loss_19: 2.8543 - dense_2_loss_20: 2.9531 - dense_2_loss_21: 2.9813 - dense_2_loss_22: 2.7879 - dense_2_loss_23: 2.8880 - dense_2_loss_24: 2.7694 - dense_2_loss_25: 3.0869 - dense_2_loss_26: 2.6130 - dense_2_loss_27: 2.8169 - dense_2_loss_28: 2.7842 - dense_2_loss_29: 2.8195 - dense_2_loss_30: 0.0000e+00 - dense_2_acc_1: 0.0833 - dense_2_acc_2: 0.1833 - dense_2_acc_3: 0.2667 - dense_2_acc_4: 0.1500 - dense_2_acc_5: 0.2833 - dense_2_acc_6: 0.1333 - dense_2_acc_7: 0.1167 - dense_2_acc_8: 0.1667 - dense_2_acc_9: 0.1833 - dense_2_acc_10: 0.2333 - dense_2_acc_11: 0.2167 - dense_2_acc_12: 0.1833 - dense_2_acc_13: 0.2500 - dense_2_acc_14: 0.2500 - dense_2_acc_15: 0.2167 - dense_2_acc_16: 0.1833 - dense_2_acc_17: 0.2000 - dense_2_acc_18: 0.2333 - dense_2_acc_19: 0.1833 - dense_2_acc_20: 0.2833 - dense_2_acc_21: 0.1667 - dense_2_acc_22: 0.2333 - dense_2_acc_23: 0.1833 - dense_2_acc_24: 0.1333 - dense_2_acc_25: 0.1333 - dense_2_acc_26: 0.3333 - dense_2_acc_27: 0.1833 - dense_2_acc_28: 0.2333 - dense_2_acc_29: 0.1833 - dense_2_acc_30: 0.0000e+00     \n",
      "Epoch 12/100\n",
      "60/60 [==============================] - 1s - loss: 83.8136 - dense_2_loss_1: 4.1874 - dense_2_loss_2: 3.8981 - dense_2_loss_3: 3.5546 - dense_2_loss_4: 3.4623 - dense_2_loss_5: 3.1839 - dense_2_loss_6: 3.1830 - dense_2_loss_7: 3.1083 - dense_2_loss_8: 2.8361 - dense_2_loss_9: 2.8516 - dense_2_loss_10: 2.6649 - dense_2_loss_11: 2.8720 - dense_2_loss_12: 2.7549 - dense_2_loss_13: 2.5589 - dense_2_loss_14: 2.5317 - dense_2_loss_15: 2.6823 - dense_2_loss_16: 2.7440 - dense_2_loss_17: 2.7035 - dense_2_loss_18: 2.6100 - dense_2_loss_19: 2.7077 - dense_2_loss_20: 2.7745 - dense_2_loss_21: 2.7934 - dense_2_loss_22: 2.5735 - dense_2_loss_23: 2.7368 - dense_2_loss_24: 2.5705 - dense_2_loss_25: 2.9555 - dense_2_loss_26: 2.4367 - dense_2_loss_27: 2.6620 - dense_2_loss_28: 2.5926 - dense_2_loss_29: 2.6227 - dense_2_loss_30: 0.0000e+00 - dense_2_acc_1: 0.0333 - dense_2_acc_2: 0.1833 - dense_2_acc_3: 0.2500 - dense_2_acc_4: 0.1667 - dense_2_acc_5: 0.2833 - dense_2_acc_6: 0.1333 - dense_2_acc_7: 0.1500 - dense_2_acc_8: 0.1500 - dense_2_acc_9: 0.2000 - dense_2_acc_10: 0.2333 - dense_2_acc_11: 0.2167 - dense_2_acc_12: 0.1833 - dense_2_acc_13: 0.3333 - dense_2_acc_14: 0.3167 - dense_2_acc_15: 0.2333 - dense_2_acc_16: 0.1833 - dense_2_acc_17: 0.2167 - dense_2_acc_18: 0.2333 - dense_2_acc_19: 0.2167 - dense_2_acc_20: 0.3167 - dense_2_acc_21: 0.2333 - dense_2_acc_22: 0.2333 - dense_2_acc_23: 0.2167 - dense_2_acc_24: 0.2500 - dense_2_acc_25: 0.1500 - dense_2_acc_26: 0.3167 - dense_2_acc_27: 0.2167 - dense_2_acc_28: 0.2333 - dense_2_acc_29: 0.2167 - dense_2_acc_30: 0.0000e+00         \n",
      "Epoch 13/100\n",
      "60/60 [==============================] - 1s - loss: 80.2022 - dense_2_loss_1: 4.1769 - dense_2_loss_2: 3.8570 - dense_2_loss_3: 3.4738 - dense_2_loss_4: 3.3601 - dense_2_loss_5: 3.0579 - dense_2_loss_6: 3.0453 - dense_2_loss_7: 2.9742 - dense_2_loss_8: 2.7033 - dense_2_loss_9: 2.6822 - dense_2_loss_10: 2.5255 - dense_2_loss_11: 2.7280 - dense_2_loss_12: 2.5804 - dense_2_loss_13: 2.3832 - dense_2_loss_14: 2.4068 - dense_2_loss_15: 2.5674 - dense_2_loss_16: 2.5813 - dense_2_loss_17: 2.5040 - dense_2_loss_18: 2.5145 - dense_2_loss_19: 2.5564 - dense_2_loss_20: 2.6152 - dense_2_loss_21: 2.5424 - dense_2_loss_22: 2.4937 - dense_2_loss_23: 2.5923 - dense_2_loss_24: 2.5031 - dense_2_loss_25: 2.8253 - dense_2_loss_26: 2.3471 - dense_2_loss_27: 2.6053 - dense_2_loss_28: 2.5274 - dense_2_loss_29: 2.4723 - dense_2_loss_30: 0.0000e+00 - dense_2_acc_1: 0.0333 - dense_2_acc_2: 0.1833 - dense_2_acc_3: 0.3000 - dense_2_acc_4: 0.2167 - dense_2_acc_5: 0.2833 - dense_2_acc_6: 0.1500 - dense_2_acc_7: 0.1667 - dense_2_acc_8: 0.2000 - dense_2_acc_9: 0.2167 - dense_2_acc_10: 0.2833 - dense_2_acc_11: 0.2333 - dense_2_acc_12: 0.2333 - dense_2_acc_13: 0.3667 - dense_2_acc_14: 0.3000 - dense_2_acc_15: 0.3000 - dense_2_acc_16: 0.2333 - dense_2_acc_17: 0.2167 - dense_2_acc_18: 0.3000 - dense_2_acc_19: 0.2167 - dense_2_acc_20: 0.2667 - dense_2_acc_21: 0.2000 - dense_2_acc_22: 0.2000 - dense_2_acc_23: 0.2667 - dense_2_acc_24: 0.2667 - dense_2_acc_25: 0.1167 - dense_2_acc_26: 0.3500 - dense_2_acc_27: 0.2500 - dense_2_acc_28: 0.2667 - dense_2_acc_29: 0.2667 - dense_2_acc_30: 0.0000e+00     \n",
      "Epoch 14/100\n",
      "60/60 [==============================] - 1s - loss: 76.6255 - dense_2_loss_1: 4.1665 - dense_2_loss_2: 3.8163 - dense_2_loss_3: 3.3940 - dense_2_loss_4: 3.2554 - dense_2_loss_5: 2.9215 - dense_2_loss_6: 2.8849 - dense_2_loss_7: 2.8437 - dense_2_loss_8: 2.5664 - dense_2_loss_9: 2.5704 - dense_2_loss_10: 2.4442 - dense_2_loss_11: 2.6191 - dense_2_loss_12: 2.3999 - dense_2_loss_13: 2.2984 - dense_2_loss_14: 2.2683 - dense_2_loss_15: 2.4929 - dense_2_loss_16: 2.4488 - dense_2_loss_17: 2.3840 - dense_2_loss_18: 2.3979 - dense_2_loss_19: 2.4391 - dense_2_loss_20: 2.4743 - dense_2_loss_21: 2.4829 - dense_2_loss_22: 2.2943 - dense_2_loss_23: 2.4337 - dense_2_loss_24: 2.3249 - dense_2_loss_25: 2.6298 - dense_2_loss_26: 2.1475 - dense_2_loss_27: 2.5166 - dense_2_loss_28: 2.2967 - dense_2_loss_29: 2.4128 - dense_2_loss_30: 0.0000e+00 - dense_2_acc_1: 0.0333 - dense_2_acc_2: 0.2000 - dense_2_acc_3: 0.3000 - dense_2_acc_4: 0.2000 - dense_2_acc_5: 0.2833 - dense_2_acc_6: 0.2167 - dense_2_acc_7: 0.2167 - dense_2_acc_8: 0.3000 - dense_2_acc_9: 0.2333 - dense_2_acc_10: 0.2667 - dense_2_acc_11: 0.1833 - dense_2_acc_12: 0.2333 - dense_2_acc_13: 0.3333 - dense_2_acc_14: 0.3333 - dense_2_acc_15: 0.2833 - dense_2_acc_16: 0.3000 - dense_2_acc_17: 0.2500 - dense_2_acc_18: 0.3000 - dense_2_acc_19: 0.3333 - dense_2_acc_20: 0.3167 - dense_2_acc_21: 0.2833 - dense_2_acc_22: 0.3500 - dense_2_acc_23: 0.2000 - dense_2_acc_24: 0.2667 - dense_2_acc_25: 0.1667 - dense_2_acc_26: 0.4333 - dense_2_acc_27: 0.3167 - dense_2_acc_28: 0.3500 - dense_2_acc_29: 0.2500 - dense_2_acc_30: 0.0000e+00     \n",
      "Epoch 15/100\n",
      "60/60 [==============================] - 1s - loss: 72.7689 - dense_2_loss_1: 4.1570 - dense_2_loss_2: 3.7767 - dense_2_loss_3: 3.3124 - dense_2_loss_4: 3.1587 - dense_2_loss_5: 2.8098 - dense_2_loss_6: 2.7516 - dense_2_loss_7: 2.7056 - dense_2_loss_8: 2.4828 - dense_2_loss_9: 2.4143 - dense_2_loss_10: 2.2859 - dense_2_loss_11: 2.4758 - dense_2_loss_12: 2.2294 - dense_2_loss_13: 2.1183 - dense_2_loss_14: 2.1516 - dense_2_loss_15: 2.2828 - dense_2_loss_16: 2.2926 - dense_2_loss_17: 2.1846 - dense_2_loss_18: 2.1841 - dense_2_loss_19: 2.3480 - dense_2_loss_20: 2.3033 - dense_2_loss_21: 2.3201 - dense_2_loss_22: 2.1912 - dense_2_loss_23: 2.2712 - dense_2_loss_24: 2.2290 - dense_2_loss_25: 2.4847 - dense_2_loss_26: 2.0068 - dense_2_loss_27: 2.3621 - dense_2_loss_28: 2.2137 - dense_2_loss_29: 2.2648 - dense_2_loss_30: 0.0000e+00 - dense_2_acc_1: 0.0500 - dense_2_acc_2: 0.2000 - dense_2_acc_3: 0.3167 - dense_2_acc_4: 0.2333 - dense_2_acc_5: 0.3000 - dense_2_acc_6: 0.2333 - dense_2_acc_7: 0.2333 - dense_2_acc_8: 0.2833 - dense_2_acc_9: 0.2667 - dense_2_acc_10: 0.3000 - dense_2_acc_11: 0.2000 - dense_2_acc_12: 0.2333 - dense_2_acc_13: 0.3667 - dense_2_acc_14: 0.3333 - dense_2_acc_15: 0.3667 - dense_2_acc_16: 0.2833 - dense_2_acc_17: 0.2500 - dense_2_acc_18: 0.3000 - dense_2_acc_19: 0.3500 - dense_2_acc_20: 0.3833 - dense_2_acc_21: 0.2667 - dense_2_acc_22: 0.4000 - dense_2_acc_23: 0.3333 - dense_2_acc_24: 0.2500 - dense_2_acc_25: 0.2167 - dense_2_acc_26: 0.4667 - dense_2_acc_27: 0.2833 - dense_2_acc_28: 0.3500 - dense_2_acc_29: 0.3167 - dense_2_acc_30: 0.0000e+00     \n",
      "Epoch 16/100\n",
      "60/60 [==============================] - 1s - loss: 69.0096 - dense_2_loss_1: 4.1475 - dense_2_loss_2: 3.7367 - dense_2_loss_3: 3.2300 - dense_2_loss_4: 3.0666 - dense_2_loss_5: 2.6971 - dense_2_loss_6: 2.6100 - dense_2_loss_7: 2.5507 - dense_2_loss_8: 2.3885 - dense_2_loss_9: 2.2844 - dense_2_loss_10: 2.2033 - dense_2_loss_11: 2.2946 - dense_2_loss_12: 2.1202 - dense_2_loss_13: 2.0005 - dense_2_loss_14: 2.0468 - dense_2_loss_15: 2.1421 - dense_2_loss_16: 2.2229 - dense_2_loss_17: 2.0794 - dense_2_loss_18: 2.0793 - dense_2_loss_19: 2.1088 - dense_2_loss_20: 2.1232 - dense_2_loss_21: 2.1362 - dense_2_loss_22: 2.0769 - dense_2_loss_23: 2.0933 - dense_2_loss_24: 2.1051 - dense_2_loss_25: 2.3529 - dense_2_loss_26: 1.8722 - dense_2_loss_27: 2.1929 - dense_2_loss_28: 1.9821 - dense_2_loss_29: 2.0654 - dense_2_loss_30: 0.0000e+00 - dense_2_acc_1: 0.0667 - dense_2_acc_2: 0.2000 - dense_2_acc_3: 0.3167 - dense_2_acc_4: 0.2500 - dense_2_acc_5: 0.3333 - dense_2_acc_6: 0.2500 - dense_2_acc_7: 0.2833 - dense_2_acc_8: 0.3167 - dense_2_acc_9: 0.3500 - dense_2_acc_10: 0.4000 - dense_2_acc_11: 0.2833 - dense_2_acc_12: 0.3333 - dense_2_acc_13: 0.4000 - dense_2_acc_14: 0.3833 - dense_2_acc_15: 0.2667 - dense_2_acc_16: 0.3167 - dense_2_acc_17: 0.3833 - dense_2_acc_18: 0.3833 - dense_2_acc_19: 0.4167 - dense_2_acc_20: 0.4667 - dense_2_acc_21: 0.3333 - dense_2_acc_22: 0.3333 - dense_2_acc_23: 0.3333 - dense_2_acc_24: 0.2000 - dense_2_acc_25: 0.2500 - dense_2_acc_26: 0.4833 - dense_2_acc_27: 0.2333 - dense_2_acc_28: 0.3667 - dense_2_acc_29: 0.3667 - dense_2_acc_30: 0.0000e+00     \n",
      "Epoch 17/100\n",
      "60/60 [==============================] - 1s - loss: 65.4204 - dense_2_loss_1: 4.1388 - dense_2_loss_2: 3.6941 - dense_2_loss_3: 3.1495 - dense_2_loss_4: 2.9685 - dense_2_loss_5: 2.5768 - dense_2_loss_6: 2.4709 - dense_2_loss_7: 2.3776 - dense_2_loss_8: 2.2431 - dense_2_loss_9: 2.1668 - dense_2_loss_10: 2.0760 - dense_2_loss_11: 2.1657 - dense_2_loss_12: 1.9690 - dense_2_loss_13: 1.8932 - dense_2_loss_14: 1.9134 - dense_2_loss_15: 2.0259 - dense_2_loss_16: 2.0931 - dense_2_loss_17: 1.9460 - dense_2_loss_18: 1.9594 - dense_2_loss_19: 1.8878 - dense_2_loss_20: 1.9753 - dense_2_loss_21: 1.9834 - dense_2_loss_22: 1.9528 - dense_2_loss_23: 1.9622 - dense_2_loss_24: 1.9521 - dense_2_loss_25: 2.1698 - dense_2_loss_26: 1.7744 - dense_2_loss_27: 2.1107 - dense_2_loss_28: 1.8947 - dense_2_loss_29: 1.9294 - dense_2_loss_30: 0.0000e+00 - dense_2_acc_1: 0.0667 - dense_2_acc_2: 0.2500 - dense_2_acc_3: 0.3333 - dense_2_acc_4: 0.2667 - dense_2_acc_5: 0.3500 - dense_2_acc_6: 0.2500 - dense_2_acc_7: 0.3000 - dense_2_acc_8: 0.3333 - dense_2_acc_9: 0.4000 - dense_2_acc_10: 0.3500 - dense_2_acc_11: 0.3333 - dense_2_acc_12: 0.4333 - dense_2_acc_13: 0.4167 - dense_2_acc_14: 0.4833 - dense_2_acc_15: 0.3667 - dense_2_acc_16: 0.3500 - dense_2_acc_17: 0.4500 - dense_2_acc_18: 0.3667 - dense_2_acc_19: 0.5000 - dense_2_acc_20: 0.4000 - dense_2_acc_21: 0.4167 - dense_2_acc_22: 0.4000 - dense_2_acc_23: 0.4000 - dense_2_acc_24: 0.3167 - dense_2_acc_25: 0.3000 - dense_2_acc_26: 0.5000 - dense_2_acc_27: 0.3500 - dense_2_acc_28: 0.4167 - dense_2_acc_29: 0.4167 - dense_2_acc_30: 0.0000e+00     \n",
      "Epoch 18/100\n",
      "60/60 [==============================] - 1s - loss: 61.8053 - dense_2_loss_1: 4.1303 - dense_2_loss_2: 3.6490 - dense_2_loss_3: 3.0601 - dense_2_loss_4: 2.8603 - dense_2_loss_5: 2.4509 - dense_2_loss_6: 2.3120 - dense_2_loss_7: 2.2171 - dense_2_loss_8: 2.0964 - dense_2_loss_9: 2.0263 - dense_2_loss_10: 1.9477 - dense_2_loss_11: 2.0159 - dense_2_loss_12: 1.8284 - dense_2_loss_13: 1.7382 - dense_2_loss_14: 1.7320 - dense_2_loss_15: 1.8930 - dense_2_loss_16: 1.8920 - dense_2_loss_17: 1.8387 - dense_2_loss_18: 1.8462 - dense_2_loss_19: 1.7947 - dense_2_loss_20: 1.8527 - dense_2_loss_21: 1.8300 - dense_2_loss_22: 1.8730 - dense_2_loss_23: 1.8422 - dense_2_loss_24: 1.8076 - dense_2_loss_25: 1.9608 - dense_2_loss_26: 1.7402 - dense_2_loss_27: 1.9537 - dense_2_loss_28: 1.7613 - dense_2_loss_29: 1.8545 - dense_2_loss_30: 0.0000e+00 - dense_2_acc_1: 0.0667 - dense_2_acc_2: 0.2000 - dense_2_acc_3: 0.3500 - dense_2_acc_4: 0.2833 - dense_2_acc_5: 0.3667 - dense_2_acc_6: 0.3333 - dense_2_acc_7: 0.3500 - dense_2_acc_8: 0.3833 - dense_2_acc_9: 0.4167 - dense_2_acc_10: 0.4500 - dense_2_acc_11: 0.4500 - dense_2_acc_12: 0.4500 - dense_2_acc_13: 0.5000 - dense_2_acc_14: 0.6167 - dense_2_acc_15: 0.5000 - dense_2_acc_16: 0.4833 - dense_2_acc_17: 0.4500 - dense_2_acc_18: 0.4833 - dense_2_acc_19: 0.5500 - dense_2_acc_20: 0.5333 - dense_2_acc_21: 0.5667 - dense_2_acc_22: 0.3833 - dense_2_acc_23: 0.5333 - dense_2_acc_24: 0.5333 - dense_2_acc_25: 0.4000 - dense_2_acc_26: 0.5167 - dense_2_acc_27: 0.4667 - dense_2_acc_28: 0.5000 - dense_2_acc_29: 0.4500 - dense_2_acc_30: 0.0000e+00     \n",
      "Epoch 19/100\n",
      "60/60 [==============================] - 1s - loss: 58.5425 - dense_2_loss_1: 4.1217 - dense_2_loss_2: 3.6022 - dense_2_loss_3: 2.9716 - dense_2_loss_4: 2.7557 - dense_2_loss_5: 2.3359 - dense_2_loss_6: 2.1939 - dense_2_loss_7: 2.0760 - dense_2_loss_8: 1.9929 - dense_2_loss_9: 1.8930 - dense_2_loss_10: 1.8201 - dense_2_loss_11: 1.9292 - dense_2_loss_12: 1.7296 - dense_2_loss_13: 1.5918 - dense_2_loss_14: 1.6355 - dense_2_loss_15: 1.7761 - dense_2_loss_16: 1.7599 - dense_2_loss_17: 1.6360 - dense_2_loss_18: 1.7292 - dense_2_loss_19: 1.6935 - dense_2_loss_20: 1.6887 - dense_2_loss_21: 1.7222 - dense_2_loss_22: 1.7602 - dense_2_loss_23: 1.7702 - dense_2_loss_24: 1.6899 - dense_2_loss_25: 1.8011 - dense_2_loss_26: 1.6165 - dense_2_loss_27: 1.8148 - dense_2_loss_28: 1.6929 - dense_2_loss_29: 1.7423 - dense_2_loss_30: 0.0000e+00 - dense_2_acc_1: 0.0667 - dense_2_acc_2: 0.2333 - dense_2_acc_3: 0.3833 - dense_2_acc_4: 0.3000 - dense_2_acc_5: 0.3167 - dense_2_acc_6: 0.3333 - dense_2_acc_7: 0.4000 - dense_2_acc_8: 0.4167 - dense_2_acc_9: 0.5000 - dense_2_acc_10: 0.5000 - dense_2_acc_11: 0.4333 - dense_2_acc_12: 0.5167 - dense_2_acc_13: 0.5167 - dense_2_acc_14: 0.5000 - dense_2_acc_15: 0.4333 - dense_2_acc_16: 0.4833 - dense_2_acc_17: 0.5333 - dense_2_acc_18: 0.4667 - dense_2_acc_19: 0.5667 - dense_2_acc_20: 0.5000 - dense_2_acc_21: 0.5833 - dense_2_acc_22: 0.3833 - dense_2_acc_23: 0.5000 - dense_2_acc_24: 0.5000 - dense_2_acc_25: 0.3333 - dense_2_acc_26: 0.6000 - dense_2_acc_27: 0.5167 - dense_2_acc_28: 0.4333 - dense_2_acc_29: 0.5667 - dense_2_acc_30: 0.0000e+00     \n",
      "Epoch 20/100\n",
      "60/60 [==============================] - 1s - loss: 56.6737 - dense_2_loss_1: 4.1146 - dense_2_loss_2: 3.5554 - dense_2_loss_3: 2.8868 - dense_2_loss_4: 2.6450 - dense_2_loss_5: 2.2185 - dense_2_loss_6: 2.0859 - dense_2_loss_7: 1.9297 - dense_2_loss_8: 1.8891 - dense_2_loss_9: 1.8096 - dense_2_loss_10: 1.7578 - dense_2_loss_11: 1.8225 - dense_2_loss_12: 1.6446 - dense_2_loss_13: 1.5434 - dense_2_loss_14: 1.5379 - dense_2_loss_15: 1.6637 - dense_2_loss_16: 1.7327 - dense_2_loss_17: 1.5670 - dense_2_loss_18: 1.6755 - dense_2_loss_19: 1.6778 - dense_2_loss_20: 1.6099 - dense_2_loss_21: 1.7091 - dense_2_loss_22: 1.6789 - dense_2_loss_23: 1.7041 - dense_2_loss_24: 1.7210 - dense_2_loss_25: 1.7504 - dense_2_loss_26: 1.5885 - dense_2_loss_27: 1.7260 - dense_2_loss_28: 1.6929 - dense_2_loss_29: 1.7356 - dense_2_loss_30: 0.0000e+00 - dense_2_acc_1: 0.0667 - dense_2_acc_2: 0.2667 - dense_2_acc_3: 0.3833 - dense_2_acc_4: 0.3167 - dense_2_acc_5: 0.3167 - dense_2_acc_6: 0.3667 - dense_2_acc_7: 0.3833 - dense_2_acc_8: 0.4833 - dense_2_acc_9: 0.4667 - dense_2_acc_10: 0.5333 - dense_2_acc_11: 0.4333 - dense_2_acc_12: 0.5333 - dense_2_acc_13: 0.5167 - dense_2_acc_14: 0.5000 - dense_2_acc_15: 0.4333 - dense_2_acc_16: 0.4167 - dense_2_acc_17: 0.5167 - dense_2_acc_18: 0.4833 - dense_2_acc_19: 0.5000 - dense_2_acc_20: 0.4833 - dense_2_acc_21: 0.5000 - dense_2_acc_22: 0.4333 - dense_2_acc_23: 0.3667 - dense_2_acc_24: 0.4833 - dense_2_acc_25: 0.3667 - dense_2_acc_26: 0.4833 - dense_2_acc_27: 0.5000 - dense_2_acc_28: 0.4500 - dense_2_acc_29: 0.4667 - dense_2_acc_30: 0.0167             \n",
      "Epoch 21/100\n"
     ]
    },
    {
     "name": "stdout",
     "output_type": "stream",
     "text": [
      "60/60 [==============================] - 1s - loss: 54.1859 - dense_2_loss_1: 4.1095 - dense_2_loss_2: 3.5086 - dense_2_loss_3: 2.8021 - dense_2_loss_4: 2.5510 - dense_2_loss_5: 2.1361 - dense_2_loss_6: 1.9607 - dense_2_loss_7: 1.8456 - dense_2_loss_8: 1.8066 - dense_2_loss_9: 1.7290 - dense_2_loss_10: 1.7275 - dense_2_loss_11: 1.7766 - dense_2_loss_12: 1.5339 - dense_2_loss_13: 1.4307 - dense_2_loss_14: 1.4852 - dense_2_loss_15: 1.6186 - dense_2_loss_16: 1.6572 - dense_2_loss_17: 1.4947 - dense_2_loss_18: 1.5963 - dense_2_loss_19: 1.5988 - dense_2_loss_20: 1.5561 - dense_2_loss_21: 1.6095 - dense_2_loss_22: 1.5335 - dense_2_loss_23: 1.5295 - dense_2_loss_24: 1.6414 - dense_2_loss_25: 1.6259 - dense_2_loss_26: 1.5237 - dense_2_loss_27: 1.6112 - dense_2_loss_28: 1.5782 - dense_2_loss_29: 1.6078 - dense_2_loss_30: 0.0000e+00 - dense_2_acc_1: 0.0667 - dense_2_acc_2: 0.3167 - dense_2_acc_3: 0.3833 - dense_2_acc_4: 0.3000 - dense_2_acc_5: 0.4000 - dense_2_acc_6: 0.4000 - dense_2_acc_7: 0.3833 - dense_2_acc_8: 0.5167 - dense_2_acc_9: 0.5333 - dense_2_acc_10: 0.5000 - dense_2_acc_11: 0.4333 - dense_2_acc_12: 0.6000 - dense_2_acc_13: 0.5833 - dense_2_acc_14: 0.5333 - dense_2_acc_15: 0.4667 - dense_2_acc_16: 0.4167 - dense_2_acc_17: 0.5500 - dense_2_acc_18: 0.4667 - dense_2_acc_19: 0.4833 - dense_2_acc_20: 0.4833 - dense_2_acc_21: 0.4667 - dense_2_acc_22: 0.5167 - dense_2_acc_23: 0.4833 - dense_2_acc_24: 0.4667 - dense_2_acc_25: 0.4167 - dense_2_acc_26: 0.4833 - dense_2_acc_27: 0.4833 - dense_2_acc_28: 0.5833 - dense_2_acc_29: 0.5167 - dense_2_acc_30: 0.0167     \n",
      "Epoch 22/100\n",
      "60/60 [==============================] - 1s - loss: 52.3193 - dense_2_loss_1: 4.1012 - dense_2_loss_2: 3.4640 - dense_2_loss_3: 2.7221 - dense_2_loss_4: 2.4564 - dense_2_loss_5: 2.0450 - dense_2_loss_6: 1.8573 - dense_2_loss_7: 1.6944 - dense_2_loss_8: 1.6549 - dense_2_loss_9: 1.6777 - dense_2_loss_10: 1.6496 - dense_2_loss_11: 1.5794 - dense_2_loss_12: 1.5202 - dense_2_loss_13: 1.3691 - dense_2_loss_14: 1.3601 - dense_2_loss_15: 1.5594 - dense_2_loss_16: 1.6175 - dense_2_loss_17: 1.4608 - dense_2_loss_18: 1.6012 - dense_2_loss_19: 1.5094 - dense_2_loss_20: 1.4989 - dense_2_loss_21: 1.5846 - dense_2_loss_22: 1.6277 - dense_2_loss_23: 1.4777 - dense_2_loss_24: 1.5870 - dense_2_loss_25: 1.5127 - dense_2_loss_26: 1.5061 - dense_2_loss_27: 1.5781 - dense_2_loss_28: 1.3921 - dense_2_loss_29: 1.6543 - dense_2_loss_30: 0.0000e+00 - dense_2_acc_1: 0.0667 - dense_2_acc_2: 0.3167 - dense_2_acc_3: 0.3833 - dense_2_acc_4: 0.3333 - dense_2_acc_5: 0.3833 - dense_2_acc_6: 0.4667 - dense_2_acc_7: 0.4833 - dense_2_acc_8: 0.5667 - dense_2_acc_9: 0.5500 - dense_2_acc_10: 0.4833 - dense_2_acc_11: 0.3500 - dense_2_acc_12: 0.4167 - dense_2_acc_13: 0.6000 - dense_2_acc_14: 0.5833 - dense_2_acc_15: 0.4667 - dense_2_acc_16: 0.4833 - dense_2_acc_17: 0.5833 - dense_2_acc_18: 0.4500 - dense_2_acc_19: 0.5167 - dense_2_acc_20: 0.5667 - dense_2_acc_21: 0.4667 - dense_2_acc_22: 0.4333 - dense_2_acc_23: 0.5500 - dense_2_acc_24: 0.5333 - dense_2_acc_25: 0.4833 - dense_2_acc_26: 0.4167 - dense_2_acc_27: 0.5333 - dense_2_acc_28: 0.6333 - dense_2_acc_29: 0.4667 - dense_2_acc_30: 0.0167     \n",
      "Epoch 23/100\n",
      "60/60 [==============================] - 1s - loss: 48.5901 - dense_2_loss_1: 4.0936 - dense_2_loss_2: 3.4178 - dense_2_loss_3: 2.6458 - dense_2_loss_4: 2.3814 - dense_2_loss_5: 1.9581 - dense_2_loss_6: 1.7621 - dense_2_loss_7: 1.5404 - dense_2_loss_8: 1.5545 - dense_2_loss_9: 1.5071 - dense_2_loss_10: 1.4629 - dense_2_loss_11: 1.4584 - dense_2_loss_12: 1.3508 - dense_2_loss_13: 1.2450 - dense_2_loss_14: 1.2446 - dense_2_loss_15: 1.4072 - dense_2_loss_16: 1.4125 - dense_2_loss_17: 1.3761 - dense_2_loss_18: 1.4207 - dense_2_loss_19: 1.3790 - dense_2_loss_20: 1.2962 - dense_2_loss_21: 1.4149 - dense_2_loss_22: 1.4121 - dense_2_loss_23: 1.4112 - dense_2_loss_24: 1.3853 - dense_2_loss_25: 1.3683 - dense_2_loss_26: 1.3935 - dense_2_loss_27: 1.4689 - dense_2_loss_28: 1.3633 - dense_2_loss_29: 1.4585 - dense_2_loss_30: 0.0000e+00 - dense_2_acc_1: 0.0667 - dense_2_acc_2: 0.2833 - dense_2_acc_3: 0.4167 - dense_2_acc_4: 0.3167 - dense_2_acc_5: 0.4000 - dense_2_acc_6: 0.4667 - dense_2_acc_7: 0.6667 - dense_2_acc_8: 0.6333 - dense_2_acc_9: 0.6000 - dense_2_acc_10: 0.5500 - dense_2_acc_11: 0.5000 - dense_2_acc_12: 0.6167 - dense_2_acc_13: 0.7000 - dense_2_acc_14: 0.6833 - dense_2_acc_15: 0.6000 - dense_2_acc_16: 0.6333 - dense_2_acc_17: 0.6000 - dense_2_acc_18: 0.5833 - dense_2_acc_19: 0.6167 - dense_2_acc_20: 0.6500 - dense_2_acc_21: 0.6500 - dense_2_acc_22: 0.6667 - dense_2_acc_23: 0.6500 - dense_2_acc_24: 0.6333 - dense_2_acc_25: 0.5667 - dense_2_acc_26: 0.5667 - dense_2_acc_27: 0.6000 - dense_2_acc_28: 0.6167 - dense_2_acc_29: 0.5833 - dense_2_acc_30: 0.0167         \n",
      "Epoch 24/100\n",
      "60/60 [==============================] - 1s - loss: 46.7781 - dense_2_loss_1: 4.0835 - dense_2_loss_2: 3.3725 - dense_2_loss_3: 2.5632 - dense_2_loss_4: 2.3108 - dense_2_loss_5: 1.8870 - dense_2_loss_6: 1.6753 - dense_2_loss_7: 1.4255 - dense_2_loss_8: 1.4695 - dense_2_loss_9: 1.4229 - dense_2_loss_10: 1.3441 - dense_2_loss_11: 1.3874 - dense_2_loss_12: 1.2614 - dense_2_loss_13: 1.2129 - dense_2_loss_14: 1.2005 - dense_2_loss_15: 1.2933 - dense_2_loss_16: 1.3714 - dense_2_loss_17: 1.3347 - dense_2_loss_18: 1.3562 - dense_2_loss_19: 1.3038 - dense_2_loss_20: 1.2537 - dense_2_loss_21: 1.3605 - dense_2_loss_22: 1.3421 - dense_2_loss_23: 1.3820 - dense_2_loss_24: 1.3560 - dense_2_loss_25: 1.3303 - dense_2_loss_26: 1.3319 - dense_2_loss_27: 1.3921 - dense_2_loss_28: 1.3473 - dense_2_loss_29: 1.4064 - dense_2_loss_30: 0.0000e+00 - dense_2_acc_1: 0.0667 - dense_2_acc_2: 0.2833 - dense_2_acc_3: 0.4167 - dense_2_acc_4: 0.3167 - dense_2_acc_5: 0.4167 - dense_2_acc_6: 0.5000 - dense_2_acc_7: 0.7333 - dense_2_acc_8: 0.6833 - dense_2_acc_9: 0.6667 - dense_2_acc_10: 0.7167 - dense_2_acc_11: 0.5833 - dense_2_acc_12: 0.6833 - dense_2_acc_13: 0.7833 - dense_2_acc_14: 0.7667 - dense_2_acc_15: 0.6833 - dense_2_acc_16: 0.6333 - dense_2_acc_17: 0.6167 - dense_2_acc_18: 0.6500 - dense_2_acc_19: 0.6500 - dense_2_acc_20: 0.7000 - dense_2_acc_21: 0.6833 - dense_2_acc_22: 0.6333 - dense_2_acc_23: 0.6333 - dense_2_acc_24: 0.5833 - dense_2_acc_25: 0.6000 - dense_2_acc_26: 0.6333 - dense_2_acc_27: 0.6833 - dense_2_acc_28: 0.7500 - dense_2_acc_29: 0.7000 - dense_2_acc_30: 0.0167     \n",
      "Epoch 25/100\n",
      "60/60 [==============================] - 1s - loss: 43.9631 - dense_2_loss_1: 4.0750 - dense_2_loss_2: 3.3235 - dense_2_loss_3: 2.4864 - dense_2_loss_4: 2.2219 - dense_2_loss_5: 1.8106 - dense_2_loss_6: 1.5860 - dense_2_loss_7: 1.3346 - dense_2_loss_8: 1.3589 - dense_2_loss_9: 1.3322 - dense_2_loss_10: 1.2445 - dense_2_loss_11: 1.2857 - dense_2_loss_12: 1.1794 - dense_2_loss_13: 1.1287 - dense_2_loss_14: 1.1199 - dense_2_loss_15: 1.2026 - dense_2_loss_16: 1.2779 - dense_2_loss_17: 1.2354 - dense_2_loss_18: 1.2176 - dense_2_loss_19: 1.1980 - dense_2_loss_20: 1.1729 - dense_2_loss_21: 1.2866 - dense_2_loss_22: 1.2246 - dense_2_loss_23: 1.2208 - dense_2_loss_24: 1.1988 - dense_2_loss_25: 1.2423 - dense_2_loss_26: 1.2295 - dense_2_loss_27: 1.2521 - dense_2_loss_28: 1.2197 - dense_2_loss_29: 1.2969 - dense_2_loss_30: 0.0000e+00 - dense_2_acc_1: 0.0667 - dense_2_acc_2: 0.2667 - dense_2_acc_3: 0.4167 - dense_2_acc_4: 0.3333 - dense_2_acc_5: 0.4167 - dense_2_acc_6: 0.5833 - dense_2_acc_7: 0.7167 - dense_2_acc_8: 0.6667 - dense_2_acc_9: 0.6833 - dense_2_acc_10: 0.7000 - dense_2_acc_11: 0.7000 - dense_2_acc_12: 0.8333 - dense_2_acc_13: 0.8333 - dense_2_acc_14: 0.7833 - dense_2_acc_15: 0.6833 - dense_2_acc_16: 0.7333 - dense_2_acc_17: 0.7500 - dense_2_acc_18: 0.7333 - dense_2_acc_19: 0.7167 - dense_2_acc_20: 0.8500 - dense_2_acc_21: 0.6833 - dense_2_acc_22: 0.7333 - dense_2_acc_23: 0.7667 - dense_2_acc_24: 0.7500 - dense_2_acc_25: 0.6333 - dense_2_acc_26: 0.7333 - dense_2_acc_27: 0.7167 - dense_2_acc_28: 0.8000 - dense_2_acc_29: 0.7333 - dense_2_acc_30: 0.0167         \n",
      "Epoch 26/100\n",
      "60/60 [==============================] - 1s - loss: 41.9493 - dense_2_loss_1: 4.0665 - dense_2_loss_2: 3.2745 - dense_2_loss_3: 2.4133 - dense_2_loss_4: 2.1363 - dense_2_loss_5: 1.7161 - dense_2_loss_6: 1.4925 - dense_2_loss_7: 1.2636 - dense_2_loss_8: 1.2755 - dense_2_loss_9: 1.2676 - dense_2_loss_10: 1.1964 - dense_2_loss_11: 1.1835 - dense_2_loss_12: 1.1057 - dense_2_loss_13: 1.0787 - dense_2_loss_14: 1.0762 - dense_2_loss_15: 1.1463 - dense_2_loss_16: 1.2104 - dense_2_loss_17: 1.1725 - dense_2_loss_18: 1.1280 - dense_2_loss_19: 1.1297 - dense_2_loss_20: 1.1501 - dense_2_loss_21: 1.2045 - dense_2_loss_22: 1.1769 - dense_2_loss_23: 1.1210 - dense_2_loss_24: 1.1187 - dense_2_loss_25: 1.1929 - dense_2_loss_26: 1.1597 - dense_2_loss_27: 1.1405 - dense_2_loss_28: 1.1272 - dense_2_loss_29: 1.2248 - dense_2_loss_30: 0.0000e+00 - dense_2_acc_1: 0.0667 - dense_2_acc_2: 0.2667 - dense_2_acc_3: 0.4333 - dense_2_acc_4: 0.3333 - dense_2_acc_5: 0.4500 - dense_2_acc_6: 0.6667 - dense_2_acc_7: 0.7333 - dense_2_acc_8: 0.7333 - dense_2_acc_9: 0.7000 - dense_2_acc_10: 0.6833 - dense_2_acc_11: 0.6833 - dense_2_acc_12: 0.8167 - dense_2_acc_13: 0.8000 - dense_2_acc_14: 0.7667 - dense_2_acc_15: 0.7000 - dense_2_acc_16: 0.7333 - dense_2_acc_17: 0.8333 - dense_2_acc_18: 0.8000 - dense_2_acc_19: 0.7833 - dense_2_acc_20: 0.7833 - dense_2_acc_21: 0.7667 - dense_2_acc_22: 0.8333 - dense_2_acc_23: 0.7667 - dense_2_acc_24: 0.7167 - dense_2_acc_25: 0.6500 - dense_2_acc_26: 0.7500 - dense_2_acc_27: 0.7167 - dense_2_acc_28: 0.8167 - dense_2_acc_29: 0.7833 - dense_2_acc_30: 0.0167     \n",
      "Epoch 27/100\n",
      "60/60 [==============================] - 1s - loss: 39.5823 - dense_2_loss_1: 4.0598 - dense_2_loss_2: 3.2253 - dense_2_loss_3: 2.3427 - dense_2_loss_4: 2.0465 - dense_2_loss_5: 1.6200 - dense_2_loss_6: 1.3872 - dense_2_loss_7: 1.1861 - dense_2_loss_8: 1.1928 - dense_2_loss_9: 1.1533 - dense_2_loss_10: 1.1206 - dense_2_loss_11: 1.1063 - dense_2_loss_12: 1.0140 - dense_2_loss_13: 0.9995 - dense_2_loss_14: 0.9754 - dense_2_loss_15: 1.0900 - dense_2_loss_16: 1.0846 - dense_2_loss_17: 1.0844 - dense_2_loss_18: 1.0459 - dense_2_loss_19: 1.0308 - dense_2_loss_20: 1.0792 - dense_2_loss_21: 1.0859 - dense_2_loss_22: 1.0855 - dense_2_loss_23: 1.0691 - dense_2_loss_24: 1.0231 - dense_2_loss_25: 1.1313 - dense_2_loss_26: 1.0709 - dense_2_loss_27: 1.1054 - dense_2_loss_28: 1.0410 - dense_2_loss_29: 1.1256 - dense_2_loss_30: 0.0000e+00 - dense_2_acc_1: 0.0667 - dense_2_acc_2: 0.2833 - dense_2_acc_3: 0.4333 - dense_2_acc_4: 0.3500 - dense_2_acc_5: 0.5000 - dense_2_acc_6: 0.6833 - dense_2_acc_7: 0.8000 - dense_2_acc_8: 0.7333 - dense_2_acc_9: 0.7000 - dense_2_acc_10: 0.7167 - dense_2_acc_11: 0.7333 - dense_2_acc_12: 0.8333 - dense_2_acc_13: 0.8333 - dense_2_acc_14: 0.8500 - dense_2_acc_15: 0.7500 - dense_2_acc_16: 0.8000 - dense_2_acc_17: 0.8667 - dense_2_acc_18: 0.8333 - dense_2_acc_19: 0.8500 - dense_2_acc_20: 0.8500 - dense_2_acc_21: 0.7833 - dense_2_acc_22: 0.7833 - dense_2_acc_23: 0.8000 - dense_2_acc_24: 0.8667 - dense_2_acc_25: 0.7333 - dense_2_acc_26: 0.7833 - dense_2_acc_27: 0.7667 - dense_2_acc_28: 0.8333 - dense_2_acc_29: 0.8167 - dense_2_acc_30: 0.0167         \n",
      "Epoch 28/100\n",
      "60/60 [==============================] - 1s - loss: 37.5977 - dense_2_loss_1: 4.0529 - dense_2_loss_2: 3.1794 - dense_2_loss_3: 2.2685 - dense_2_loss_4: 1.9593 - dense_2_loss_5: 1.5388 - dense_2_loss_6: 1.2896 - dense_2_loss_7: 1.0975 - dense_2_loss_8: 1.1313 - dense_2_loss_9: 1.0515 - dense_2_loss_10: 1.0294 - dense_2_loss_11: 1.0264 - dense_2_loss_12: 0.9311 - dense_2_loss_13: 0.9387 - dense_2_loss_14: 0.8957 - dense_2_loss_15: 1.0402 - dense_2_loss_16: 0.9868 - dense_2_loss_17: 0.9921 - dense_2_loss_18: 0.9836 - dense_2_loss_19: 1.0054 - dense_2_loss_20: 0.9873 - dense_2_loss_21: 1.0246 - dense_2_loss_22: 1.0437 - dense_2_loss_23: 1.0359 - dense_2_loss_24: 0.9473 - dense_2_loss_25: 1.0505 - dense_2_loss_26: 1.0110 - dense_2_loss_27: 1.0687 - dense_2_loss_28: 1.0017 - dense_2_loss_29: 1.0288 - dense_2_loss_30: 0.0000e+00 - dense_2_acc_1: 0.0667 - dense_2_acc_2: 0.2833 - dense_2_acc_3: 0.4667 - dense_2_acc_4: 0.4000 - dense_2_acc_5: 0.5167 - dense_2_acc_6: 0.7000 - dense_2_acc_7: 0.8500 - dense_2_acc_8: 0.7667 - dense_2_acc_9: 0.7500 - dense_2_acc_10: 0.7333 - dense_2_acc_11: 0.7833 - dense_2_acc_12: 0.8500 - dense_2_acc_13: 0.8500 - dense_2_acc_14: 0.8333 - dense_2_acc_15: 0.8000 - dense_2_acc_16: 0.8667 - dense_2_acc_17: 0.9000 - dense_2_acc_18: 0.8500 - dense_2_acc_19: 0.8333 - dense_2_acc_20: 0.9167 - dense_2_acc_21: 0.8000 - dense_2_acc_22: 0.8167 - dense_2_acc_23: 0.7333 - dense_2_acc_24: 0.8667 - dense_2_acc_25: 0.7167 - dense_2_acc_26: 0.8000 - dense_2_acc_27: 0.7500 - dense_2_acc_28: 0.8333 - dense_2_acc_29: 0.8500 - dense_2_acc_30: 0.0167     \n",
      "Epoch 29/100\n",
      "60/60 [==============================] - 1s - loss: 35.6166 - dense_2_loss_1: 4.0460 - dense_2_loss_2: 3.1331 - dense_2_loss_3: 2.1935 - dense_2_loss_4: 1.8791 - dense_2_loss_5: 1.4491 - dense_2_loss_6: 1.1943 - dense_2_loss_7: 1.0207 - dense_2_loss_8: 1.0654 - dense_2_loss_9: 0.9660 - dense_2_loss_10: 0.9500 - dense_2_loss_11: 0.9580 - dense_2_loss_12: 0.8790 - dense_2_loss_13: 0.8549 - dense_2_loss_14: 0.8497 - dense_2_loss_15: 0.9682 - dense_2_loss_16: 0.9308 - dense_2_loss_17: 0.9108 - dense_2_loss_18: 0.9354 - dense_2_loss_19: 0.9271 - dense_2_loss_20: 0.9211 - dense_2_loss_21: 0.9660 - dense_2_loss_22: 0.9817 - dense_2_loss_23: 0.9725 - dense_2_loss_24: 0.8903 - dense_2_loss_25: 0.9471 - dense_2_loss_26: 0.9400 - dense_2_loss_27: 1.0035 - dense_2_loss_28: 0.9373 - dense_2_loss_29: 0.9459 - dense_2_loss_30: 0.0000e+00 - dense_2_acc_1: 0.0667 - dense_2_acc_2: 0.3000 - dense_2_acc_3: 0.4833 - dense_2_acc_4: 0.4000 - dense_2_acc_5: 0.5500 - dense_2_acc_6: 0.7167 - dense_2_acc_7: 0.8833 - dense_2_acc_8: 0.8167 - dense_2_acc_9: 0.7833 - dense_2_acc_10: 0.8167 - dense_2_acc_11: 0.9000 - dense_2_acc_12: 0.9000 - dense_2_acc_13: 0.9000 - dense_2_acc_14: 0.9000 - dense_2_acc_15: 0.8667 - dense_2_acc_16: 0.9000 - dense_2_acc_17: 0.9333 - dense_2_acc_18: 0.8833 - dense_2_acc_19: 0.8667 - dense_2_acc_20: 0.9667 - dense_2_acc_21: 0.8500 - dense_2_acc_22: 0.8833 - dense_2_acc_23: 0.8833 - dense_2_acc_24: 0.9000 - dense_2_acc_25: 0.8333 - dense_2_acc_26: 0.8667 - dense_2_acc_27: 0.8167 - dense_2_acc_28: 0.8667 - dense_2_acc_29: 0.9000 - dense_2_acc_30: 0.0167     \n",
      "Epoch 30/100\n",
      "60/60 [==============================] - 1s - loss: 33.6968 - dense_2_loss_1: 4.0392 - dense_2_loss_2: 3.0868 - dense_2_loss_3: 2.1206 - dense_2_loss_4: 1.7941 - dense_2_loss_5: 1.3661 - dense_2_loss_6: 1.1280 - dense_2_loss_7: 0.9760 - dense_2_loss_8: 0.9697 - dense_2_loss_9: 0.8995 - dense_2_loss_10: 0.8565 - dense_2_loss_11: 0.8959 - dense_2_loss_12: 0.8358 - dense_2_loss_13: 0.7635 - dense_2_loss_14: 0.8008 - dense_2_loss_15: 0.8933 - dense_2_loss_16: 0.8746 - dense_2_loss_17: 0.8443 - dense_2_loss_18: 0.8722 - dense_2_loss_19: 0.8559 - dense_2_loss_20: 0.8527 - dense_2_loss_21: 0.9094 - dense_2_loss_22: 0.8914 - dense_2_loss_23: 0.8935 - dense_2_loss_24: 0.8563 - dense_2_loss_25: 0.8681 - dense_2_loss_26: 0.8658 - dense_2_loss_27: 0.9094 - dense_2_loss_28: 0.8653 - dense_2_loss_29: 0.9121 - dense_2_loss_30: 0.0000e+00 - dense_2_acc_1: 0.0333 - dense_2_acc_2: 0.3167 - dense_2_acc_3: 0.5000 - dense_2_acc_4: 0.4167 - dense_2_acc_5: 0.5833 - dense_2_acc_6: 0.7500 - dense_2_acc_7: 0.8333 - dense_2_acc_8: 0.8167 - dense_2_acc_9: 0.8167 - dense_2_acc_10: 0.8500 - dense_2_acc_11: 0.9167 - dense_2_acc_12: 0.9000 - dense_2_acc_13: 0.9167 - dense_2_acc_14: 0.9000 - dense_2_acc_15: 0.8833 - dense_2_acc_16: 0.9000 - dense_2_acc_17: 0.9333 - dense_2_acc_18: 0.9000 - dense_2_acc_19: 0.8833 - dense_2_acc_20: 0.9500 - dense_2_acc_21: 0.9000 - dense_2_acc_22: 0.8833 - dense_2_acc_23: 0.9333 - dense_2_acc_24: 0.9167 - dense_2_acc_25: 0.8500 - dense_2_acc_26: 0.9167 - dense_2_acc_27: 0.8667 - dense_2_acc_28: 0.9167 - dense_2_acc_29: 0.8500 - dense_2_acc_30: 0.0167             \n",
      "Epoch 31/100\n"
     ]
    },
    {
     "name": "stdout",
     "output_type": "stream",
     "text": [
      "60/60 [==============================] - 1s - loss: 31.8985 - dense_2_loss_1: 4.0326 - dense_2_loss_2: 3.0404 - dense_2_loss_3: 2.0511 - dense_2_loss_4: 1.7158 - dense_2_loss_5: 1.2883 - dense_2_loss_6: 1.0615 - dense_2_loss_7: 0.9138 - dense_2_loss_8: 0.8849 - dense_2_loss_9: 0.8433 - dense_2_loss_10: 0.7681 - dense_2_loss_11: 0.8251 - dense_2_loss_12: 0.7854 - dense_2_loss_13: 0.6970 - dense_2_loss_14: 0.7607 - dense_2_loss_15: 0.8046 - dense_2_loss_16: 0.8144 - dense_2_loss_17: 0.7896 - dense_2_loss_18: 0.7937 - dense_2_loss_19: 0.8203 - dense_2_loss_20: 0.7889 - dense_2_loss_21: 0.8558 - dense_2_loss_22: 0.8231 - dense_2_loss_23: 0.8136 - dense_2_loss_24: 0.8069 - dense_2_loss_25: 0.8043 - dense_2_loss_26: 0.8086 - dense_2_loss_27: 0.8344 - dense_2_loss_28: 0.8059 - dense_2_loss_29: 0.8662 - dense_2_loss_30: 0.0000e+00 - dense_2_acc_1: 0.0333 - dense_2_acc_2: 0.3333 - dense_2_acc_3: 0.5333 - dense_2_acc_4: 0.4167 - dense_2_acc_5: 0.6167 - dense_2_acc_6: 0.7667 - dense_2_acc_7: 0.8500 - dense_2_acc_8: 0.9000 - dense_2_acc_9: 0.8500 - dense_2_acc_10: 0.9000 - dense_2_acc_11: 0.9167 - dense_2_acc_12: 0.9000 - dense_2_acc_13: 0.9333 - dense_2_acc_14: 0.9333 - dense_2_acc_15: 0.9333 - dense_2_acc_16: 0.9167 - dense_2_acc_17: 0.9333 - dense_2_acc_18: 0.9167 - dense_2_acc_19: 0.9000 - dense_2_acc_20: 0.9833 - dense_2_acc_21: 0.9167 - dense_2_acc_22: 0.9167 - dense_2_acc_23: 0.9333 - dense_2_acc_24: 0.9333 - dense_2_acc_25: 0.8833 - dense_2_acc_26: 0.9167 - dense_2_acc_27: 0.9000 - dense_2_acc_28: 0.9167 - dense_2_acc_29: 0.8667 - dense_2_acc_30: 0.0167         \n",
      "Epoch 32/100\n",
      "60/60 [==============================] - 1s - loss: 30.1594 - dense_2_loss_1: 4.0263 - dense_2_loss_2: 2.9923 - dense_2_loss_3: 1.9823 - dense_2_loss_4: 1.6391 - dense_2_loss_5: 1.2107 - dense_2_loss_6: 0.9944 - dense_2_loss_7: 0.8490 - dense_2_loss_8: 0.8185 - dense_2_loss_9: 0.7903 - dense_2_loss_10: 0.7004 - dense_2_loss_11: 0.7588 - dense_2_loss_12: 0.7230 - dense_2_loss_13: 0.6417 - dense_2_loss_14: 0.7174 - dense_2_loss_15: 0.7364 - dense_2_loss_16: 0.7519 - dense_2_loss_17: 0.7235 - dense_2_loss_18: 0.7446 - dense_2_loss_19: 0.7739 - dense_2_loss_20: 0.7274 - dense_2_loss_21: 0.7846 - dense_2_loss_22: 0.7502 - dense_2_loss_23: 0.7570 - dense_2_loss_24: 0.7415 - dense_2_loss_25: 0.7444 - dense_2_loss_26: 0.7502 - dense_2_loss_27: 0.7733 - dense_2_loss_28: 0.7484 - dense_2_loss_29: 0.8078 - dense_2_loss_30: 0.0000e+00 - dense_2_acc_1: 0.0333 - dense_2_acc_2: 0.3333 - dense_2_acc_3: 0.5500 - dense_2_acc_4: 0.4167 - dense_2_acc_5: 0.6500 - dense_2_acc_6: 0.8000 - dense_2_acc_7: 0.9167 - dense_2_acc_8: 0.9500 - dense_2_acc_9: 0.8833 - dense_2_acc_10: 0.9667 - dense_2_acc_11: 0.9333 - dense_2_acc_12: 0.9000 - dense_2_acc_13: 0.9333 - dense_2_acc_14: 0.9500 - dense_2_acc_15: 0.9333 - dense_2_acc_16: 0.9500 - dense_2_acc_17: 0.9500 - dense_2_acc_18: 0.9333 - dense_2_acc_19: 0.9000 - dense_2_acc_20: 0.9667 - dense_2_acc_21: 0.9500 - dense_2_acc_22: 0.9500 - dense_2_acc_23: 0.9667 - dense_2_acc_24: 0.9667 - dense_2_acc_25: 0.9667 - dense_2_acc_26: 0.9167 - dense_2_acc_27: 0.9500 - dense_2_acc_28: 0.9500 - dense_2_acc_29: 0.9000 - dense_2_acc_30: 0.0167     \n",
      "Epoch 33/100\n",
      "60/60 [==============================] - 1s - loss: 28.5363 - dense_2_loss_1: 4.0198 - dense_2_loss_2: 2.9468 - dense_2_loss_3: 1.9192 - dense_2_loss_4: 1.5678 - dense_2_loss_5: 1.1422 - dense_2_loss_6: 0.9171 - dense_2_loss_7: 0.7913 - dense_2_loss_8: 0.7435 - dense_2_loss_9: 0.7274 - dense_2_loss_10: 0.6401 - dense_2_loss_11: 0.7004 - dense_2_loss_12: 0.6536 - dense_2_loss_13: 0.5955 - dense_2_loss_14: 0.6541 - dense_2_loss_15: 0.6670 - dense_2_loss_16: 0.7011 - dense_2_loss_17: 0.6525 - dense_2_loss_18: 0.7010 - dense_2_loss_19: 0.7153 - dense_2_loss_20: 0.6775 - dense_2_loss_21: 0.7313 - dense_2_loss_22: 0.6868 - dense_2_loss_23: 0.7193 - dense_2_loss_24: 0.7053 - dense_2_loss_25: 0.6962 - dense_2_loss_26: 0.6967 - dense_2_loss_27: 0.7183 - dense_2_loss_28: 0.7014 - dense_2_loss_29: 0.7479 - dense_2_loss_30: 0.0000e+00 - dense_2_acc_1: 0.0333 - dense_2_acc_2: 0.3333 - dense_2_acc_3: 0.5500 - dense_2_acc_4: 0.4333 - dense_2_acc_5: 0.6667 - dense_2_acc_6: 0.8500 - dense_2_acc_7: 0.9167 - dense_2_acc_8: 0.9833 - dense_2_acc_9: 0.9167 - dense_2_acc_10: 0.9667 - dense_2_acc_11: 0.9667 - dense_2_acc_12: 0.9167 - dense_2_acc_13: 0.9333 - dense_2_acc_14: 0.9667 - dense_2_acc_15: 0.9833 - dense_2_acc_16: 0.9500 - dense_2_acc_17: 0.9667 - dense_2_acc_18: 0.9333 - dense_2_acc_19: 0.9333 - dense_2_acc_20: 0.9833 - dense_2_acc_21: 0.9500 - dense_2_acc_22: 0.9833 - dense_2_acc_23: 0.9667 - dense_2_acc_24: 0.9500 - dense_2_acc_25: 0.9667 - dense_2_acc_26: 0.9333 - dense_2_acc_27: 0.9667 - dense_2_acc_28: 0.9500 - dense_2_acc_29: 0.9333 - dense_2_acc_30: 0.0167         \n",
      "Epoch 34/100\n",
      "60/60 [==============================] - 1s - loss: 27.0083 - dense_2_loss_1: 4.0141 - dense_2_loss_2: 2.8992 - dense_2_loss_3: 1.8541 - dense_2_loss_4: 1.4887 - dense_2_loss_5: 1.0720 - dense_2_loss_6: 0.8441 - dense_2_loss_7: 0.7334 - dense_2_loss_8: 0.6864 - dense_2_loss_9: 0.6608 - dense_2_loss_10: 0.5861 - dense_2_loss_11: 0.6637 - dense_2_loss_12: 0.5944 - dense_2_loss_13: 0.5515 - dense_2_loss_14: 0.5871 - dense_2_loss_15: 0.6208 - dense_2_loss_16: 0.6466 - dense_2_loss_17: 0.6079 - dense_2_loss_18: 0.6489 - dense_2_loss_19: 0.6713 - dense_2_loss_20: 0.6261 - dense_2_loss_21: 0.6760 - dense_2_loss_22: 0.6516 - dense_2_loss_23: 0.6774 - dense_2_loss_24: 0.6458 - dense_2_loss_25: 0.6500 - dense_2_loss_26: 0.6434 - dense_2_loss_27: 0.6677 - dense_2_loss_28: 0.6536 - dense_2_loss_29: 0.6854 - dense_2_loss_30: 0.0000e+00 - dense_2_acc_1: 0.0333 - dense_2_acc_2: 0.3833 - dense_2_acc_3: 0.5500 - dense_2_acc_4: 0.5000 - dense_2_acc_5: 0.6833 - dense_2_acc_6: 0.8667 - dense_2_acc_7: 0.9167 - dense_2_acc_8: 0.9667 - dense_2_acc_9: 0.9333 - dense_2_acc_10: 0.9833 - dense_2_acc_11: 0.9667 - dense_2_acc_12: 0.9667 - dense_2_acc_13: 0.9500 - dense_2_acc_14: 0.9833 - dense_2_acc_15: 0.9833 - dense_2_acc_16: 0.9500 - dense_2_acc_17: 0.9667 - dense_2_acc_18: 0.9667 - dense_2_acc_19: 0.9333 - dense_2_acc_20: 0.9833 - dense_2_acc_21: 0.9500 - dense_2_acc_22: 0.9833 - dense_2_acc_23: 0.9667 - dense_2_acc_24: 0.9667 - dense_2_acc_25: 0.9333 - dense_2_acc_26: 0.9333 - dense_2_acc_27: 0.9333 - dense_2_acc_28: 0.9500 - dense_2_acc_29: 0.9500 - dense_2_acc_30: 0.0167         \n",
      "Epoch 35/100\n",
      "60/60 [==============================] - 1s - loss: 25.5348 - dense_2_loss_1: 4.0081 - dense_2_loss_2: 2.8526 - dense_2_loss_3: 1.7906 - dense_2_loss_4: 1.4126 - dense_2_loss_5: 1.0104 - dense_2_loss_6: 0.7750 - dense_2_loss_7: 0.6867 - dense_2_loss_8: 0.6351 - dense_2_loss_9: 0.6099 - dense_2_loss_10: 0.5396 - dense_2_loss_11: 0.6163 - dense_2_loss_12: 0.5499 - dense_2_loss_13: 0.5145 - dense_2_loss_14: 0.5307 - dense_2_loss_15: 0.5705 - dense_2_loss_16: 0.6066 - dense_2_loss_17: 0.5690 - dense_2_loss_18: 0.5898 - dense_2_loss_19: 0.6114 - dense_2_loss_20: 0.5838 - dense_2_loss_21: 0.6282 - dense_2_loss_22: 0.6092 - dense_2_loss_23: 0.6217 - dense_2_loss_24: 0.5961 - dense_2_loss_25: 0.6081 - dense_2_loss_26: 0.5860 - dense_2_loss_27: 0.5929 - dense_2_loss_28: 0.5994 - dense_2_loss_29: 0.6298 - dense_2_loss_30: 0.0000e+00 - dense_2_acc_1: 0.0333 - dense_2_acc_2: 0.4000 - dense_2_acc_3: 0.5500 - dense_2_acc_4: 0.5000 - dense_2_acc_5: 0.7333 - dense_2_acc_6: 0.8833 - dense_2_acc_7: 0.9167 - dense_2_acc_8: 0.9667 - dense_2_acc_9: 0.9333 - dense_2_acc_10: 1.0000 - dense_2_acc_11: 0.9667 - dense_2_acc_12: 0.9833 - dense_2_acc_13: 0.9667 - dense_2_acc_14: 1.0000 - dense_2_acc_15: 0.9833 - dense_2_acc_16: 0.9500 - dense_2_acc_17: 0.9667 - dense_2_acc_18: 0.9833 - dense_2_acc_19: 0.9500 - dense_2_acc_20: 1.0000 - dense_2_acc_21: 0.9833 - dense_2_acc_22: 0.9833 - dense_2_acc_23: 0.9667 - dense_2_acc_24: 0.9667 - dense_2_acc_25: 0.9667 - dense_2_acc_26: 0.9667 - dense_2_acc_27: 1.0000 - dense_2_acc_28: 0.9667 - dense_2_acc_29: 0.9667 - dense_2_acc_30: 0.0167     \n",
      "Epoch 36/100\n",
      "60/60 [==============================] - 1s - loss: 24.1835 - dense_2_loss_1: 4.0021 - dense_2_loss_2: 2.8073 - dense_2_loss_3: 1.7300 - dense_2_loss_4: 1.3344 - dense_2_loss_5: 0.9498 - dense_2_loss_6: 0.7211 - dense_2_loss_7: 0.6341 - dense_2_loss_8: 0.5867 - dense_2_loss_9: 0.5664 - dense_2_loss_10: 0.4935 - dense_2_loss_11: 0.5603 - dense_2_loss_12: 0.5100 - dense_2_loss_13: 0.4713 - dense_2_loss_14: 0.4854 - dense_2_loss_15: 0.5294 - dense_2_loss_16: 0.5670 - dense_2_loss_17: 0.5371 - dense_2_loss_18: 0.5396 - dense_2_loss_19: 0.5504 - dense_2_loss_20: 0.5533 - dense_2_loss_21: 0.5861 - dense_2_loss_22: 0.5678 - dense_2_loss_23: 0.5678 - dense_2_loss_24: 0.5509 - dense_2_loss_25: 0.5648 - dense_2_loss_26: 0.5354 - dense_2_loss_27: 0.5431 - dense_2_loss_28: 0.5485 - dense_2_loss_29: 0.5901 - dense_2_loss_30: 0.0000e+00 - dense_2_acc_1: 0.0333 - dense_2_acc_2: 0.4167 - dense_2_acc_3: 0.5500 - dense_2_acc_4: 0.5000 - dense_2_acc_5: 0.7667 - dense_2_acc_6: 0.8833 - dense_2_acc_7: 0.9333 - dense_2_acc_8: 0.9667 - dense_2_acc_9: 0.9333 - dense_2_acc_10: 1.0000 - dense_2_acc_11: 0.9667 - dense_2_acc_12: 0.9833 - dense_2_acc_13: 1.0000 - dense_2_acc_14: 1.0000 - dense_2_acc_15: 1.0000 - dense_2_acc_16: 0.9500 - dense_2_acc_17: 0.9667 - dense_2_acc_18: 0.9833 - dense_2_acc_19: 0.9500 - dense_2_acc_20: 1.0000 - dense_2_acc_21: 0.9833 - dense_2_acc_22: 0.9833 - dense_2_acc_23: 0.9667 - dense_2_acc_24: 0.9833 - dense_2_acc_25: 0.9833 - dense_2_acc_26: 0.9667 - dense_2_acc_27: 1.0000 - dense_2_acc_28: 0.9667 - dense_2_acc_29: 0.9667 - dense_2_acc_30: 0.0167         \n",
      "Epoch 37/100\n",
      "60/60 [==============================] - 1s - loss: 22.9191 - dense_2_loss_1: 3.9962 - dense_2_loss_2: 2.7614 - dense_2_loss_3: 1.6692 - dense_2_loss_4: 1.2615 - dense_2_loss_5: 0.8882 - dense_2_loss_6: 0.6773 - dense_2_loss_7: 0.5862 - dense_2_loss_8: 0.5413 - dense_2_loss_9: 0.5213 - dense_2_loss_10: 0.4492 - dense_2_loss_11: 0.5128 - dense_2_loss_12: 0.4725 - dense_2_loss_13: 0.4294 - dense_2_loss_14: 0.4461 - dense_2_loss_15: 0.4861 - dense_2_loss_16: 0.5208 - dense_2_loss_17: 0.5009 - dense_2_loss_18: 0.4911 - dense_2_loss_19: 0.5016 - dense_2_loss_20: 0.5131 - dense_2_loss_21: 0.5467 - dense_2_loss_22: 0.5327 - dense_2_loss_23: 0.5245 - dense_2_loss_24: 0.5025 - dense_2_loss_25: 0.5168 - dense_2_loss_26: 0.5014 - dense_2_loss_27: 0.5033 - dense_2_loss_28: 0.5027 - dense_2_loss_29: 0.5624 - dense_2_loss_30: 0.0000e+00 - dense_2_acc_1: 0.0333 - dense_2_acc_2: 0.4000 - dense_2_acc_3: 0.5667 - dense_2_acc_4: 0.5500 - dense_2_acc_5: 0.8000 - dense_2_acc_6: 0.8833 - dense_2_acc_7: 0.9333 - dense_2_acc_8: 0.9833 - dense_2_acc_9: 0.9333 - dense_2_acc_10: 1.0000 - dense_2_acc_11: 0.9667 - dense_2_acc_12: 0.9833 - dense_2_acc_13: 0.9833 - dense_2_acc_14: 1.0000 - dense_2_acc_15: 1.0000 - dense_2_acc_16: 0.9500 - dense_2_acc_17: 1.0000 - dense_2_acc_18: 1.0000 - dense_2_acc_19: 0.9500 - dense_2_acc_20: 1.0000 - dense_2_acc_21: 1.0000 - dense_2_acc_22: 0.9833 - dense_2_acc_23: 0.9667 - dense_2_acc_24: 0.9833 - dense_2_acc_25: 1.0000 - dense_2_acc_26: 0.9667 - dense_2_acc_27: 1.0000 - dense_2_acc_28: 0.9667 - dense_2_acc_29: 0.9667 - dense_2_acc_30: 0.0167     \n",
      "Epoch 38/100\n",
      "60/60 [==============================] - 1s - loss: 21.7385 - dense_2_loss_1: 3.9902 - dense_2_loss_2: 2.7158 - dense_2_loss_3: 1.6118 - dense_2_loss_4: 1.1917 - dense_2_loss_5: 0.8294 - dense_2_loss_6: 0.6374 - dense_2_loss_7: 0.5402 - dense_2_loss_8: 0.5029 - dense_2_loss_9: 0.4815 - dense_2_loss_10: 0.4099 - dense_2_loss_11: 0.4737 - dense_2_loss_12: 0.4318 - dense_2_loss_13: 0.3911 - dense_2_loss_14: 0.4143 - dense_2_loss_15: 0.4487 - dense_2_loss_16: 0.4742 - dense_2_loss_17: 0.4621 - dense_2_loss_18: 0.4545 - dense_2_loss_19: 0.4620 - dense_2_loss_20: 0.4755 - dense_2_loss_21: 0.5052 - dense_2_loss_22: 0.4902 - dense_2_loss_23: 0.4849 - dense_2_loss_24: 0.4575 - dense_2_loss_25: 0.4787 - dense_2_loss_26: 0.4627 - dense_2_loss_27: 0.4705 - dense_2_loss_28: 0.4612 - dense_2_loss_29: 0.5288 - dense_2_loss_30: 0.0000e+00 - dense_2_acc_1: 0.0333 - dense_2_acc_2: 0.4000 - dense_2_acc_3: 0.5667 - dense_2_acc_4: 0.6167 - dense_2_acc_5: 0.8000 - dense_2_acc_6: 0.8833 - dense_2_acc_7: 0.9333 - dense_2_acc_8: 0.9833 - dense_2_acc_9: 0.9333 - dense_2_acc_10: 1.0000 - dense_2_acc_11: 0.9667 - dense_2_acc_12: 0.9833 - dense_2_acc_13: 1.0000 - dense_2_acc_14: 1.0000 - dense_2_acc_15: 1.0000 - dense_2_acc_16: 0.9500 - dense_2_acc_17: 1.0000 - dense_2_acc_18: 1.0000 - dense_2_acc_19: 0.9667 - dense_2_acc_20: 1.0000 - dense_2_acc_21: 1.0000 - dense_2_acc_22: 0.9833 - dense_2_acc_23: 0.9667 - dense_2_acc_24: 1.0000 - dense_2_acc_25: 1.0000 - dense_2_acc_26: 0.9833 - dense_2_acc_27: 1.0000 - dense_2_acc_28: 0.9667 - dense_2_acc_29: 0.9667 - dense_2_acc_30: 0.0167         \n",
      "Epoch 39/100\n",
      "60/60 [==============================] - 1s - loss: 20.6197 - dense_2_loss_1: 3.9847 - dense_2_loss_2: 2.6710 - dense_2_loss_3: 1.5539 - dense_2_loss_4: 1.1225 - dense_2_loss_5: 0.7738 - dense_2_loss_6: 0.5917 - dense_2_loss_7: 0.5006 - dense_2_loss_8: 0.4684 - dense_2_loss_9: 0.4409 - dense_2_loss_10: 0.3751 - dense_2_loss_11: 0.4431 - dense_2_loss_12: 0.3929 - dense_2_loss_13: 0.3581 - dense_2_loss_14: 0.3856 - dense_2_loss_15: 0.4108 - dense_2_loss_16: 0.4353 - dense_2_loss_17: 0.4181 - dense_2_loss_18: 0.4231 - dense_2_loss_19: 0.4312 - dense_2_loss_20: 0.4375 - dense_2_loss_21: 0.4630 - dense_2_loss_22: 0.4518 - dense_2_loss_23: 0.4473 - dense_2_loss_24: 0.4244 - dense_2_loss_25: 0.4409 - dense_2_loss_26: 0.4266 - dense_2_loss_27: 0.4336 - dense_2_loss_28: 0.4239 - dense_2_loss_29: 0.4900 - dense_2_loss_30: 0.0000e+00 - dense_2_acc_1: 0.0333 - dense_2_acc_2: 0.4000 - dense_2_acc_3: 0.6333 - dense_2_acc_4: 0.7000 - dense_2_acc_5: 0.8000 - dense_2_acc_6: 0.9167 - dense_2_acc_7: 0.9500 - dense_2_acc_8: 0.9833 - dense_2_acc_9: 0.9500 - dense_2_acc_10: 1.0000 - dense_2_acc_11: 0.9833 - dense_2_acc_12: 1.0000 - dense_2_acc_13: 1.0000 - dense_2_acc_14: 1.0000 - dense_2_acc_15: 1.0000 - dense_2_acc_16: 1.0000 - dense_2_acc_17: 1.0000 - dense_2_acc_18: 1.0000 - dense_2_acc_19: 1.0000 - dense_2_acc_20: 1.0000 - dense_2_acc_21: 1.0000 - dense_2_acc_22: 0.9833 - dense_2_acc_23: 0.9667 - dense_2_acc_24: 1.0000 - dense_2_acc_25: 1.0000 - dense_2_acc_26: 0.9833 - dense_2_acc_27: 1.0000 - dense_2_acc_28: 0.9667 - dense_2_acc_29: 0.9667 - dense_2_acc_30: 0.0167     \n",
      "Epoch 40/100\n",
      "60/60 [==============================] - 1s - loss: 19.6037 - dense_2_loss_1: 3.9791 - dense_2_loss_2: 2.6251 - dense_2_loss_3: 1.4994 - dense_2_loss_4: 1.0569 - dense_2_loss_5: 0.7203 - dense_2_loss_6: 0.5509 - dense_2_loss_7: 0.4620 - dense_2_loss_8: 0.4362 - dense_2_loss_9: 0.4025 - dense_2_loss_10: 0.3439 - dense_2_loss_11: 0.4150 - dense_2_loss_12: 0.3608 - dense_2_loss_13: 0.3273 - dense_2_loss_14: 0.3579 - dense_2_loss_15: 0.3771 - dense_2_loss_16: 0.4017 - dense_2_loss_17: 0.3836 - dense_2_loss_18: 0.3932 - dense_2_loss_19: 0.4028 - dense_2_loss_20: 0.4023 - dense_2_loss_21: 0.4271 - dense_2_loss_22: 0.4222 - dense_2_loss_23: 0.4154 - dense_2_loss_24: 0.3958 - dense_2_loss_25: 0.4047 - dense_2_loss_26: 0.3903 - dense_2_loss_27: 0.4013 - dense_2_loss_28: 0.3922 - dense_2_loss_29: 0.4566 - dense_2_loss_30: 0.0000e+00 - dense_2_acc_1: 0.0333 - dense_2_acc_2: 0.4000 - dense_2_acc_3: 0.6500 - dense_2_acc_4: 0.7333 - dense_2_acc_5: 0.8167 - dense_2_acc_6: 0.9500 - dense_2_acc_7: 0.9667 - dense_2_acc_8: 0.9833 - dense_2_acc_9: 0.9667 - dense_2_acc_10: 1.0000 - dense_2_acc_11: 0.9833 - dense_2_acc_12: 1.0000 - dense_2_acc_13: 1.0000 - dense_2_acc_14: 1.0000 - dense_2_acc_15: 1.0000 - dense_2_acc_16: 1.0000 - dense_2_acc_17: 1.0000 - dense_2_acc_18: 1.0000 - dense_2_acc_19: 1.0000 - dense_2_acc_20: 1.0000 - dense_2_acc_21: 1.0000 - dense_2_acc_22: 1.0000 - dense_2_acc_23: 1.0000 - dense_2_acc_24: 1.0000 - dense_2_acc_25: 1.0000 - dense_2_acc_26: 0.9833 - dense_2_acc_27: 1.0000 - dense_2_acc_28: 0.9833 - dense_2_acc_29: 0.9667 - dense_2_acc_30: 0.0167     \n",
      "Epoch 41/100\n"
     ]
    },
    {
     "name": "stdout",
     "output_type": "stream",
     "text": [
      "60/60 [==============================] - 1s - loss: 18.6356 - dense_2_loss_1: 3.9742 - dense_2_loss_2: 2.5790 - dense_2_loss_3: 1.4483 - dense_2_loss_4: 0.9868 - dense_2_loss_5: 0.6665 - dense_2_loss_6: 0.5115 - dense_2_loss_7: 0.4342 - dense_2_loss_8: 0.4038 - dense_2_loss_9: 0.3730 - dense_2_loss_10: 0.3169 - dense_2_loss_11: 0.3821 - dense_2_loss_12: 0.3386 - dense_2_loss_13: 0.2998 - dense_2_loss_14: 0.3318 - dense_2_loss_15: 0.3428 - dense_2_loss_16: 0.3742 - dense_2_loss_17: 0.3563 - dense_2_loss_18: 0.3544 - dense_2_loss_19: 0.3743 - dense_2_loss_20: 0.3720 - dense_2_loss_21: 0.3937 - dense_2_loss_22: 0.3892 - dense_2_loss_23: 0.3840 - dense_2_loss_24: 0.3658 - dense_2_loss_25: 0.3686 - dense_2_loss_26: 0.3601 - dense_2_loss_27: 0.3652 - dense_2_loss_28: 0.3613 - dense_2_loss_29: 0.4273 - dense_2_loss_30: 0.0000e+00 - dense_2_acc_1: 0.0333 - dense_2_acc_2: 0.4167 - dense_2_acc_3: 0.7000 - dense_2_acc_4: 0.7833 - dense_2_acc_5: 0.8667 - dense_2_acc_6: 0.9500 - dense_2_acc_7: 0.9833 - dense_2_acc_8: 0.9833 - dense_2_acc_9: 0.9833 - dense_2_acc_10: 1.0000 - dense_2_acc_11: 0.9833 - dense_2_acc_12: 1.0000 - dense_2_acc_13: 1.0000 - dense_2_acc_14: 1.0000 - dense_2_acc_15: 1.0000 - dense_2_acc_16: 1.0000 - dense_2_acc_17: 1.0000 - dense_2_acc_18: 1.0000 - dense_2_acc_19: 1.0000 - dense_2_acc_20: 1.0000 - dense_2_acc_21: 1.0000 - dense_2_acc_22: 1.0000 - dense_2_acc_23: 1.0000 - dense_2_acc_24: 1.0000 - dense_2_acc_25: 1.0000 - dense_2_acc_26: 1.0000 - dense_2_acc_27: 1.0000 - dense_2_acc_28: 0.9833 - dense_2_acc_29: 0.9667 - dense_2_acc_30: 0.0167         \n",
      "Epoch 42/100\n",
      "60/60 [==============================] - 1s - loss: 17.7420 - dense_2_loss_1: 3.9689 - dense_2_loss_2: 2.5360 - dense_2_loss_3: 1.3978 - dense_2_loss_4: 0.9201 - dense_2_loss_5: 0.6209 - dense_2_loss_6: 0.4775 - dense_2_loss_7: 0.4051 - dense_2_loss_8: 0.3763 - dense_2_loss_9: 0.3507 - dense_2_loss_10: 0.2893 - dense_2_loss_11: 0.3478 - dense_2_loss_12: 0.3150 - dense_2_loss_13: 0.2773 - dense_2_loss_14: 0.3023 - dense_2_loss_15: 0.3149 - dense_2_loss_16: 0.3470 - dense_2_loss_17: 0.3303 - dense_2_loss_18: 0.3231 - dense_2_loss_19: 0.3441 - dense_2_loss_20: 0.3454 - dense_2_loss_21: 0.3655 - dense_2_loss_22: 0.3542 - dense_2_loss_23: 0.3552 - dense_2_loss_24: 0.3339 - dense_2_loss_25: 0.3405 - dense_2_loss_26: 0.3331 - dense_2_loss_27: 0.3383 - dense_2_loss_28: 0.3312 - dense_2_loss_29: 0.4001 - dense_2_loss_30: 0.0000e+00 - dense_2_acc_1: 0.0333 - dense_2_acc_2: 0.4333 - dense_2_acc_3: 0.7000 - dense_2_acc_4: 0.8167 - dense_2_acc_5: 0.9000 - dense_2_acc_6: 0.9833 - dense_2_acc_7: 0.9833 - dense_2_acc_8: 0.9833 - dense_2_acc_9: 0.9833 - dense_2_acc_10: 1.0000 - dense_2_acc_11: 0.9833 - dense_2_acc_12: 1.0000 - dense_2_acc_13: 1.0000 - dense_2_acc_14: 1.0000 - dense_2_acc_15: 1.0000 - dense_2_acc_16: 1.0000 - dense_2_acc_17: 1.0000 - dense_2_acc_18: 1.0000 - dense_2_acc_19: 1.0000 - dense_2_acc_20: 1.0000 - dense_2_acc_21: 1.0000 - dense_2_acc_22: 1.0000 - dense_2_acc_23: 1.0000 - dense_2_acc_24: 1.0000 - dense_2_acc_25: 1.0000 - dense_2_acc_26: 1.0000 - dense_2_acc_27: 1.0000 - dense_2_acc_28: 1.0000 - dense_2_acc_29: 0.9833 - dense_2_acc_30: 0.0167         \n",
      "Epoch 43/100\n",
      "60/60 [==============================] - 1s - loss: 16.9290 - dense_2_loss_1: 3.9639 - dense_2_loss_2: 2.4944 - dense_2_loss_3: 1.3492 - dense_2_loss_4: 0.8601 - dense_2_loss_5: 0.5796 - dense_2_loss_6: 0.4453 - dense_2_loss_7: 0.3792 - dense_2_loss_8: 0.3517 - dense_2_loss_9: 0.3299 - dense_2_loss_10: 0.2669 - dense_2_loss_11: 0.3184 - dense_2_loss_12: 0.2899 - dense_2_loss_13: 0.2572 - dense_2_loss_14: 0.2779 - dense_2_loss_15: 0.2910 - dense_2_loss_16: 0.3219 - dense_2_loss_17: 0.3038 - dense_2_loss_18: 0.2967 - dense_2_loss_19: 0.3134 - dense_2_loss_20: 0.3233 - dense_2_loss_21: 0.3386 - dense_2_loss_22: 0.3247 - dense_2_loss_23: 0.3258 - dense_2_loss_24: 0.3061 - dense_2_loss_25: 0.3166 - dense_2_loss_26: 0.3054 - dense_2_loss_27: 0.3185 - dense_2_loss_28: 0.3041 - dense_2_loss_29: 0.3753 - dense_2_loss_30: 0.0000e+00 - dense_2_acc_1: 0.0333 - dense_2_acc_2: 0.4333 - dense_2_acc_3: 0.7167 - dense_2_acc_4: 0.8667 - dense_2_acc_5: 0.9167 - dense_2_acc_6: 0.9833 - dense_2_acc_7: 0.9833 - dense_2_acc_8: 0.9833 - dense_2_acc_9: 0.9833 - dense_2_acc_10: 1.0000 - dense_2_acc_11: 0.9833 - dense_2_acc_12: 1.0000 - dense_2_acc_13: 1.0000 - dense_2_acc_14: 1.0000 - dense_2_acc_15: 1.0000 - dense_2_acc_16: 1.0000 - dense_2_acc_17: 1.0000 - dense_2_acc_18: 1.0000 - dense_2_acc_19: 1.0000 - dense_2_acc_20: 1.0000 - dense_2_acc_21: 1.0000 - dense_2_acc_22: 1.0000 - dense_2_acc_23: 1.0000 - dense_2_acc_24: 1.0000 - dense_2_acc_25: 1.0000 - dense_2_acc_26: 1.0000 - dense_2_acc_27: 1.0000 - dense_2_acc_28: 1.0000 - dense_2_acc_29: 0.9833 - dense_2_acc_30: 0.0167     \n",
      "Epoch 44/100\n",
      "60/60 [==============================] - 1s - loss: 16.1639 - dense_2_loss_1: 3.9590 - dense_2_loss_2: 2.4536 - dense_2_loss_3: 1.3028 - dense_2_loss_4: 0.8081 - dense_2_loss_5: 0.5409 - dense_2_loss_6: 0.4152 - dense_2_loss_7: 0.3532 - dense_2_loss_8: 0.3255 - dense_2_loss_9: 0.3040 - dense_2_loss_10: 0.2439 - dense_2_loss_11: 0.2940 - dense_2_loss_12: 0.2664 - dense_2_loss_13: 0.2361 - dense_2_loss_14: 0.2556 - dense_2_loss_15: 0.2695 - dense_2_loss_16: 0.2966 - dense_2_loss_17: 0.2815 - dense_2_loss_18: 0.2754 - dense_2_loss_19: 0.2887 - dense_2_loss_20: 0.2967 - dense_2_loss_21: 0.3140 - dense_2_loss_22: 0.2990 - dense_2_loss_23: 0.3033 - dense_2_loss_24: 0.2835 - dense_2_loss_25: 0.2941 - dense_2_loss_26: 0.2802 - dense_2_loss_27: 0.2929 - dense_2_loss_28: 0.2787 - dense_2_loss_29: 0.3516 - dense_2_loss_30: 0.0000e+00 - dense_2_acc_1: 0.0333 - dense_2_acc_2: 0.4167 - dense_2_acc_3: 0.7333 - dense_2_acc_4: 0.8833 - dense_2_acc_5: 0.9167 - dense_2_acc_6: 0.9833 - dense_2_acc_7: 0.9833 - dense_2_acc_8: 0.9833 - dense_2_acc_9: 0.9833 - dense_2_acc_10: 1.0000 - dense_2_acc_11: 0.9833 - dense_2_acc_12: 1.0000 - dense_2_acc_13: 1.0000 - dense_2_acc_14: 1.0000 - dense_2_acc_15: 1.0000 - dense_2_acc_16: 1.0000 - dense_2_acc_17: 1.0000 - dense_2_acc_18: 1.0000 - dense_2_acc_19: 1.0000 - dense_2_acc_20: 1.0000 - dense_2_acc_21: 1.0000 - dense_2_acc_22: 1.0000 - dense_2_acc_23: 1.0000 - dense_2_acc_24: 1.0000 - dense_2_acc_25: 1.0000 - dense_2_acc_26: 1.0000 - dense_2_acc_27: 1.0000 - dense_2_acc_28: 1.0000 - dense_2_acc_29: 0.9833 - dense_2_acc_30: 0.0167         \n",
      "Epoch 45/100\n",
      "60/60 [==============================] - 1s - loss: 15.4614 - dense_2_loss_1: 3.9534 - dense_2_loss_2: 2.4137 - dense_2_loss_3: 1.2576 - dense_2_loss_4: 0.7580 - dense_2_loss_5: 0.5053 - dense_2_loss_6: 0.3876 - dense_2_loss_7: 0.3306 - dense_2_loss_8: 0.3025 - dense_2_loss_9: 0.2789 - dense_2_loss_10: 0.2234 - dense_2_loss_11: 0.2783 - dense_2_loss_12: 0.2462 - dense_2_loss_13: 0.2157 - dense_2_loss_14: 0.2363 - dense_2_loss_15: 0.2493 - dense_2_loss_16: 0.2752 - dense_2_loss_17: 0.2586 - dense_2_loss_18: 0.2552 - dense_2_loss_19: 0.2680 - dense_2_loss_20: 0.2716 - dense_2_loss_21: 0.2916 - dense_2_loss_22: 0.2784 - dense_2_loss_23: 0.2812 - dense_2_loss_24: 0.2633 - dense_2_loss_25: 0.2685 - dense_2_loss_26: 0.2585 - dense_2_loss_27: 0.2675 - dense_2_loss_28: 0.2579 - dense_2_loss_29: 0.3291 - dense_2_loss_30: 0.0000e+00 - dense_2_acc_1: 0.0333 - dense_2_acc_2: 0.4167 - dense_2_acc_3: 0.7333 - dense_2_acc_4: 0.8833 - dense_2_acc_5: 0.9333 - dense_2_acc_6: 0.9833 - dense_2_acc_7: 0.9833 - dense_2_acc_8: 0.9833 - dense_2_acc_9: 0.9833 - dense_2_acc_10: 1.0000 - dense_2_acc_11: 1.0000 - dense_2_acc_12: 1.0000 - dense_2_acc_13: 1.0000 - dense_2_acc_14: 1.0000 - dense_2_acc_15: 1.0000 - dense_2_acc_16: 1.0000 - dense_2_acc_17: 1.0000 - dense_2_acc_18: 1.0000 - dense_2_acc_19: 1.0000 - dense_2_acc_20: 1.0000 - dense_2_acc_21: 1.0000 - dense_2_acc_22: 1.0000 - dense_2_acc_23: 1.0000 - dense_2_acc_24: 1.0000 - dense_2_acc_25: 1.0000 - dense_2_acc_26: 1.0000 - dense_2_acc_27: 1.0000 - dense_2_acc_28: 1.0000 - dense_2_acc_29: 0.9833 - dense_2_acc_30: 0.0167     \n",
      "Epoch 46/100\n",
      "60/60 [==============================] - 1s - loss: 14.8148 - dense_2_loss_1: 3.9487 - dense_2_loss_2: 2.3742 - dense_2_loss_3: 1.2148 - dense_2_loss_4: 0.7151 - dense_2_loss_5: 0.4726 - dense_2_loss_6: 0.3640 - dense_2_loss_7: 0.3087 - dense_2_loss_8: 0.2837 - dense_2_loss_9: 0.2583 - dense_2_loss_10: 0.2050 - dense_2_loss_11: 0.2585 - dense_2_loss_12: 0.2283 - dense_2_loss_13: 0.1975 - dense_2_loss_14: 0.2199 - dense_2_loss_15: 0.2306 - dense_2_loss_16: 0.2548 - dense_2_loss_17: 0.2388 - dense_2_loss_18: 0.2365 - dense_2_loss_19: 0.2484 - dense_2_loss_20: 0.2501 - dense_2_loss_21: 0.2699 - dense_2_loss_22: 0.2574 - dense_2_loss_23: 0.2602 - dense_2_loss_24: 0.2415 - dense_2_loss_25: 0.2449 - dense_2_loss_26: 0.2404 - dense_2_loss_27: 0.2470 - dense_2_loss_28: 0.2398 - dense_2_loss_29: 0.3051 - dense_2_loss_30: 0.0000e+00 - dense_2_acc_1: 0.0333 - dense_2_acc_2: 0.4333 - dense_2_acc_3: 0.7333 - dense_2_acc_4: 0.9000 - dense_2_acc_5: 0.9500 - dense_2_acc_6: 0.9833 - dense_2_acc_7: 0.9833 - dense_2_acc_8: 0.9833 - dense_2_acc_9: 0.9833 - dense_2_acc_10: 1.0000 - dense_2_acc_11: 1.0000 - dense_2_acc_12: 1.0000 - dense_2_acc_13: 1.0000 - dense_2_acc_14: 1.0000 - dense_2_acc_15: 1.0000 - dense_2_acc_16: 1.0000 - dense_2_acc_17: 1.0000 - dense_2_acc_18: 1.0000 - dense_2_acc_19: 1.0000 - dense_2_acc_20: 1.0000 - dense_2_acc_21: 1.0000 - dense_2_acc_22: 1.0000 - dense_2_acc_23: 1.0000 - dense_2_acc_24: 1.0000 - dense_2_acc_25: 1.0000 - dense_2_acc_26: 1.0000 - dense_2_acc_27: 1.0000 - dense_2_acc_28: 1.0000 - dense_2_acc_29: 0.9833 - dense_2_acc_30: 0.0167         \n",
      "Epoch 47/100\n",
      "60/60 [==============================] - 1s - loss: 14.2054 - dense_2_loss_1: 3.9435 - dense_2_loss_2: 2.3369 - dense_2_loss_3: 1.1753 - dense_2_loss_4: 0.6704 - dense_2_loss_5: 0.4421 - dense_2_loss_6: 0.3415 - dense_2_loss_7: 0.2876 - dense_2_loss_8: 0.2639 - dense_2_loss_9: 0.2411 - dense_2_loss_10: 0.1888 - dense_2_loss_11: 0.2381 - dense_2_loss_12: 0.2129 - dense_2_loss_13: 0.1824 - dense_2_loss_14: 0.2041 - dense_2_loss_15: 0.2128 - dense_2_loss_16: 0.2360 - dense_2_loss_17: 0.2199 - dense_2_loss_18: 0.2187 - dense_2_loss_19: 0.2264 - dense_2_loss_20: 0.2317 - dense_2_loss_21: 0.2508 - dense_2_loss_22: 0.2389 - dense_2_loss_23: 0.2378 - dense_2_loss_24: 0.2197 - dense_2_loss_25: 0.2264 - dense_2_loss_26: 0.2207 - dense_2_loss_27: 0.2300 - dense_2_loss_28: 0.2215 - dense_2_loss_29: 0.2853 - dense_2_loss_30: 0.0000e+00 - dense_2_acc_1: 0.0333 - dense_2_acc_2: 0.4333 - dense_2_acc_3: 0.7333 - dense_2_acc_4: 0.9000 - dense_2_acc_5: 0.9667 - dense_2_acc_6: 0.9833 - dense_2_acc_7: 0.9833 - dense_2_acc_8: 0.9833 - dense_2_acc_9: 0.9833 - dense_2_acc_10: 1.0000 - dense_2_acc_11: 1.0000 - dense_2_acc_12: 1.0000 - dense_2_acc_13: 1.0000 - dense_2_acc_14: 1.0000 - dense_2_acc_15: 1.0000 - dense_2_acc_16: 1.0000 - dense_2_acc_17: 1.0000 - dense_2_acc_18: 1.0000 - dense_2_acc_19: 1.0000 - dense_2_acc_20: 1.0000 - dense_2_acc_21: 1.0000 - dense_2_acc_22: 1.0000 - dense_2_acc_23: 1.0000 - dense_2_acc_24: 1.0000 - dense_2_acc_25: 1.0000 - dense_2_acc_26: 1.0000 - dense_2_acc_27: 1.0000 - dense_2_acc_28: 1.0000 - dense_2_acc_29: 0.9833 - dense_2_acc_30: 0.0167             \n",
      "Epoch 48/100\n",
      "60/60 [==============================] - 1s - loss: 13.6721 - dense_2_loss_1: 3.9385 - dense_2_loss_2: 2.2993 - dense_2_loss_3: 1.1376 - dense_2_loss_4: 0.6311 - dense_2_loss_5: 0.4138 - dense_2_loss_6: 0.3219 - dense_2_loss_7: 0.2696 - dense_2_loss_8: 0.2460 - dense_2_loss_9: 0.2263 - dense_2_loss_10: 0.1755 - dense_2_loss_11: 0.2208 - dense_2_loss_12: 0.1988 - dense_2_loss_13: 0.1704 - dense_2_loss_14: 0.1875 - dense_2_loss_15: 0.1977 - dense_2_loss_16: 0.2204 - dense_2_loss_17: 0.2043 - dense_2_loss_18: 0.2021 - dense_2_loss_19: 0.2081 - dense_2_loss_20: 0.2144 - dense_2_loss_21: 0.2335 - dense_2_loss_22: 0.2244 - dense_2_loss_23: 0.2182 - dense_2_loss_24: 0.2042 - dense_2_loss_25: 0.2118 - dense_2_loss_26: 0.2051 - dense_2_loss_27: 0.2151 - dense_2_loss_28: 0.2069 - dense_2_loss_29: 0.2685 - dense_2_loss_30: 0.0000e+00 - dense_2_acc_1: 0.0333 - dense_2_acc_2: 0.4333 - dense_2_acc_3: 0.7333 - dense_2_acc_4: 0.9333 - dense_2_acc_5: 0.9667 - dense_2_acc_6: 0.9833 - dense_2_acc_7: 0.9833 - dense_2_acc_8: 0.9833 - dense_2_acc_9: 0.9833 - dense_2_acc_10: 1.0000 - dense_2_acc_11: 1.0000 - dense_2_acc_12: 1.0000 - dense_2_acc_13: 1.0000 - dense_2_acc_14: 1.0000 - dense_2_acc_15: 1.0000 - dense_2_acc_16: 1.0000 - dense_2_acc_17: 1.0000 - dense_2_acc_18: 1.0000 - dense_2_acc_19: 1.0000 - dense_2_acc_20: 1.0000 - dense_2_acc_21: 1.0000 - dense_2_acc_22: 1.0000 - dense_2_acc_23: 1.0000 - dense_2_acc_24: 1.0000 - dense_2_acc_25: 1.0000 - dense_2_acc_26: 1.0000 - dense_2_acc_27: 1.0000 - dense_2_acc_28: 1.0000 - dense_2_acc_29: 0.9833 - dense_2_acc_30: 0.0167             \n",
      "Epoch 49/100\n",
      "60/60 [==============================] - 1s - loss: 13.1567 - dense_2_loss_1: 3.9343 - dense_2_loss_2: 2.2632 - dense_2_loss_3: 1.1007 - dense_2_loss_4: 0.5925 - dense_2_loss_5: 0.3879 - dense_2_loss_6: 0.3022 - dense_2_loss_7: 0.2518 - dense_2_loss_8: 0.2287 - dense_2_loss_9: 0.2105 - dense_2_loss_10: 0.1623 - dense_2_loss_11: 0.2040 - dense_2_loss_12: 0.1863 - dense_2_loss_13: 0.1569 - dense_2_loss_14: 0.1730 - dense_2_loss_15: 0.1826 - dense_2_loss_16: 0.2029 - dense_2_loss_17: 0.1919 - dense_2_loss_18: 0.1866 - dense_2_loss_19: 0.1930 - dense_2_loss_20: 0.1997 - dense_2_loss_21: 0.2152 - dense_2_loss_22: 0.2064 - dense_2_loss_23: 0.2021 - dense_2_loss_24: 0.1875 - dense_2_loss_25: 0.1962 - dense_2_loss_26: 0.1902 - dense_2_loss_27: 0.1971 - dense_2_loss_28: 0.1971 - dense_2_loss_29: 0.2536 - dense_2_loss_30: 0.0000e+00 - dense_2_acc_1: 0.0333 - dense_2_acc_2: 0.4333 - dense_2_acc_3: 0.7333 - dense_2_acc_4: 0.9333 - dense_2_acc_5: 0.9667 - dense_2_acc_6: 0.9833 - dense_2_acc_7: 1.0000 - dense_2_acc_8: 0.9833 - dense_2_acc_9: 1.0000 - dense_2_acc_10: 1.0000 - dense_2_acc_11: 1.0000 - dense_2_acc_12: 1.0000 - dense_2_acc_13: 1.0000 - dense_2_acc_14: 1.0000 - dense_2_acc_15: 1.0000 - dense_2_acc_16: 1.0000 - dense_2_acc_17: 1.0000 - dense_2_acc_18: 1.0000 - dense_2_acc_19: 1.0000 - dense_2_acc_20: 1.0000 - dense_2_acc_21: 1.0000 - dense_2_acc_22: 1.0000 - dense_2_acc_23: 1.0000 - dense_2_acc_24: 1.0000 - dense_2_acc_25: 1.0000 - dense_2_acc_26: 1.0000 - dense_2_acc_27: 1.0000 - dense_2_acc_28: 1.0000 - dense_2_acc_29: 0.9833 - dense_2_acc_30: 0.0167     \n",
      "Epoch 50/100\n",
      "60/60 [==============================] - 1s - loss: 12.6872 - dense_2_loss_1: 3.9297 - dense_2_loss_2: 2.2292 - dense_2_loss_3: 1.0658 - dense_2_loss_4: 0.5578 - dense_2_loss_5: 0.3641 - dense_2_loss_6: 0.2835 - dense_2_loss_7: 0.2342 - dense_2_loss_8: 0.2139 - dense_2_loss_9: 0.1953 - dense_2_loss_10: 0.1516 - dense_2_loss_11: 0.1893 - dense_2_loss_12: 0.1743 - dense_2_loss_13: 0.1458 - dense_2_loss_14: 0.1605 - dense_2_loss_15: 0.1700 - dense_2_loss_16: 0.1886 - dense_2_loss_17: 0.1801 - dense_2_loss_18: 0.1724 - dense_2_loss_19: 0.1779 - dense_2_loss_20: 0.1863 - dense_2_loss_21: 0.2006 - dense_2_loss_22: 0.1916 - dense_2_loss_23: 0.1871 - dense_2_loss_24: 0.1732 - dense_2_loss_25: 0.1833 - dense_2_loss_26: 0.1757 - dense_2_loss_27: 0.1829 - dense_2_loss_28: 0.1847 - dense_2_loss_29: 0.2378 - dense_2_loss_30: 0.0000e+00 - dense_2_acc_1: 0.0333 - dense_2_acc_2: 0.4500 - dense_2_acc_3: 0.7333 - dense_2_acc_4: 0.9333 - dense_2_acc_5: 0.9667 - dense_2_acc_6: 0.9833 - dense_2_acc_7: 1.0000 - dense_2_acc_8: 0.9833 - dense_2_acc_9: 1.0000 - dense_2_acc_10: 1.0000 - dense_2_acc_11: 1.0000 - dense_2_acc_12: 1.0000 - dense_2_acc_13: 1.0000 - dense_2_acc_14: 1.0000 - dense_2_acc_15: 1.0000 - dense_2_acc_16: 1.0000 - dense_2_acc_17: 1.0000 - dense_2_acc_18: 1.0000 - dense_2_acc_19: 1.0000 - dense_2_acc_20: 1.0000 - dense_2_acc_21: 1.0000 - dense_2_acc_22: 1.0000 - dense_2_acc_23: 1.0000 - dense_2_acc_24: 1.0000 - dense_2_acc_25: 1.0000 - dense_2_acc_26: 1.0000 - dense_2_acc_27: 1.0000 - dense_2_acc_28: 1.0000 - dense_2_acc_29: 0.9833 - dense_2_acc_30: 0.0167         \n",
      "Epoch 51/100\n"
     ]
    },
    {
     "name": "stdout",
     "output_type": "stream",
     "text": [
      "60/60 [==============================] - 1s - loss: 12.2470 - dense_2_loss_1: 3.9250 - dense_2_loss_2: 2.1951 - dense_2_loss_3: 1.0325 - dense_2_loss_4: 0.5262 - dense_2_loss_5: 0.3412 - dense_2_loss_6: 0.2665 - dense_2_loss_7: 0.2198 - dense_2_loss_8: 0.2008 - dense_2_loss_9: 0.1840 - dense_2_loss_10: 0.1410 - dense_2_loss_11: 0.1768 - dense_2_loss_12: 0.1627 - dense_2_loss_13: 0.1365 - dense_2_loss_14: 0.1501 - dense_2_loss_15: 0.1567 - dense_2_loss_16: 0.1775 - dense_2_loss_17: 0.1662 - dense_2_loss_18: 0.1607 - dense_2_loss_19: 0.1639 - dense_2_loss_20: 0.1729 - dense_2_loss_21: 0.1874 - dense_2_loss_22: 0.1789 - dense_2_loss_23: 0.1706 - dense_2_loss_24: 0.1614 - dense_2_loss_25: 0.1697 - dense_2_loss_26: 0.1625 - dense_2_loss_27: 0.1718 - dense_2_loss_28: 0.1665 - dense_2_loss_29: 0.2221 - dense_2_loss_30: 0.0000e+00 - dense_2_acc_1: 0.0333 - dense_2_acc_2: 0.4500 - dense_2_acc_3: 0.7500 - dense_2_acc_4: 0.9500 - dense_2_acc_5: 0.9667 - dense_2_acc_6: 0.9833 - dense_2_acc_7: 1.0000 - dense_2_acc_8: 0.9833 - dense_2_acc_9: 1.0000 - dense_2_acc_10: 1.0000 - dense_2_acc_11: 1.0000 - dense_2_acc_12: 1.0000 - dense_2_acc_13: 1.0000 - dense_2_acc_14: 1.0000 - dense_2_acc_15: 1.0000 - dense_2_acc_16: 1.0000 - dense_2_acc_17: 1.0000 - dense_2_acc_18: 1.0000 - dense_2_acc_19: 1.0000 - dense_2_acc_20: 1.0000 - dense_2_acc_21: 1.0000 - dense_2_acc_22: 1.0000 - dense_2_acc_23: 1.0000 - dense_2_acc_24: 1.0000 - dense_2_acc_25: 1.0000 - dense_2_acc_26: 1.0000 - dense_2_acc_27: 1.0000 - dense_2_acc_28: 1.0000 - dense_2_acc_29: 0.9833 - dense_2_acc_30: 0.0167         \n",
      "Epoch 52/100\n",
      "60/60 [==============================] - 1s - loss: 11.8565 - dense_2_loss_1: 3.9205 - dense_2_loss_2: 2.1615 - dense_2_loss_3: 1.0016 - dense_2_loss_4: 0.4963 - dense_2_loss_5: 0.3213 - dense_2_loss_6: 0.2510 - dense_2_loss_7: 0.2080 - dense_2_loss_8: 0.1891 - dense_2_loss_9: 0.1743 - dense_2_loss_10: 0.1319 - dense_2_loss_11: 0.1660 - dense_2_loss_12: 0.1521 - dense_2_loss_13: 0.1275 - dense_2_loss_14: 0.1410 - dense_2_loss_15: 0.1464 - dense_2_loss_16: 0.1652 - dense_2_loss_17: 0.1547 - dense_2_loss_18: 0.1500 - dense_2_loss_19: 0.1534 - dense_2_loss_20: 0.1607 - dense_2_loss_21: 0.1747 - dense_2_loss_22: 0.1668 - dense_2_loss_23: 0.1580 - dense_2_loss_24: 0.1508 - dense_2_loss_25: 0.1562 - dense_2_loss_26: 0.1514 - dense_2_loss_27: 0.1611 - dense_2_loss_28: 0.1553 - dense_2_loss_29: 0.2097 - dense_2_loss_30: 0.0000e+00 - dense_2_acc_1: 0.0333 - dense_2_acc_2: 0.4500 - dense_2_acc_3: 0.7500 - dense_2_acc_4: 0.9667 - dense_2_acc_5: 0.9667 - dense_2_acc_6: 0.9833 - dense_2_acc_7: 1.0000 - dense_2_acc_8: 0.9833 - dense_2_acc_9: 1.0000 - dense_2_acc_10: 1.0000 - dense_2_acc_11: 1.0000 - dense_2_acc_12: 1.0000 - dense_2_acc_13: 1.0000 - dense_2_acc_14: 1.0000 - dense_2_acc_15: 1.0000 - dense_2_acc_16: 1.0000 - dense_2_acc_17: 1.0000 - dense_2_acc_18: 1.0000 - dense_2_acc_19: 1.0000 - dense_2_acc_20: 1.0000 - dense_2_acc_21: 1.0000 - dense_2_acc_22: 1.0000 - dense_2_acc_23: 1.0000 - dense_2_acc_24: 1.0000 - dense_2_acc_25: 1.0000 - dense_2_acc_26: 1.0000 - dense_2_acc_27: 1.0000 - dense_2_acc_28: 1.0000 - dense_2_acc_29: 0.9833 - dense_2_acc_30: 0.0167         \n",
      "Epoch 53/100\n",
      "60/60 [==============================] - 1s - loss: 11.4901 - dense_2_loss_1: 3.9167 - dense_2_loss_2: 2.1289 - dense_2_loss_3: 0.9728 - dense_2_loss_4: 0.4711 - dense_2_loss_5: 0.3021 - dense_2_loss_6: 0.2373 - dense_2_loss_7: 0.1957 - dense_2_loss_8: 0.1774 - dense_2_loss_9: 0.1646 - dense_2_loss_10: 0.1232 - dense_2_loss_11: 0.1558 - dense_2_loss_12: 0.1419 - dense_2_loss_13: 0.1190 - dense_2_loss_14: 0.1320 - dense_2_loss_15: 0.1364 - dense_2_loss_16: 0.1525 - dense_2_loss_17: 0.1432 - dense_2_loss_18: 0.1406 - dense_2_loss_19: 0.1442 - dense_2_loss_20: 0.1483 - dense_2_loss_21: 0.1625 - dense_2_loss_22: 0.1554 - dense_2_loss_23: 0.1480 - dense_2_loss_24: 0.1396 - dense_2_loss_25: 0.1453 - dense_2_loss_26: 0.1425 - dense_2_loss_27: 0.1497 - dense_2_loss_28: 0.1477 - dense_2_loss_29: 0.1956 - dense_2_loss_30: 0.0000e+00 - dense_2_acc_1: 0.0333 - dense_2_acc_2: 0.4500 - dense_2_acc_3: 0.7500 - dense_2_acc_4: 0.9667 - dense_2_acc_5: 0.9667 - dense_2_acc_6: 0.9833 - dense_2_acc_7: 1.0000 - dense_2_acc_8: 0.9833 - dense_2_acc_9: 1.0000 - dense_2_acc_10: 1.0000 - dense_2_acc_11: 1.0000 - dense_2_acc_12: 1.0000 - dense_2_acc_13: 1.0000 - dense_2_acc_14: 1.0000 - dense_2_acc_15: 1.0000 - dense_2_acc_16: 1.0000 - dense_2_acc_17: 1.0000 - dense_2_acc_18: 1.0000 - dense_2_acc_19: 1.0000 - dense_2_acc_20: 1.0000 - dense_2_acc_21: 1.0000 - dense_2_acc_22: 1.0000 - dense_2_acc_23: 1.0000 - dense_2_acc_24: 1.0000 - dense_2_acc_25: 1.0000 - dense_2_acc_26: 1.0000 - dense_2_acc_27: 1.0000 - dense_2_acc_28: 1.0000 - dense_2_acc_29: 0.9833 - dense_2_acc_30: 0.0167     \n",
      "Epoch 54/100\n",
      "60/60 [==============================] - 1s - loss: 11.1475 - dense_2_loss_1: 3.9126 - dense_2_loss_2: 2.0980 - dense_2_loss_3: 0.9449 - dense_2_loss_4: 0.4441 - dense_2_loss_5: 0.2860 - dense_2_loss_6: 0.2231 - dense_2_loss_7: 0.1836 - dense_2_loss_8: 0.1653 - dense_2_loss_9: 0.1542 - dense_2_loss_10: 0.1153 - dense_2_loss_11: 0.1448 - dense_2_loss_12: 0.1332 - dense_2_loss_13: 0.1108 - dense_2_loss_14: 0.1230 - dense_2_loss_15: 0.1273 - dense_2_loss_16: 0.1415 - dense_2_loss_17: 0.1344 - dense_2_loss_18: 0.1320 - dense_2_loss_19: 0.1344 - dense_2_loss_20: 0.1392 - dense_2_loss_21: 0.1531 - dense_2_loss_22: 0.1463 - dense_2_loss_23: 0.1373 - dense_2_loss_24: 0.1305 - dense_2_loss_25: 0.1362 - dense_2_loss_26: 0.1343 - dense_2_loss_27: 0.1390 - dense_2_loss_28: 0.1386 - dense_2_loss_29: 0.1844 - dense_2_loss_30: 0.0000e+00 - dense_2_acc_1: 0.0333 - dense_2_acc_2: 0.4500 - dense_2_acc_3: 0.8000 - dense_2_acc_4: 0.9667 - dense_2_acc_5: 0.9667 - dense_2_acc_6: 0.9833 - dense_2_acc_7: 1.0000 - dense_2_acc_8: 0.9833 - dense_2_acc_9: 1.0000 - dense_2_acc_10: 1.0000 - dense_2_acc_11: 1.0000 - dense_2_acc_12: 1.0000 - dense_2_acc_13: 1.0000 - dense_2_acc_14: 1.0000 - dense_2_acc_15: 1.0000 - dense_2_acc_16: 1.0000 - dense_2_acc_17: 1.0000 - dense_2_acc_18: 1.0000 - dense_2_acc_19: 1.0000 - dense_2_acc_20: 1.0000 - dense_2_acc_21: 1.0000 - dense_2_acc_22: 1.0000 - dense_2_acc_23: 1.0000 - dense_2_acc_24: 1.0000 - dense_2_acc_25: 1.0000 - dense_2_acc_26: 1.0000 - dense_2_acc_27: 1.0000 - dense_2_acc_28: 1.0000 - dense_2_acc_29: 0.9833 - dense_2_acc_30: 0.0167         \n",
      "Epoch 55/100\n",
      "60/60 [==============================] - 1s - loss: 10.8438 - dense_2_loss_1: 3.9082 - dense_2_loss_2: 2.0682 - dense_2_loss_3: 0.9170 - dense_2_loss_4: 0.4198 - dense_2_loss_5: 0.2696 - dense_2_loss_6: 0.2107 - dense_2_loss_7: 0.1736 - dense_2_loss_8: 0.1557 - dense_2_loss_9: 0.1462 - dense_2_loss_10: 0.1091 - dense_2_loss_11: 0.1353 - dense_2_loss_12: 0.1260 - dense_2_loss_13: 0.1044 - dense_2_loss_14: 0.1157 - dense_2_loss_15: 0.1204 - dense_2_loss_16: 0.1328 - dense_2_loss_17: 0.1268 - dense_2_loss_18: 0.1246 - dense_2_loss_19: 0.1260 - dense_2_loss_20: 0.1312 - dense_2_loss_21: 0.1438 - dense_2_loss_22: 0.1365 - dense_2_loss_23: 0.1291 - dense_2_loss_24: 0.1217 - dense_2_loss_25: 0.1281 - dense_2_loss_26: 0.1265 - dense_2_loss_27: 0.1308 - dense_2_loss_28: 0.1313 - dense_2_loss_29: 0.1745 - dense_2_loss_30: 0.0000e+00 - dense_2_acc_1: 0.0333 - dense_2_acc_2: 0.4500 - dense_2_acc_3: 0.8000 - dense_2_acc_4: 0.9667 - dense_2_acc_5: 0.9833 - dense_2_acc_6: 0.9833 - dense_2_acc_7: 1.0000 - dense_2_acc_8: 0.9833 - dense_2_acc_9: 1.0000 - dense_2_acc_10: 1.0000 - dense_2_acc_11: 1.0000 - dense_2_acc_12: 1.0000 - dense_2_acc_13: 1.0000 - dense_2_acc_14: 1.0000 - dense_2_acc_15: 1.0000 - dense_2_acc_16: 1.0000 - dense_2_acc_17: 1.0000 - dense_2_acc_18: 1.0000 - dense_2_acc_19: 1.0000 - dense_2_acc_20: 1.0000 - dense_2_acc_21: 1.0000 - dense_2_acc_22: 1.0000 - dense_2_acc_23: 1.0000 - dense_2_acc_24: 1.0000 - dense_2_acc_25: 1.0000 - dense_2_acc_26: 1.0000 - dense_2_acc_27: 1.0000 - dense_2_acc_28: 1.0000 - dense_2_acc_29: 0.9833 - dense_2_acc_30: 0.0167     \n",
      "Epoch 56/100\n",
      "60/60 [==============================] - 1s - loss: 10.5557 - dense_2_loss_1: 3.9041 - dense_2_loss_2: 2.0385 - dense_2_loss_3: 0.8924 - dense_2_loss_4: 0.3980 - dense_2_loss_5: 0.2551 - dense_2_loss_6: 0.2003 - dense_2_loss_7: 0.1645 - dense_2_loss_8: 0.1475 - dense_2_loss_9: 0.1379 - dense_2_loss_10: 0.1033 - dense_2_loss_11: 0.1255 - dense_2_loss_12: 0.1189 - dense_2_loss_13: 0.0983 - dense_2_loss_14: 0.1078 - dense_2_loss_15: 0.1148 - dense_2_loss_16: 0.1251 - dense_2_loss_17: 0.1192 - dense_2_loss_18: 0.1167 - dense_2_loss_19: 0.1184 - dense_2_loss_20: 0.1250 - dense_2_loss_21: 0.1331 - dense_2_loss_22: 0.1273 - dense_2_loss_23: 0.1203 - dense_2_loss_24: 0.1148 - dense_2_loss_25: 0.1208 - dense_2_loss_26: 0.1168 - dense_2_loss_27: 0.1235 - dense_2_loss_28: 0.1238 - dense_2_loss_29: 0.1641 - dense_2_loss_30: 0.0000e+00 - dense_2_acc_1: 0.0333 - dense_2_acc_2: 0.4500 - dense_2_acc_3: 0.8000 - dense_2_acc_4: 0.9667 - dense_2_acc_5: 0.9833 - dense_2_acc_6: 0.9833 - dense_2_acc_7: 1.0000 - dense_2_acc_8: 0.9833 - dense_2_acc_9: 1.0000 - dense_2_acc_10: 1.0000 - dense_2_acc_11: 1.0000 - dense_2_acc_12: 1.0000 - dense_2_acc_13: 1.0000 - dense_2_acc_14: 1.0000 - dense_2_acc_15: 1.0000 - dense_2_acc_16: 1.0000 - dense_2_acc_17: 1.0000 - dense_2_acc_18: 1.0000 - dense_2_acc_19: 1.0000 - dense_2_acc_20: 1.0000 - dense_2_acc_21: 1.0000 - dense_2_acc_22: 1.0000 - dense_2_acc_23: 1.0000 - dense_2_acc_24: 1.0000 - dense_2_acc_25: 1.0000 - dense_2_acc_26: 1.0000 - dense_2_acc_27: 1.0000 - dense_2_acc_28: 1.0000 - dense_2_acc_29: 0.9833 - dense_2_acc_30: 0.0167     \n",
      "Epoch 57/100\n",
      "60/60 [==============================] - 1s - loss: 10.2921 - dense_2_loss_1: 3.9003 - dense_2_loss_2: 2.0097 - dense_2_loss_3: 0.8678 - dense_2_loss_4: 0.3785 - dense_2_loss_5: 0.2421 - dense_2_loss_6: 0.1907 - dense_2_loss_7: 0.1561 - dense_2_loss_8: 0.1392 - dense_2_loss_9: 0.1304 - dense_2_loss_10: 0.0969 - dense_2_loss_11: 0.1191 - dense_2_loss_12: 0.1121 - dense_2_loss_13: 0.0924 - dense_2_loss_14: 0.1025 - dense_2_loss_15: 0.1079 - dense_2_loss_16: 0.1183 - dense_2_loss_17: 0.1120 - dense_2_loss_18: 0.1093 - dense_2_loss_19: 0.1110 - dense_2_loss_20: 0.1177 - dense_2_loss_21: 0.1251 - dense_2_loss_22: 0.1201 - dense_2_loss_23: 0.1120 - dense_2_loss_24: 0.1087 - dense_2_loss_25: 0.1141 - dense_2_loss_26: 0.1105 - dense_2_loss_27: 0.1175 - dense_2_loss_28: 0.1157 - dense_2_loss_29: 0.1545 - dense_2_loss_30: 0.0000e+00 - dense_2_acc_1: 0.0333 - dense_2_acc_2: 0.4500 - dense_2_acc_3: 0.8000 - dense_2_acc_4: 0.9667 - dense_2_acc_5: 0.9833 - dense_2_acc_6: 0.9833 - dense_2_acc_7: 1.0000 - dense_2_acc_8: 0.9833 - dense_2_acc_9: 1.0000 - dense_2_acc_10: 1.0000 - dense_2_acc_11: 1.0000 - dense_2_acc_12: 1.0000 - dense_2_acc_13: 1.0000 - dense_2_acc_14: 1.0000 - dense_2_acc_15: 1.0000 - dense_2_acc_16: 1.0000 - dense_2_acc_17: 1.0000 - dense_2_acc_18: 1.0000 - dense_2_acc_19: 1.0000 - dense_2_acc_20: 1.0000 - dense_2_acc_21: 1.0000 - dense_2_acc_22: 1.0000 - dense_2_acc_23: 1.0000 - dense_2_acc_24: 1.0000 - dense_2_acc_25: 1.0000 - dense_2_acc_26: 1.0000 - dense_2_acc_27: 1.0000 - dense_2_acc_28: 1.0000 - dense_2_acc_29: 0.9833 - dense_2_acc_30: 0.0167         \n",
      "Epoch 58/100\n",
      "60/60 [==============================] - 1s - loss: 10.0397 - dense_2_loss_1: 3.8963 - dense_2_loss_2: 1.9828 - dense_2_loss_3: 0.8445 - dense_2_loss_4: 0.3579 - dense_2_loss_5: 0.2300 - dense_2_loss_6: 0.1816 - dense_2_loss_7: 0.1486 - dense_2_loss_8: 0.1312 - dense_2_loss_9: 0.1233 - dense_2_loss_10: 0.0905 - dense_2_loss_11: 0.1136 - dense_2_loss_12: 0.1062 - dense_2_loss_13: 0.0868 - dense_2_loss_14: 0.0973 - dense_2_loss_15: 0.1016 - dense_2_loss_16: 0.1113 - dense_2_loss_17: 0.1055 - dense_2_loss_18: 0.1028 - dense_2_loss_19: 0.1051 - dense_2_loss_20: 0.1106 - dense_2_loss_21: 0.1176 - dense_2_loss_22: 0.1131 - dense_2_loss_23: 0.1047 - dense_2_loss_24: 0.1012 - dense_2_loss_25: 0.1075 - dense_2_loss_26: 0.1030 - dense_2_loss_27: 0.1103 - dense_2_loss_28: 0.1104 - dense_2_loss_29: 0.1447 - dense_2_loss_30: 0.0000e+00 - dense_2_acc_1: 0.0333 - dense_2_acc_2: 0.4500 - dense_2_acc_3: 0.8000 - dense_2_acc_4: 0.9667 - dense_2_acc_5: 0.9833 - dense_2_acc_6: 0.9833 - dense_2_acc_7: 1.0000 - dense_2_acc_8: 0.9833 - dense_2_acc_9: 1.0000 - dense_2_acc_10: 1.0000 - dense_2_acc_11: 1.0000 - dense_2_acc_12: 1.0000 - dense_2_acc_13: 1.0000 - dense_2_acc_14: 1.0000 - dense_2_acc_15: 1.0000 - dense_2_acc_16: 1.0000 - dense_2_acc_17: 1.0000 - dense_2_acc_18: 1.0000 - dense_2_acc_19: 1.0000 - dense_2_acc_20: 1.0000 - dense_2_acc_21: 1.0000 - dense_2_acc_22: 1.0000 - dense_2_acc_23: 1.0000 - dense_2_acc_24: 1.0000 - dense_2_acc_25: 1.0000 - dense_2_acc_26: 1.0000 - dense_2_acc_27: 1.0000 - dense_2_acc_28: 1.0000 - dense_2_acc_29: 0.9833 - dense_2_acc_30: 0.0167         \n",
      "Epoch 59/100\n",
      "60/60 [==============================] - 1s - loss: 9.8091 - dense_2_loss_1: 3.8926 - dense_2_loss_2: 1.9556 - dense_2_loss_3: 0.8220 - dense_2_loss_4: 0.3409 - dense_2_loss_5: 0.2194 - dense_2_loss_6: 0.1727 - dense_2_loss_7: 0.1409 - dense_2_loss_8: 0.1238 - dense_2_loss_9: 0.1172 - dense_2_loss_10: 0.0850 - dense_2_loss_11: 0.1074 - dense_2_loss_12: 0.1003 - dense_2_loss_13: 0.0816 - dense_2_loss_14: 0.0926 - dense_2_loss_15: 0.0953 - dense_2_loss_16: 0.1042 - dense_2_loss_17: 0.0997 - dense_2_loss_18: 0.0966 - dense_2_loss_19: 0.0993 - dense_2_loss_20: 0.1036 - dense_2_loss_21: 0.1117 - dense_2_loss_22: 0.1069 - dense_2_loss_23: 0.0990 - dense_2_loss_24: 0.0952 - dense_2_loss_25: 0.1011 - dense_2_loss_26: 0.0975 - dense_2_loss_27: 0.1047 - dense_2_loss_28: 0.1054 - dense_2_loss_29: 0.1367 - dense_2_loss_30: 0.0000e+00 - dense_2_acc_1: 0.0333 - dense_2_acc_2: 0.4667 - dense_2_acc_3: 0.8000 - dense_2_acc_4: 0.9833 - dense_2_acc_5: 0.9833 - dense_2_acc_6: 0.9833 - dense_2_acc_7: 1.0000 - dense_2_acc_8: 0.9833 - dense_2_acc_9: 1.0000 - dense_2_acc_10: 1.0000 - dense_2_acc_11: 1.0000 - dense_2_acc_12: 1.0000 - dense_2_acc_13: 1.0000 - dense_2_acc_14: 1.0000 - dense_2_acc_15: 1.0000 - dense_2_acc_16: 1.0000 - dense_2_acc_17: 1.0000 - dense_2_acc_18: 1.0000 - dense_2_acc_19: 1.0000 - dense_2_acc_20: 1.0000 - dense_2_acc_21: 1.0000 - dense_2_acc_22: 1.0000 - dense_2_acc_23: 1.0000 - dense_2_acc_24: 1.0000 - dense_2_acc_25: 1.0000 - dense_2_acc_26: 1.0000 - dense_2_acc_27: 1.0000 - dense_2_acc_28: 1.0000 - dense_2_acc_29: 0.9833 - dense_2_acc_30: 0.0167             \n",
      "Epoch 60/100\n",
      "60/60 [==============================] - 1s - loss: 9.5934 - dense_2_loss_1: 3.8888 - dense_2_loss_2: 1.9300 - dense_2_loss_3: 0.8007 - dense_2_loss_4: 0.3242 - dense_2_loss_5: 0.2088 - dense_2_loss_6: 0.1634 - dense_2_loss_7: 0.1336 - dense_2_loss_8: 0.1164 - dense_2_loss_9: 0.1102 - dense_2_loss_10: 0.0808 - dense_2_loss_11: 0.1016 - dense_2_loss_12: 0.0953 - dense_2_loss_13: 0.0775 - dense_2_loss_14: 0.0882 - dense_2_loss_15: 0.0902 - dense_2_loss_16: 0.0987 - dense_2_loss_17: 0.0939 - dense_2_loss_18: 0.0916 - dense_2_loss_19: 0.0937 - dense_2_loss_20: 0.0980 - dense_2_loss_21: 0.1055 - dense_2_loss_22: 0.1009 - dense_2_loss_23: 0.0937 - dense_2_loss_24: 0.0903 - dense_2_loss_25: 0.0957 - dense_2_loss_26: 0.0923 - dense_2_loss_27: 0.0998 - dense_2_loss_28: 0.0995 - dense_2_loss_29: 0.1302 - dense_2_loss_30: 0.0000e+00 - dense_2_acc_1: 0.0333 - dense_2_acc_2: 0.5000 - dense_2_acc_3: 0.8000 - dense_2_acc_4: 0.9833 - dense_2_acc_5: 0.9833 - dense_2_acc_6: 0.9833 - dense_2_acc_7: 1.0000 - dense_2_acc_8: 1.0000 - dense_2_acc_9: 1.0000 - dense_2_acc_10: 1.0000 - dense_2_acc_11: 1.0000 - dense_2_acc_12: 1.0000 - dense_2_acc_13: 1.0000 - dense_2_acc_14: 1.0000 - dense_2_acc_15: 1.0000 - dense_2_acc_16: 1.0000 - dense_2_acc_17: 1.0000 - dense_2_acc_18: 1.0000 - dense_2_acc_19: 1.0000 - dense_2_acc_20: 1.0000 - dense_2_acc_21: 1.0000 - dense_2_acc_22: 1.0000 - dense_2_acc_23: 1.0000 - dense_2_acc_24: 1.0000 - dense_2_acc_25: 1.0000 - dense_2_acc_26: 1.0000 - dense_2_acc_27: 1.0000 - dense_2_acc_28: 1.0000 - dense_2_acc_29: 0.9833 - dense_2_acc_30: 0.0167         \n",
      "Epoch 61/100\n"
     ]
    },
    {
     "name": "stdout",
     "output_type": "stream",
     "text": [
      "60/60 [==============================] - 1s - loss: 9.4016 - dense_2_loss_1: 3.8850 - dense_2_loss_2: 1.9055 - dense_2_loss_3: 0.7812 - dense_2_loss_4: 0.3095 - dense_2_loss_5: 0.1996 - dense_2_loss_6: 0.1564 - dense_2_loss_7: 0.1276 - dense_2_loss_8: 0.1110 - dense_2_loss_9: 0.1052 - dense_2_loss_10: 0.0772 - dense_2_loss_11: 0.0958 - dense_2_loss_12: 0.0911 - dense_2_loss_13: 0.0736 - dense_2_loss_14: 0.0831 - dense_2_loss_15: 0.0860 - dense_2_loss_16: 0.0940 - dense_2_loss_17: 0.0892 - dense_2_loss_18: 0.0873 - dense_2_loss_19: 0.0888 - dense_2_loss_20: 0.0931 - dense_2_loss_21: 0.1002 - dense_2_loss_22: 0.0955 - dense_2_loss_23: 0.0889 - dense_2_loss_24: 0.0858 - dense_2_loss_25: 0.0902 - dense_2_loss_26: 0.0879 - dense_2_loss_27: 0.0952 - dense_2_loss_28: 0.0945 - dense_2_loss_29: 0.1236 - dense_2_loss_30: 0.0000e+00 - dense_2_acc_1: 0.0333 - dense_2_acc_2: 0.5000 - dense_2_acc_3: 0.8167 - dense_2_acc_4: 0.9833 - dense_2_acc_5: 0.9833 - dense_2_acc_6: 1.0000 - dense_2_acc_7: 1.0000 - dense_2_acc_8: 1.0000 - dense_2_acc_9: 1.0000 - dense_2_acc_10: 1.0000 - dense_2_acc_11: 1.0000 - dense_2_acc_12: 1.0000 - dense_2_acc_13: 1.0000 - dense_2_acc_14: 1.0000 - dense_2_acc_15: 1.0000 - dense_2_acc_16: 1.0000 - dense_2_acc_17: 1.0000 - dense_2_acc_18: 1.0000 - dense_2_acc_19: 1.0000 - dense_2_acc_20: 1.0000 - dense_2_acc_21: 1.0000 - dense_2_acc_22: 1.0000 - dense_2_acc_23: 1.0000 - dense_2_acc_24: 1.0000 - dense_2_acc_25: 1.0000 - dense_2_acc_26: 1.0000 - dense_2_acc_27: 1.0000 - dense_2_acc_28: 1.0000 - dense_2_acc_29: 0.9833 - dense_2_acc_30: 0.0167     \n",
      "Epoch 62/100\n",
      "60/60 [==============================] - 1s - loss: 9.2155 - dense_2_loss_1: 3.8816 - dense_2_loss_2: 1.8799 - dense_2_loss_3: 0.7620 - dense_2_loss_4: 0.2958 - dense_2_loss_5: 0.1905 - dense_2_loss_6: 0.1491 - dense_2_loss_7: 0.1217 - dense_2_loss_8: 0.1056 - dense_2_loss_9: 0.0998 - dense_2_loss_10: 0.0740 - dense_2_loss_11: 0.0906 - dense_2_loss_12: 0.0868 - dense_2_loss_13: 0.0701 - dense_2_loss_14: 0.0786 - dense_2_loss_15: 0.0824 - dense_2_loss_16: 0.0890 - dense_2_loss_17: 0.0842 - dense_2_loss_18: 0.0832 - dense_2_loss_19: 0.0849 - dense_2_loss_20: 0.0890 - dense_2_loss_21: 0.0942 - dense_2_loss_22: 0.0901 - dense_2_loss_23: 0.0842 - dense_2_loss_24: 0.0812 - dense_2_loss_25: 0.0851 - dense_2_loss_26: 0.0829 - dense_2_loss_27: 0.0902 - dense_2_loss_28: 0.0915 - dense_2_loss_29: 0.1172 - dense_2_loss_30: 0.0000e+00 - dense_2_acc_1: 0.0333 - dense_2_acc_2: 0.5167 - dense_2_acc_3: 0.8167 - dense_2_acc_4: 0.9833 - dense_2_acc_5: 0.9833 - dense_2_acc_6: 1.0000 - dense_2_acc_7: 1.0000 - dense_2_acc_8: 1.0000 - dense_2_acc_9: 1.0000 - dense_2_acc_10: 1.0000 - dense_2_acc_11: 1.0000 - dense_2_acc_12: 1.0000 - dense_2_acc_13: 1.0000 - dense_2_acc_14: 1.0000 - dense_2_acc_15: 1.0000 - dense_2_acc_16: 1.0000 - dense_2_acc_17: 1.0000 - dense_2_acc_18: 1.0000 - dense_2_acc_19: 1.0000 - dense_2_acc_20: 1.0000 - dense_2_acc_21: 1.0000 - dense_2_acc_22: 1.0000 - dense_2_acc_23: 1.0000 - dense_2_acc_24: 1.0000 - dense_2_acc_25: 1.0000 - dense_2_acc_26: 1.0000 - dense_2_acc_27: 1.0000 - dense_2_acc_28: 1.0000 - dense_2_acc_29: 1.0000 - dense_2_acc_30: 0.0167         \n",
      "Epoch 63/100\n",
      "60/60 [==============================] - 1s - loss: 9.0457 - dense_2_loss_1: 3.8779 - dense_2_loss_2: 1.8572 - dense_2_loss_3: 0.7424 - dense_2_loss_4: 0.2827 - dense_2_loss_5: 0.1825 - dense_2_loss_6: 0.1424 - dense_2_loss_7: 0.1161 - dense_2_loss_8: 0.1004 - dense_2_loss_9: 0.0950 - dense_2_loss_10: 0.0703 - dense_2_loss_11: 0.0863 - dense_2_loss_12: 0.0824 - dense_2_loss_13: 0.0670 - dense_2_loss_14: 0.0745 - dense_2_loss_15: 0.0784 - dense_2_loss_16: 0.0845 - dense_2_loss_17: 0.0802 - dense_2_loss_18: 0.0793 - dense_2_loss_19: 0.0803 - dense_2_loss_20: 0.0845 - dense_2_loss_21: 0.0902 - dense_2_loss_22: 0.0861 - dense_2_loss_23: 0.0803 - dense_2_loss_24: 0.0775 - dense_2_loss_25: 0.0821 - dense_2_loss_26: 0.0794 - dense_2_loss_27: 0.0859 - dense_2_loss_28: 0.0871 - dense_2_loss_29: 0.1129 - dense_2_loss_30: 0.0000e+00 - dense_2_acc_1: 0.0333 - dense_2_acc_2: 0.5167 - dense_2_acc_3: 0.8333 - dense_2_acc_4: 0.9833 - dense_2_acc_5: 0.9833 - dense_2_acc_6: 1.0000 - dense_2_acc_7: 1.0000 - dense_2_acc_8: 1.0000 - dense_2_acc_9: 1.0000 - dense_2_acc_10: 1.0000 - dense_2_acc_11: 1.0000 - dense_2_acc_12: 1.0000 - dense_2_acc_13: 1.0000 - dense_2_acc_14: 1.0000 - dense_2_acc_15: 1.0000 - dense_2_acc_16: 1.0000 - dense_2_acc_17: 1.0000 - dense_2_acc_18: 1.0000 - dense_2_acc_19: 1.0000 - dense_2_acc_20: 1.0000 - dense_2_acc_21: 1.0000 - dense_2_acc_22: 1.0000 - dense_2_acc_23: 1.0000 - dense_2_acc_24: 1.0000 - dense_2_acc_25: 1.0000 - dense_2_acc_26: 1.0000 - dense_2_acc_27: 1.0000 - dense_2_acc_28: 1.0000 - dense_2_acc_29: 1.0000 - dense_2_acc_30: 0.0167         \n",
      "Epoch 64/100\n",
      "60/60 [==============================] - 1s - loss: 8.8864 - dense_2_loss_1: 3.8744 - dense_2_loss_2: 1.8328 - dense_2_loss_3: 0.7259 - dense_2_loss_4: 0.2705 - dense_2_loss_5: 0.1755 - dense_2_loss_6: 0.1362 - dense_2_loss_7: 0.1110 - dense_2_loss_8: 0.0956 - dense_2_loss_9: 0.0909 - dense_2_loss_10: 0.0668 - dense_2_loss_11: 0.0826 - dense_2_loss_12: 0.0791 - dense_2_loss_13: 0.0637 - dense_2_loss_14: 0.0712 - dense_2_loss_15: 0.0743 - dense_2_loss_16: 0.0798 - dense_2_loss_17: 0.0770 - dense_2_loss_18: 0.0754 - dense_2_loss_19: 0.0767 - dense_2_loss_20: 0.0807 - dense_2_loss_21: 0.0859 - dense_2_loss_22: 0.0817 - dense_2_loss_23: 0.0765 - dense_2_loss_24: 0.0740 - dense_2_loss_25: 0.0789 - dense_2_loss_26: 0.0766 - dense_2_loss_27: 0.0829 - dense_2_loss_28: 0.0826 - dense_2_loss_29: 0.1073 - dense_2_loss_30: 0.0000e+00 - dense_2_acc_1: 0.0333 - dense_2_acc_2: 0.5167 - dense_2_acc_3: 0.8333 - dense_2_acc_4: 0.9833 - dense_2_acc_5: 0.9833 - dense_2_acc_6: 1.0000 - dense_2_acc_7: 1.0000 - dense_2_acc_8: 1.0000 - dense_2_acc_9: 1.0000 - dense_2_acc_10: 1.0000 - dense_2_acc_11: 1.0000 - dense_2_acc_12: 1.0000 - dense_2_acc_13: 1.0000 - dense_2_acc_14: 1.0000 - dense_2_acc_15: 1.0000 - dense_2_acc_16: 1.0000 - dense_2_acc_17: 1.0000 - dense_2_acc_18: 1.0000 - dense_2_acc_19: 1.0000 - dense_2_acc_20: 1.0000 - dense_2_acc_21: 1.0000 - dense_2_acc_22: 1.0000 - dense_2_acc_23: 1.0000 - dense_2_acc_24: 1.0000 - dense_2_acc_25: 1.0000 - dense_2_acc_26: 1.0000 - dense_2_acc_27: 1.0000 - dense_2_acc_28: 1.0000 - dense_2_acc_29: 1.0000 - dense_2_acc_30: 0.0167     \n",
      "Epoch 65/100\n",
      "60/60 [==============================] - 1s - loss: 8.7368 - dense_2_loss_1: 3.8709 - dense_2_loss_2: 1.8116 - dense_2_loss_3: 0.7084 - dense_2_loss_4: 0.2593 - dense_2_loss_5: 0.1684 - dense_2_loss_6: 0.1300 - dense_2_loss_7: 0.1065 - dense_2_loss_8: 0.0910 - dense_2_loss_9: 0.0872 - dense_2_loss_10: 0.0638 - dense_2_loss_11: 0.0793 - dense_2_loss_12: 0.0754 - dense_2_loss_13: 0.0615 - dense_2_loss_14: 0.0684 - dense_2_loss_15: 0.0711 - dense_2_loss_16: 0.0765 - dense_2_loss_17: 0.0736 - dense_2_loss_18: 0.0720 - dense_2_loss_19: 0.0745 - dense_2_loss_20: 0.0776 - dense_2_loss_21: 0.0812 - dense_2_loss_22: 0.0777 - dense_2_loss_23: 0.0727 - dense_2_loss_24: 0.0702 - dense_2_loss_25: 0.0753 - dense_2_loss_26: 0.0716 - dense_2_loss_27: 0.0782 - dense_2_loss_28: 0.0811 - dense_2_loss_29: 0.1019 - dense_2_loss_30: 0.0000e+00 - dense_2_acc_1: 0.0333 - dense_2_acc_2: 0.5167 - dense_2_acc_3: 0.8333 - dense_2_acc_4: 0.9833 - dense_2_acc_5: 0.9833 - dense_2_acc_6: 1.0000 - dense_2_acc_7: 1.0000 - dense_2_acc_8: 1.0000 - dense_2_acc_9: 1.0000 - dense_2_acc_10: 1.0000 - dense_2_acc_11: 1.0000 - dense_2_acc_12: 1.0000 - dense_2_acc_13: 1.0000 - dense_2_acc_14: 1.0000 - dense_2_acc_15: 1.0000 - dense_2_acc_16: 1.0000 - dense_2_acc_17: 1.0000 - dense_2_acc_18: 1.0000 - dense_2_acc_19: 1.0000 - dense_2_acc_20: 1.0000 - dense_2_acc_21: 1.0000 - dense_2_acc_22: 1.0000 - dense_2_acc_23: 1.0000 - dense_2_acc_24: 1.0000 - dense_2_acc_25: 1.0000 - dense_2_acc_26: 1.0000 - dense_2_acc_27: 1.0000 - dense_2_acc_28: 1.0000 - dense_2_acc_29: 1.0000 - dense_2_acc_30: 0.0167         \n",
      "Epoch 66/100\n",
      "60/60 [==============================] - 1s - loss: 8.5919 - dense_2_loss_1: 3.8676 - dense_2_loss_2: 1.7902 - dense_2_loss_3: 0.6921 - dense_2_loss_4: 0.2498 - dense_2_loss_5: 0.1619 - dense_2_loss_6: 0.1246 - dense_2_loss_7: 0.1022 - dense_2_loss_8: 0.0868 - dense_2_loss_9: 0.0835 - dense_2_loss_10: 0.0610 - dense_2_loss_11: 0.0760 - dense_2_loss_12: 0.0722 - dense_2_loss_13: 0.0588 - dense_2_loss_14: 0.0656 - dense_2_loss_15: 0.0679 - dense_2_loss_16: 0.0731 - dense_2_loss_17: 0.0698 - dense_2_loss_18: 0.0685 - dense_2_loss_19: 0.0708 - dense_2_loss_20: 0.0737 - dense_2_loss_21: 0.0773 - dense_2_loss_22: 0.0739 - dense_2_loss_23: 0.0689 - dense_2_loss_24: 0.0671 - dense_2_loss_25: 0.0716 - dense_2_loss_26: 0.0683 - dense_2_loss_27: 0.0748 - dense_2_loss_28: 0.0766 - dense_2_loss_29: 0.0972 - dense_2_loss_30: 0.0000e+00 - dense_2_acc_1: 0.0333 - dense_2_acc_2: 0.5167 - dense_2_acc_3: 0.8333 - dense_2_acc_4: 0.9833 - dense_2_acc_5: 0.9833 - dense_2_acc_6: 1.0000 - dense_2_acc_7: 1.0000 - dense_2_acc_8: 1.0000 - dense_2_acc_9: 1.0000 - dense_2_acc_10: 1.0000 - dense_2_acc_11: 1.0000 - dense_2_acc_12: 1.0000 - dense_2_acc_13: 1.0000 - dense_2_acc_14: 1.0000 - dense_2_acc_15: 1.0000 - dense_2_acc_16: 1.0000 - dense_2_acc_17: 1.0000 - dense_2_acc_18: 1.0000 - dense_2_acc_19: 1.0000 - dense_2_acc_20: 1.0000 - dense_2_acc_21: 1.0000 - dense_2_acc_22: 1.0000 - dense_2_acc_23: 1.0000 - dense_2_acc_24: 1.0000 - dense_2_acc_25: 1.0000 - dense_2_acc_26: 1.0000 - dense_2_acc_27: 1.0000 - dense_2_acc_28: 1.0000 - dense_2_acc_29: 1.0000 - dense_2_acc_30: 0.0167         \n",
      "Epoch 67/100\n",
      "60/60 [==============================] - 1s - loss: 8.4593 - dense_2_loss_1: 3.8643 - dense_2_loss_2: 1.7697 - dense_2_loss_3: 0.6761 - dense_2_loss_4: 0.2401 - dense_2_loss_5: 0.1553 - dense_2_loss_6: 0.1190 - dense_2_loss_7: 0.0983 - dense_2_loss_8: 0.0828 - dense_2_loss_9: 0.0796 - dense_2_loss_10: 0.0585 - dense_2_loss_11: 0.0727 - dense_2_loss_12: 0.0691 - dense_2_loss_13: 0.0562 - dense_2_loss_14: 0.0627 - dense_2_loss_15: 0.0650 - dense_2_loss_16: 0.0700 - dense_2_loss_17: 0.0669 - dense_2_loss_18: 0.0657 - dense_2_loss_19: 0.0673 - dense_2_loss_20: 0.0701 - dense_2_loss_21: 0.0745 - dense_2_loss_22: 0.0711 - dense_2_loss_23: 0.0660 - dense_2_loss_24: 0.0647 - dense_2_loss_25: 0.0689 - dense_2_loss_26: 0.0665 - dense_2_loss_27: 0.0726 - dense_2_loss_28: 0.0723 - dense_2_loss_29: 0.0931 - dense_2_loss_30: 0.0000e+00 - dense_2_acc_1: 0.0333 - dense_2_acc_2: 0.5167 - dense_2_acc_3: 0.8500 - dense_2_acc_4: 0.9833 - dense_2_acc_5: 1.0000 - dense_2_acc_6: 1.0000 - dense_2_acc_7: 1.0000 - dense_2_acc_8: 1.0000 - dense_2_acc_9: 1.0000 - dense_2_acc_10: 1.0000 - dense_2_acc_11: 1.0000 - dense_2_acc_12: 1.0000 - dense_2_acc_13: 1.0000 - dense_2_acc_14: 1.0000 - dense_2_acc_15: 1.0000 - dense_2_acc_16: 1.0000 - dense_2_acc_17: 1.0000 - dense_2_acc_18: 1.0000 - dense_2_acc_19: 1.0000 - dense_2_acc_20: 1.0000 - dense_2_acc_21: 1.0000 - dense_2_acc_22: 1.0000 - dense_2_acc_23: 1.0000 - dense_2_acc_24: 1.0000 - dense_2_acc_25: 1.0000 - dense_2_acc_26: 1.0000 - dense_2_acc_27: 1.0000 - dense_2_acc_28: 1.0000 - dense_2_acc_29: 1.0000 - dense_2_acc_30: 0.0167             \n",
      "Epoch 68/100\n",
      "60/60 [==============================] - 1s - loss: 8.3351 - dense_2_loss_1: 3.8608 - dense_2_loss_2: 1.7489 - dense_2_loss_3: 0.6619 - dense_2_loss_4: 0.2306 - dense_2_loss_5: 0.1500 - dense_2_loss_6: 0.1142 - dense_2_loss_7: 0.0949 - dense_2_loss_8: 0.0797 - dense_2_loss_9: 0.0764 - dense_2_loss_10: 0.0563 - dense_2_loss_11: 0.0695 - dense_2_loss_12: 0.0665 - dense_2_loss_13: 0.0540 - dense_2_loss_14: 0.0599 - dense_2_loss_15: 0.0628 - dense_2_loss_16: 0.0669 - dense_2_loss_17: 0.0642 - dense_2_loss_18: 0.0631 - dense_2_loss_19: 0.0652 - dense_2_loss_20: 0.0673 - dense_2_loss_21: 0.0708 - dense_2_loss_22: 0.0681 - dense_2_loss_23: 0.0635 - dense_2_loss_24: 0.0614 - dense_2_loss_25: 0.0657 - dense_2_loss_26: 0.0636 - dense_2_loss_27: 0.0694 - dense_2_loss_28: 0.0697 - dense_2_loss_29: 0.0897 - dense_2_loss_30: 0.0000e+00 - dense_2_acc_1: 0.0333 - dense_2_acc_2: 0.5167 - dense_2_acc_3: 0.8500 - dense_2_acc_4: 0.9833 - dense_2_acc_5: 1.0000 - dense_2_acc_6: 1.0000 - dense_2_acc_7: 1.0000 - dense_2_acc_8: 1.0000 - dense_2_acc_9: 1.0000 - dense_2_acc_10: 1.0000 - dense_2_acc_11: 1.0000 - dense_2_acc_12: 1.0000 - dense_2_acc_13: 1.0000 - dense_2_acc_14: 1.0000 - dense_2_acc_15: 1.0000 - dense_2_acc_16: 1.0000 - dense_2_acc_17: 1.0000 - dense_2_acc_18: 1.0000 - dense_2_acc_19: 1.0000 - dense_2_acc_20: 1.0000 - dense_2_acc_21: 1.0000 - dense_2_acc_22: 1.0000 - dense_2_acc_23: 1.0000 - dense_2_acc_24: 1.0000 - dense_2_acc_25: 1.0000 - dense_2_acc_26: 1.0000 - dense_2_acc_27: 1.0000 - dense_2_acc_28: 1.0000 - dense_2_acc_29: 1.0000 - dense_2_acc_30: 0.0167     \n",
      "Epoch 69/100\n",
      "60/60 [==============================] - 1s - loss: 8.2171 - dense_2_loss_1: 3.8576 - dense_2_loss_2: 1.7289 - dense_2_loss_3: 0.6464 - dense_2_loss_4: 0.2228 - dense_2_loss_5: 0.1441 - dense_2_loss_6: 0.1093 - dense_2_loss_7: 0.0916 - dense_2_loss_8: 0.0761 - dense_2_loss_9: 0.0732 - dense_2_loss_10: 0.0540 - dense_2_loss_11: 0.0667 - dense_2_loss_12: 0.0639 - dense_2_loss_13: 0.0519 - dense_2_loss_14: 0.0574 - dense_2_loss_15: 0.0605 - dense_2_loss_16: 0.0643 - dense_2_loss_17: 0.0614 - dense_2_loss_18: 0.0608 - dense_2_loss_19: 0.0628 - dense_2_loss_20: 0.0646 - dense_2_loss_21: 0.0678 - dense_2_loss_22: 0.0655 - dense_2_loss_23: 0.0610 - dense_2_loss_24: 0.0588 - dense_2_loss_25: 0.0632 - dense_2_loss_26: 0.0602 - dense_2_loss_27: 0.0661 - dense_2_loss_28: 0.0701 - dense_2_loss_29: 0.0859 - dense_2_loss_30: 0.0000e+00 - dense_2_acc_1: 0.0333 - dense_2_acc_2: 0.5167 - dense_2_acc_3: 0.8500 - dense_2_acc_4: 0.9833 - dense_2_acc_5: 1.0000 - dense_2_acc_6: 1.0000 - dense_2_acc_7: 1.0000 - dense_2_acc_8: 1.0000 - dense_2_acc_9: 1.0000 - dense_2_acc_10: 1.0000 - dense_2_acc_11: 1.0000 - dense_2_acc_12: 1.0000 - dense_2_acc_13: 1.0000 - dense_2_acc_14: 1.0000 - dense_2_acc_15: 1.0000 - dense_2_acc_16: 1.0000 - dense_2_acc_17: 1.0000 - dense_2_acc_18: 1.0000 - dense_2_acc_19: 1.0000 - dense_2_acc_20: 1.0000 - dense_2_acc_21: 1.0000 - dense_2_acc_22: 1.0000 - dense_2_acc_23: 1.0000 - dense_2_acc_24: 1.0000 - dense_2_acc_25: 1.0000 - dense_2_acc_26: 1.0000 - dense_2_acc_27: 1.0000 - dense_2_acc_28: 1.0000 - dense_2_acc_29: 1.0000 - dense_2_acc_30: 0.0167     \n",
      "Epoch 70/100\n",
      "60/60 [==============================] - 1s - loss: 8.1059 - dense_2_loss_1: 3.8546 - dense_2_loss_2: 1.7099 - dense_2_loss_3: 0.6334 - dense_2_loss_4: 0.2146 - dense_2_loss_5: 0.1393 - dense_2_loss_6: 0.1056 - dense_2_loss_7: 0.0883 - dense_2_loss_8: 0.0731 - dense_2_loss_9: 0.0705 - dense_2_loss_10: 0.0517 - dense_2_loss_11: 0.0646 - dense_2_loss_12: 0.0618 - dense_2_loss_13: 0.0498 - dense_2_loss_14: 0.0552 - dense_2_loss_15: 0.0580 - dense_2_loss_16: 0.0617 - dense_2_loss_17: 0.0589 - dense_2_loss_18: 0.0585 - dense_2_loss_19: 0.0596 - dense_2_loss_20: 0.0618 - dense_2_loss_21: 0.0655 - dense_2_loss_22: 0.0628 - dense_2_loss_23: 0.0585 - dense_2_loss_24: 0.0570 - dense_2_loss_25: 0.0609 - dense_2_loss_26: 0.0587 - dense_2_loss_27: 0.0643 - dense_2_loss_28: 0.0648 - dense_2_loss_29: 0.0824 - dense_2_loss_30: 0.0000e+00 - dense_2_acc_1: 0.0333 - dense_2_acc_2: 0.5167 - dense_2_acc_3: 0.8500 - dense_2_acc_4: 0.9833 - dense_2_acc_5: 1.0000 - dense_2_acc_6: 1.0000 - dense_2_acc_7: 1.0000 - dense_2_acc_8: 1.0000 - dense_2_acc_9: 1.0000 - dense_2_acc_10: 1.0000 - dense_2_acc_11: 1.0000 - dense_2_acc_12: 1.0000 - dense_2_acc_13: 1.0000 - dense_2_acc_14: 1.0000 - dense_2_acc_15: 1.0000 - dense_2_acc_16: 1.0000 - dense_2_acc_17: 1.0000 - dense_2_acc_18: 1.0000 - dense_2_acc_19: 1.0000 - dense_2_acc_20: 1.0000 - dense_2_acc_21: 1.0000 - dense_2_acc_22: 1.0000 - dense_2_acc_23: 1.0000 - dense_2_acc_24: 1.0000 - dense_2_acc_25: 1.0000 - dense_2_acc_26: 1.0000 - dense_2_acc_27: 1.0000 - dense_2_acc_28: 1.0000 - dense_2_acc_29: 1.0000 - dense_2_acc_30: 0.0167     \n",
      "Epoch 71/100\n"
     ]
    },
    {
     "name": "stdout",
     "output_type": "stream",
     "text": [
      "60/60 [==============================] - 1s - loss: 7.9997 - dense_2_loss_1: 3.8514 - dense_2_loss_2: 1.6918 - dense_2_loss_3: 0.6190 - dense_2_loss_4: 0.2074 - dense_2_loss_5: 0.1347 - dense_2_loss_6: 0.1013 - dense_2_loss_7: 0.0850 - dense_2_loss_8: 0.0701 - dense_2_loss_9: 0.0678 - dense_2_loss_10: 0.0498 - dense_2_loss_11: 0.0621 - dense_2_loss_12: 0.0595 - dense_2_loss_13: 0.0482 - dense_2_loss_14: 0.0532 - dense_2_loss_15: 0.0559 - dense_2_loss_16: 0.0594 - dense_2_loss_17: 0.0565 - dense_2_loss_18: 0.0561 - dense_2_loss_19: 0.0573 - dense_2_loss_20: 0.0595 - dense_2_loss_21: 0.0631 - dense_2_loss_22: 0.0603 - dense_2_loss_23: 0.0563 - dense_2_loss_24: 0.0548 - dense_2_loss_25: 0.0585 - dense_2_loss_26: 0.0560 - dense_2_loss_27: 0.0618 - dense_2_loss_28: 0.0634 - dense_2_loss_29: 0.0796 - dense_2_loss_30: 0.0000e+00 - dense_2_acc_1: 0.0333 - dense_2_acc_2: 0.5167 - dense_2_acc_3: 0.8500 - dense_2_acc_4: 0.9833 - dense_2_acc_5: 1.0000 - dense_2_acc_6: 1.0000 - dense_2_acc_7: 1.0000 - dense_2_acc_8: 1.0000 - dense_2_acc_9: 1.0000 - dense_2_acc_10: 1.0000 - dense_2_acc_11: 1.0000 - dense_2_acc_12: 1.0000 - dense_2_acc_13: 1.0000 - dense_2_acc_14: 1.0000 - dense_2_acc_15: 1.0000 - dense_2_acc_16: 1.0000 - dense_2_acc_17: 1.0000 - dense_2_acc_18: 1.0000 - dense_2_acc_19: 1.0000 - dense_2_acc_20: 1.0000 - dense_2_acc_21: 1.0000 - dense_2_acc_22: 1.0000 - dense_2_acc_23: 1.0000 - dense_2_acc_24: 1.0000 - dense_2_acc_25: 1.0000 - dense_2_acc_26: 1.0000 - dense_2_acc_27: 1.0000 - dense_2_acc_28: 1.0000 - dense_2_acc_29: 1.0000 - dense_2_acc_30: 0.0167         \n",
      "Epoch 72/100\n",
      "60/60 [==============================] - 1s - loss: 7.8996 - dense_2_loss_1: 3.8481 - dense_2_loss_2: 1.6734 - dense_2_loss_3: 0.6060 - dense_2_loss_4: 0.1998 - dense_2_loss_5: 0.1304 - dense_2_loss_6: 0.0978 - dense_2_loss_7: 0.0821 - dense_2_loss_8: 0.0677 - dense_2_loss_9: 0.0655 - dense_2_loss_10: 0.0481 - dense_2_loss_11: 0.0597 - dense_2_loss_12: 0.0576 - dense_2_loss_13: 0.0465 - dense_2_loss_14: 0.0515 - dense_2_loss_15: 0.0539 - dense_2_loss_16: 0.0571 - dense_2_loss_17: 0.0547 - dense_2_loss_18: 0.0541 - dense_2_loss_19: 0.0556 - dense_2_loss_20: 0.0580 - dense_2_loss_21: 0.0603 - dense_2_loss_22: 0.0576 - dense_2_loss_23: 0.0540 - dense_2_loss_24: 0.0525 - dense_2_loss_25: 0.0564 - dense_2_loss_26: 0.0537 - dense_2_loss_27: 0.0594 - dense_2_loss_28: 0.0619 - dense_2_loss_29: 0.0764 - dense_2_loss_30: 0.0000e+00 - dense_2_acc_1: 0.0333 - dense_2_acc_2: 0.5167 - dense_2_acc_3: 0.8500 - dense_2_acc_4: 0.9833 - dense_2_acc_5: 1.0000 - dense_2_acc_6: 1.0000 - dense_2_acc_7: 1.0000 - dense_2_acc_8: 1.0000 - dense_2_acc_9: 1.0000 - dense_2_acc_10: 1.0000 - dense_2_acc_11: 1.0000 - dense_2_acc_12: 1.0000 - dense_2_acc_13: 1.0000 - dense_2_acc_14: 1.0000 - dense_2_acc_15: 1.0000 - dense_2_acc_16: 1.0000 - dense_2_acc_17: 1.0000 - dense_2_acc_18: 1.0000 - dense_2_acc_19: 1.0000 - dense_2_acc_20: 1.0000 - dense_2_acc_21: 1.0000 - dense_2_acc_22: 1.0000 - dense_2_acc_23: 1.0000 - dense_2_acc_24: 1.0000 - dense_2_acc_25: 1.0000 - dense_2_acc_26: 1.0000 - dense_2_acc_27: 1.0000 - dense_2_acc_28: 1.0000 - dense_2_acc_29: 1.0000 - dense_2_acc_30: 0.0167         \n",
      "Epoch 73/100\n",
      "60/60 [==============================] - 1s - loss: 7.8038 - dense_2_loss_1: 3.8450 - dense_2_loss_2: 1.6556 - dense_2_loss_3: 0.5933 - dense_2_loss_4: 0.1936 - dense_2_loss_5: 0.1258 - dense_2_loss_6: 0.0943 - dense_2_loss_7: 0.0793 - dense_2_loss_8: 0.0649 - dense_2_loss_9: 0.0627 - dense_2_loss_10: 0.0465 - dense_2_loss_11: 0.0574 - dense_2_loss_12: 0.0557 - dense_2_loss_13: 0.0448 - dense_2_loss_14: 0.0498 - dense_2_loss_15: 0.0520 - dense_2_loss_16: 0.0550 - dense_2_loss_17: 0.0528 - dense_2_loss_18: 0.0522 - dense_2_loss_19: 0.0534 - dense_2_loss_20: 0.0558 - dense_2_loss_21: 0.0584 - dense_2_loss_22: 0.0557 - dense_2_loss_23: 0.0519 - dense_2_loss_24: 0.0508 - dense_2_loss_25: 0.0546 - dense_2_loss_26: 0.0521 - dense_2_loss_27: 0.0576 - dense_2_loss_28: 0.0594 - dense_2_loss_29: 0.0737 - dense_2_loss_30: 0.0000e+00 - dense_2_acc_1: 0.0333 - dense_2_acc_2: 0.5167 - dense_2_acc_3: 0.8500 - dense_2_acc_4: 0.9833 - dense_2_acc_5: 1.0000 - dense_2_acc_6: 1.0000 - dense_2_acc_7: 1.0000 - dense_2_acc_8: 1.0000 - dense_2_acc_9: 1.0000 - dense_2_acc_10: 1.0000 - dense_2_acc_11: 1.0000 - dense_2_acc_12: 1.0000 - dense_2_acc_13: 1.0000 - dense_2_acc_14: 1.0000 - dense_2_acc_15: 1.0000 - dense_2_acc_16: 1.0000 - dense_2_acc_17: 1.0000 - dense_2_acc_18: 1.0000 - dense_2_acc_19: 1.0000 - dense_2_acc_20: 1.0000 - dense_2_acc_21: 1.0000 - dense_2_acc_22: 1.0000 - dense_2_acc_23: 1.0000 - dense_2_acc_24: 1.0000 - dense_2_acc_25: 1.0000 - dense_2_acc_26: 1.0000 - dense_2_acc_27: 1.0000 - dense_2_acc_28: 1.0000 - dense_2_acc_29: 1.0000 - dense_2_acc_30: 0.0167             \n",
      "Epoch 74/100\n",
      "60/60 [==============================] - 1s - loss: 7.7187 - dense_2_loss_1: 3.8418 - dense_2_loss_2: 1.6379 - dense_2_loss_3: 0.5828 - dense_2_loss_4: 0.1878 - dense_2_loss_5: 0.1221 - dense_2_loss_6: 0.0916 - dense_2_loss_7: 0.0768 - dense_2_loss_8: 0.0628 - dense_2_loss_9: 0.0609 - dense_2_loss_10: 0.0448 - dense_2_loss_11: 0.0557 - dense_2_loss_12: 0.0539 - dense_2_loss_13: 0.0430 - dense_2_loss_14: 0.0482 - dense_2_loss_15: 0.0499 - dense_2_loss_16: 0.0529 - dense_2_loss_17: 0.0509 - dense_2_loss_18: 0.0505 - dense_2_loss_19: 0.0512 - dense_2_loss_20: 0.0534 - dense_2_loss_21: 0.0567 - dense_2_loss_22: 0.0542 - dense_2_loss_23: 0.0499 - dense_2_loss_24: 0.0494 - dense_2_loss_25: 0.0534 - dense_2_loss_26: 0.0518 - dense_2_loss_27: 0.0563 - dense_2_loss_28: 0.0570 - dense_2_loss_29: 0.0711 - dense_2_loss_30: 0.0000e+00 - dense_2_acc_1: 0.0333 - dense_2_acc_2: 0.5167 - dense_2_acc_3: 0.8500 - dense_2_acc_4: 0.9833 - dense_2_acc_5: 1.0000 - dense_2_acc_6: 1.0000 - dense_2_acc_7: 1.0000 - dense_2_acc_8: 1.0000 - dense_2_acc_9: 1.0000 - dense_2_acc_10: 1.0000 - dense_2_acc_11: 1.0000 - dense_2_acc_12: 1.0000 - dense_2_acc_13: 1.0000 - dense_2_acc_14: 1.0000 - dense_2_acc_15: 1.0000 - dense_2_acc_16: 1.0000 - dense_2_acc_17: 1.0000 - dense_2_acc_18: 1.0000 - dense_2_acc_19: 1.0000 - dense_2_acc_20: 1.0000 - dense_2_acc_21: 1.0000 - dense_2_acc_22: 1.0000 - dense_2_acc_23: 1.0000 - dense_2_acc_24: 1.0000 - dense_2_acc_25: 1.0000 - dense_2_acc_26: 1.0000 - dense_2_acc_27: 1.0000 - dense_2_acc_28: 1.0000 - dense_2_acc_29: 1.0000 - dense_2_acc_30: 0.0167         \n",
      "Epoch 75/100\n",
      "60/60 [==============================] - 1s - loss: 7.6254 - dense_2_loss_1: 3.8388 - dense_2_loss_2: 1.6209 - dense_2_loss_3: 0.5696 - dense_2_loss_4: 0.1815 - dense_2_loss_5: 0.1179 - dense_2_loss_6: 0.0882 - dense_2_loss_7: 0.0742 - dense_2_loss_8: 0.0602 - dense_2_loss_9: 0.0585 - dense_2_loss_10: 0.0435 - dense_2_loss_11: 0.0537 - dense_2_loss_12: 0.0521 - dense_2_loss_13: 0.0417 - dense_2_loss_14: 0.0466 - dense_2_loss_15: 0.0482 - dense_2_loss_16: 0.0512 - dense_2_loss_17: 0.0493 - dense_2_loss_18: 0.0488 - dense_2_loss_19: 0.0500 - dense_2_loss_20: 0.0516 - dense_2_loss_21: 0.0542 - dense_2_loss_22: 0.0522 - dense_2_loss_23: 0.0481 - dense_2_loss_24: 0.0476 - dense_2_loss_25: 0.0513 - dense_2_loss_26: 0.0489 - dense_2_loss_27: 0.0535 - dense_2_loss_28: 0.0555 - dense_2_loss_29: 0.0677 - dense_2_loss_30: 0.0000e+00 - dense_2_acc_1: 0.0333 - dense_2_acc_2: 0.5167 - dense_2_acc_3: 0.8500 - dense_2_acc_4: 0.9833 - dense_2_acc_5: 1.0000 - dense_2_acc_6: 1.0000 - dense_2_acc_7: 1.0000 - dense_2_acc_8: 1.0000 - dense_2_acc_9: 1.0000 - dense_2_acc_10: 1.0000 - dense_2_acc_11: 1.0000 - dense_2_acc_12: 1.0000 - dense_2_acc_13: 1.0000 - dense_2_acc_14: 1.0000 - dense_2_acc_15: 1.0000 - dense_2_acc_16: 1.0000 - dense_2_acc_17: 1.0000 - dense_2_acc_18: 1.0000 - dense_2_acc_19: 1.0000 - dense_2_acc_20: 1.0000 - dense_2_acc_21: 1.0000 - dense_2_acc_22: 1.0000 - dense_2_acc_23: 1.0000 - dense_2_acc_24: 1.0000 - dense_2_acc_25: 1.0000 - dense_2_acc_26: 1.0000 - dense_2_acc_27: 1.0000 - dense_2_acc_28: 1.0000 - dense_2_acc_29: 1.0000 - dense_2_acc_30: 0.0167     \n",
      "Epoch 76/100\n",
      "60/60 [==============================] - 1s - loss: 7.5530 - dense_2_loss_1: 3.8358 - dense_2_loss_2: 1.6043 - dense_2_loss_3: 0.5582 - dense_2_loss_4: 0.1764 - dense_2_loss_5: 0.1146 - dense_2_loss_6: 0.0850 - dense_2_loss_7: 0.0721 - dense_2_loss_8: 0.0582 - dense_2_loss_9: 0.0568 - dense_2_loss_10: 0.0424 - dense_2_loss_11: 0.0515 - dense_2_loss_12: 0.0505 - dense_2_loss_13: 0.0405 - dense_2_loss_14: 0.0450 - dense_2_loss_15: 0.0471 - dense_2_loss_16: 0.0496 - dense_2_loss_17: 0.0479 - dense_2_loss_18: 0.0472 - dense_2_loss_19: 0.0494 - dense_2_loss_20: 0.0507 - dense_2_loss_21: 0.0521 - dense_2_loss_22: 0.0503 - dense_2_loss_23: 0.0470 - dense_2_loss_24: 0.0456 - dense_2_loss_25: 0.0500 - dense_2_loss_26: 0.0469 - dense_2_loss_27: 0.0519 - dense_2_loss_28: 0.0586 - dense_2_loss_29: 0.0676 - dense_2_loss_30: 0.0000e+00 - dense_2_acc_1: 0.0667 - dense_2_acc_2: 0.5833 - dense_2_acc_3: 0.8500 - dense_2_acc_4: 0.9833 - dense_2_acc_5: 1.0000 - dense_2_acc_6: 1.0000 - dense_2_acc_7: 1.0000 - dense_2_acc_8: 1.0000 - dense_2_acc_9: 1.0000 - dense_2_acc_10: 1.0000 - dense_2_acc_11: 1.0000 - dense_2_acc_12: 1.0000 - dense_2_acc_13: 1.0000 - dense_2_acc_14: 1.0000 - dense_2_acc_15: 1.0000 - dense_2_acc_16: 1.0000 - dense_2_acc_17: 1.0000 - dense_2_acc_18: 1.0000 - dense_2_acc_19: 1.0000 - dense_2_acc_20: 1.0000 - dense_2_acc_21: 1.0000 - dense_2_acc_22: 1.0000 - dense_2_acc_23: 1.0000 - dense_2_acc_24: 1.0000 - dense_2_acc_25: 1.0000 - dense_2_acc_26: 1.0000 - dense_2_acc_27: 1.0000 - dense_2_acc_28: 1.0000 - dense_2_acc_29: 1.0000 - dense_2_acc_30: 0.0167         \n",
      "Epoch 77/100\n",
      "60/60 [==============================] - 1s - loss: 7.4684 - dense_2_loss_1: 3.8327 - dense_2_loss_2: 1.5883 - dense_2_loss_3: 0.5471 - dense_2_loss_4: 0.1708 - dense_2_loss_5: 0.1114 - dense_2_loss_6: 0.0826 - dense_2_loss_7: 0.0699 - dense_2_loss_8: 0.0565 - dense_2_loss_9: 0.0550 - dense_2_loss_10: 0.0410 - dense_2_loss_11: 0.0501 - dense_2_loss_12: 0.0488 - dense_2_loss_13: 0.0394 - dense_2_loss_14: 0.0434 - dense_2_loss_15: 0.0454 - dense_2_loss_16: 0.0481 - dense_2_loss_17: 0.0461 - dense_2_loss_18: 0.0456 - dense_2_loss_19: 0.0471 - dense_2_loss_20: 0.0483 - dense_2_loss_21: 0.0504 - dense_2_loss_22: 0.0487 - dense_2_loss_23: 0.0455 - dense_2_loss_24: 0.0447 - dense_2_loss_25: 0.0482 - dense_2_loss_26: 0.0451 - dense_2_loss_27: 0.0506 - dense_2_loss_28: 0.0539 - dense_2_loss_29: 0.0640 - dense_2_loss_30: 0.0000e+00 - dense_2_acc_1: 0.0667 - dense_2_acc_2: 0.5833 - dense_2_acc_3: 0.8500 - dense_2_acc_4: 1.0000 - dense_2_acc_5: 1.0000 - dense_2_acc_6: 1.0000 - dense_2_acc_7: 1.0000 - dense_2_acc_8: 1.0000 - dense_2_acc_9: 1.0000 - dense_2_acc_10: 1.0000 - dense_2_acc_11: 1.0000 - dense_2_acc_12: 1.0000 - dense_2_acc_13: 1.0000 - dense_2_acc_14: 1.0000 - dense_2_acc_15: 1.0000 - dense_2_acc_16: 1.0000 - dense_2_acc_17: 1.0000 - dense_2_acc_18: 1.0000 - dense_2_acc_19: 1.0000 - dense_2_acc_20: 1.0000 - dense_2_acc_21: 1.0000 - dense_2_acc_22: 1.0000 - dense_2_acc_23: 1.0000 - dense_2_acc_24: 1.0000 - dense_2_acc_25: 1.0000 - dense_2_acc_26: 1.0000 - dense_2_acc_27: 1.0000 - dense_2_acc_28: 1.0000 - dense_2_acc_29: 1.0000 - dense_2_acc_30: 0.0167         \n",
      "Epoch 78/100\n",
      "60/60 [==============================] - 1s - loss: 7.4010 - dense_2_loss_1: 3.8297 - dense_2_loss_2: 1.5734 - dense_2_loss_3: 0.5368 - dense_2_loss_4: 0.1661 - dense_2_loss_5: 0.1080 - dense_2_loss_6: 0.0802 - dense_2_loss_7: 0.0676 - dense_2_loss_8: 0.0547 - dense_2_loss_9: 0.0534 - dense_2_loss_10: 0.0397 - dense_2_loss_11: 0.0486 - dense_2_loss_12: 0.0474 - dense_2_loss_13: 0.0381 - dense_2_loss_14: 0.0421 - dense_2_loss_15: 0.0437 - dense_2_loss_16: 0.0464 - dense_2_loss_17: 0.0447 - dense_2_loss_18: 0.0444 - dense_2_loss_19: 0.0448 - dense_2_loss_20: 0.0467 - dense_2_loss_21: 0.0496 - dense_2_loss_22: 0.0474 - dense_2_loss_23: 0.0441 - dense_2_loss_24: 0.0440 - dense_2_loss_25: 0.0477 - dense_2_loss_26: 0.0465 - dense_2_loss_27: 0.0515 - dense_2_loss_28: 0.0507 - dense_2_loss_29: 0.0631 - dense_2_loss_30: 0.0000e+00 - dense_2_acc_1: 0.0667 - dense_2_acc_2: 0.5833 - dense_2_acc_3: 0.8500 - dense_2_acc_4: 1.0000 - dense_2_acc_5: 1.0000 - dense_2_acc_6: 1.0000 - dense_2_acc_7: 1.0000 - dense_2_acc_8: 1.0000 - dense_2_acc_9: 1.0000 - dense_2_acc_10: 1.0000 - dense_2_acc_11: 1.0000 - dense_2_acc_12: 1.0000 - dense_2_acc_13: 1.0000 - dense_2_acc_14: 1.0000 - dense_2_acc_15: 1.0000 - dense_2_acc_16: 1.0000 - dense_2_acc_17: 1.0000 - dense_2_acc_18: 1.0000 - dense_2_acc_19: 1.0000 - dense_2_acc_20: 1.0000 - dense_2_acc_21: 1.0000 - dense_2_acc_22: 1.0000 - dense_2_acc_23: 1.0000 - dense_2_acc_24: 1.0000 - dense_2_acc_25: 1.0000 - dense_2_acc_26: 1.0000 - dense_2_acc_27: 1.0000 - dense_2_acc_28: 1.0000 - dense_2_acc_29: 1.0000 - dense_2_acc_30: 0.0167         \n",
      "Epoch 79/100\n",
      "60/60 [==============================] - 1s - loss: 7.3198 - dense_2_loss_1: 3.8266 - dense_2_loss_2: 1.5578 - dense_2_loss_3: 0.5257 - dense_2_loss_4: 0.1614 - dense_2_loss_5: 0.1049 - dense_2_loss_6: 0.0774 - dense_2_loss_7: 0.0655 - dense_2_loss_8: 0.0528 - dense_2_loss_9: 0.0517 - dense_2_loss_10: 0.0387 - dense_2_loss_11: 0.0468 - dense_2_loss_12: 0.0461 - dense_2_loss_13: 0.0370 - dense_2_loss_14: 0.0408 - dense_2_loss_15: 0.0425 - dense_2_loss_16: 0.0448 - dense_2_loss_17: 0.0432 - dense_2_loss_18: 0.0430 - dense_2_loss_19: 0.0437 - dense_2_loss_20: 0.0456 - dense_2_loss_21: 0.0475 - dense_2_loss_22: 0.0452 - dense_2_loss_23: 0.0426 - dense_2_loss_24: 0.0421 - dense_2_loss_25: 0.0452 - dense_2_loss_26: 0.0437 - dense_2_loss_27: 0.0488 - dense_2_loss_28: 0.0484 - dense_2_loss_29: 0.0603 - dense_2_loss_30: 0.0000e+00 - dense_2_acc_1: 0.0667 - dense_2_acc_2: 0.5833 - dense_2_acc_3: 0.8500 - dense_2_acc_4: 1.0000 - dense_2_acc_5: 1.0000 - dense_2_acc_6: 1.0000 - dense_2_acc_7: 1.0000 - dense_2_acc_8: 1.0000 - dense_2_acc_9: 1.0000 - dense_2_acc_10: 1.0000 - dense_2_acc_11: 1.0000 - dense_2_acc_12: 1.0000 - dense_2_acc_13: 1.0000 - dense_2_acc_14: 1.0000 - dense_2_acc_15: 1.0000 - dense_2_acc_16: 1.0000 - dense_2_acc_17: 1.0000 - dense_2_acc_18: 1.0000 - dense_2_acc_19: 1.0000 - dense_2_acc_20: 1.0000 - dense_2_acc_21: 1.0000 - dense_2_acc_22: 1.0000 - dense_2_acc_23: 1.0000 - dense_2_acc_24: 1.0000 - dense_2_acc_25: 1.0000 - dense_2_acc_26: 1.0000 - dense_2_acc_27: 1.0000 - dense_2_acc_28: 1.0000 - dense_2_acc_29: 1.0000 - dense_2_acc_30: 0.0167         \n",
      "Epoch 80/100\n",
      "60/60 [==============================] - 1s - loss: 7.2544 - dense_2_loss_1: 3.8238 - dense_2_loss_2: 1.5427 - dense_2_loss_3: 0.5159 - dense_2_loss_4: 0.1574 - dense_2_loss_5: 0.1023 - dense_2_loss_6: 0.0750 - dense_2_loss_7: 0.0636 - dense_2_loss_8: 0.0513 - dense_2_loss_9: 0.0502 - dense_2_loss_10: 0.0378 - dense_2_loss_11: 0.0453 - dense_2_loss_12: 0.0444 - dense_2_loss_13: 0.0361 - dense_2_loss_14: 0.0397 - dense_2_loss_15: 0.0416 - dense_2_loss_16: 0.0437 - dense_2_loss_17: 0.0418 - dense_2_loss_18: 0.0417 - dense_2_loss_19: 0.0431 - dense_2_loss_20: 0.0445 - dense_2_loss_21: 0.0458 - dense_2_loss_22: 0.0439 - dense_2_loss_23: 0.0415 - dense_2_loss_24: 0.0401 - dense_2_loss_25: 0.0437 - dense_2_loss_26: 0.0418 - dense_2_loss_27: 0.0470 - dense_2_loss_28: 0.0498 - dense_2_loss_29: 0.0591 - dense_2_loss_30: 0.0000e+00 - dense_2_acc_1: 0.0667 - dense_2_acc_2: 0.6000 - dense_2_acc_3: 0.8500 - dense_2_acc_4: 1.0000 - dense_2_acc_5: 1.0000 - dense_2_acc_6: 1.0000 - dense_2_acc_7: 1.0000 - dense_2_acc_8: 1.0000 - dense_2_acc_9: 1.0000 - dense_2_acc_10: 1.0000 - dense_2_acc_11: 1.0000 - dense_2_acc_12: 1.0000 - dense_2_acc_13: 1.0000 - dense_2_acc_14: 1.0000 - dense_2_acc_15: 1.0000 - dense_2_acc_16: 1.0000 - dense_2_acc_17: 1.0000 - dense_2_acc_18: 1.0000 - dense_2_acc_19: 1.0000 - dense_2_acc_20: 1.0000 - dense_2_acc_21: 1.0000 - dense_2_acc_22: 1.0000 - dense_2_acc_23: 1.0000 - dense_2_acc_24: 1.0000 - dense_2_acc_25: 1.0000 - dense_2_acc_26: 1.0000 - dense_2_acc_27: 1.0000 - dense_2_acc_28: 1.0000 - dense_2_acc_29: 1.0000 - dense_2_acc_30: 0.0167     \n",
      "Epoch 81/100\n"
     ]
    },
    {
     "name": "stdout",
     "output_type": "stream",
     "text": [
      "60/60 [==============================] - 1s - loss: 7.1858 - dense_2_loss_1: 3.8210 - dense_2_loss_2: 1.5283 - dense_2_loss_3: 0.5054 - dense_2_loss_4: 0.1531 - dense_2_loss_5: 0.0991 - dense_2_loss_6: 0.0727 - dense_2_loss_7: 0.0619 - dense_2_loss_8: 0.0496 - dense_2_loss_9: 0.0485 - dense_2_loss_10: 0.0367 - dense_2_loss_11: 0.0441 - dense_2_loss_12: 0.0432 - dense_2_loss_13: 0.0348 - dense_2_loss_14: 0.0385 - dense_2_loss_15: 0.0406 - dense_2_loss_16: 0.0423 - dense_2_loss_17: 0.0406 - dense_2_loss_18: 0.0406 - dense_2_loss_19: 0.0419 - dense_2_loss_20: 0.0431 - dense_2_loss_21: 0.0444 - dense_2_loss_22: 0.0428 - dense_2_loss_23: 0.0401 - dense_2_loss_24: 0.0390 - dense_2_loss_25: 0.0424 - dense_2_loss_26: 0.0405 - dense_2_loss_27: 0.0455 - dense_2_loss_28: 0.0480 - dense_2_loss_29: 0.0571 - dense_2_loss_30: 0.0000e+00 - dense_2_acc_1: 0.0667 - dense_2_acc_2: 0.6167 - dense_2_acc_3: 0.8500 - dense_2_acc_4: 1.0000 - dense_2_acc_5: 1.0000 - dense_2_acc_6: 1.0000 - dense_2_acc_7: 1.0000 - dense_2_acc_8: 1.0000 - dense_2_acc_9: 1.0000 - dense_2_acc_10: 1.0000 - dense_2_acc_11: 1.0000 - dense_2_acc_12: 1.0000 - dense_2_acc_13: 1.0000 - dense_2_acc_14: 1.0000 - dense_2_acc_15: 1.0000 - dense_2_acc_16: 1.0000 - dense_2_acc_17: 1.0000 - dense_2_acc_18: 1.0000 - dense_2_acc_19: 1.0000 - dense_2_acc_20: 1.0000 - dense_2_acc_21: 1.0000 - dense_2_acc_22: 1.0000 - dense_2_acc_23: 1.0000 - dense_2_acc_24: 1.0000 - dense_2_acc_25: 1.0000 - dense_2_acc_26: 1.0000 - dense_2_acc_27: 1.0000 - dense_2_acc_28: 1.0000 - dense_2_acc_29: 1.0000 - dense_2_acc_30: 0.0167     \n",
      "Epoch 82/100\n",
      "60/60 [==============================] - 1s - loss: 7.1194 - dense_2_loss_1: 3.8180 - dense_2_loss_2: 1.5139 - dense_2_loss_3: 0.4956 - dense_2_loss_4: 0.1494 - dense_2_loss_5: 0.0964 - dense_2_loss_6: 0.0709 - dense_2_loss_7: 0.0604 - dense_2_loss_8: 0.0482 - dense_2_loss_9: 0.0470 - dense_2_loss_10: 0.0355 - dense_2_loss_11: 0.0433 - dense_2_loss_12: 0.0420 - dense_2_loss_13: 0.0336 - dense_2_loss_14: 0.0374 - dense_2_loss_15: 0.0393 - dense_2_loss_16: 0.0410 - dense_2_loss_17: 0.0391 - dense_2_loss_18: 0.0393 - dense_2_loss_19: 0.0404 - dense_2_loss_20: 0.0411 - dense_2_loss_21: 0.0430 - dense_2_loss_22: 0.0420 - dense_2_loss_23: 0.0391 - dense_2_loss_24: 0.0386 - dense_2_loss_25: 0.0411 - dense_2_loss_26: 0.0387 - dense_2_loss_27: 0.0438 - dense_2_loss_28: 0.0459 - dense_2_loss_29: 0.0554 - dense_2_loss_30: 0.0000e+00 - dense_2_acc_1: 0.0667 - dense_2_acc_2: 0.6167 - dense_2_acc_3: 0.8500 - dense_2_acc_4: 1.0000 - dense_2_acc_5: 1.0000 - dense_2_acc_6: 1.0000 - dense_2_acc_7: 1.0000 - dense_2_acc_8: 1.0000 - dense_2_acc_9: 1.0000 - dense_2_acc_10: 1.0000 - dense_2_acc_11: 1.0000 - dense_2_acc_12: 1.0000 - dense_2_acc_13: 1.0000 - dense_2_acc_14: 1.0000 - dense_2_acc_15: 1.0000 - dense_2_acc_16: 1.0000 - dense_2_acc_17: 1.0000 - dense_2_acc_18: 1.0000 - dense_2_acc_19: 1.0000 - dense_2_acc_20: 1.0000 - dense_2_acc_21: 1.0000 - dense_2_acc_22: 1.0000 - dense_2_acc_23: 1.0000 - dense_2_acc_24: 1.0000 - dense_2_acc_25: 1.0000 - dense_2_acc_26: 1.0000 - dense_2_acc_27: 1.0000 - dense_2_acc_28: 1.0000 - dense_2_acc_29: 1.0000 - dense_2_acc_30: 0.0167         \n",
      "Epoch 83/100\n",
      "60/60 [==============================] - 1s - loss: 7.0614 - dense_2_loss_1: 3.8151 - dense_2_loss_2: 1.5001 - dense_2_loss_3: 0.4868 - dense_2_loss_4: 0.1459 - dense_2_loss_5: 0.0939 - dense_2_loss_6: 0.0689 - dense_2_loss_7: 0.0587 - dense_2_loss_8: 0.0469 - dense_2_loss_9: 0.0457 - dense_2_loss_10: 0.0344 - dense_2_loss_11: 0.0422 - dense_2_loss_12: 0.0409 - dense_2_loss_13: 0.0326 - dense_2_loss_14: 0.0364 - dense_2_loss_15: 0.0380 - dense_2_loss_16: 0.0400 - dense_2_loss_17: 0.0380 - dense_2_loss_18: 0.0384 - dense_2_loss_19: 0.0391 - dense_2_loss_20: 0.0398 - dense_2_loss_21: 0.0422 - dense_2_loss_22: 0.0412 - dense_2_loss_23: 0.0379 - dense_2_loss_24: 0.0378 - dense_2_loss_25: 0.0407 - dense_2_loss_26: 0.0389 - dense_2_loss_27: 0.0433 - dense_2_loss_28: 0.0442 - dense_2_loss_29: 0.0535 - dense_2_loss_30: 0.0000e+00 - dense_2_acc_1: 0.1000 - dense_2_acc_2: 0.6167 - dense_2_acc_3: 0.8500 - dense_2_acc_4: 1.0000 - dense_2_acc_5: 1.0000 - dense_2_acc_6: 1.0000 - dense_2_acc_7: 1.0000 - dense_2_acc_8: 1.0000 - dense_2_acc_9: 1.0000 - dense_2_acc_10: 1.0000 - dense_2_acc_11: 1.0000 - dense_2_acc_12: 1.0000 - dense_2_acc_13: 1.0000 - dense_2_acc_14: 1.0000 - dense_2_acc_15: 1.0000 - dense_2_acc_16: 1.0000 - dense_2_acc_17: 1.0000 - dense_2_acc_18: 1.0000 - dense_2_acc_19: 1.0000 - dense_2_acc_20: 1.0000 - dense_2_acc_21: 1.0000 - dense_2_acc_22: 1.0000 - dense_2_acc_23: 1.0000 - dense_2_acc_24: 1.0000 - dense_2_acc_25: 1.0000 - dense_2_acc_26: 1.0000 - dense_2_acc_27: 1.0000 - dense_2_acc_28: 1.0000 - dense_2_acc_29: 1.0000 - dense_2_acc_30: 0.0167     \n",
      "Epoch 84/100\n",
      "60/60 [==============================] - 1s - loss: 6.9996 - dense_2_loss_1: 3.8123 - dense_2_loss_2: 1.4862 - dense_2_loss_3: 0.4776 - dense_2_loss_4: 0.1422 - dense_2_loss_5: 0.0919 - dense_2_loss_6: 0.0668 - dense_2_loss_7: 0.0570 - dense_2_loss_8: 0.0455 - dense_2_loss_9: 0.0446 - dense_2_loss_10: 0.0336 - dense_2_loss_11: 0.0407 - dense_2_loss_12: 0.0398 - dense_2_loss_13: 0.0319 - dense_2_loss_14: 0.0354 - dense_2_loss_15: 0.0370 - dense_2_loss_16: 0.0386 - dense_2_loss_17: 0.0371 - dense_2_loss_18: 0.0373 - dense_2_loss_19: 0.0380 - dense_2_loss_20: 0.0391 - dense_2_loss_21: 0.0410 - dense_2_loss_22: 0.0395 - dense_2_loss_23: 0.0367 - dense_2_loss_24: 0.0365 - dense_2_loss_25: 0.0394 - dense_2_loss_26: 0.0375 - dense_2_loss_27: 0.0416 - dense_2_loss_28: 0.0430 - dense_2_loss_29: 0.0518 - dense_2_loss_30: 0.0000e+00 - dense_2_acc_1: 0.1000 - dense_2_acc_2: 0.6167 - dense_2_acc_3: 0.8500 - dense_2_acc_4: 1.0000 - dense_2_acc_5: 1.0000 - dense_2_acc_6: 1.0000 - dense_2_acc_7: 1.0000 - dense_2_acc_8: 1.0000 - dense_2_acc_9: 1.0000 - dense_2_acc_10: 1.0000 - dense_2_acc_11: 1.0000 - dense_2_acc_12: 1.0000 - dense_2_acc_13: 1.0000 - dense_2_acc_14: 1.0000 - dense_2_acc_15: 1.0000 - dense_2_acc_16: 1.0000 - dense_2_acc_17: 1.0000 - dense_2_acc_18: 1.0000 - dense_2_acc_19: 1.0000 - dense_2_acc_20: 1.0000 - dense_2_acc_21: 1.0000 - dense_2_acc_22: 1.0000 - dense_2_acc_23: 1.0000 - dense_2_acc_24: 1.0000 - dense_2_acc_25: 1.0000 - dense_2_acc_26: 1.0000 - dense_2_acc_27: 1.0000 - dense_2_acc_28: 1.0000 - dense_2_acc_29: 1.0000 - dense_2_acc_30: 0.0167         \n",
      "Epoch 85/100\n",
      "60/60 [==============================] - 1s - loss: 6.9438 - dense_2_loss_1: 3.8095 - dense_2_loss_2: 1.4736 - dense_2_loss_3: 0.4678 - dense_2_loss_4: 0.1387 - dense_2_loss_5: 0.0899 - dense_2_loss_6: 0.0650 - dense_2_loss_7: 0.0554 - dense_2_loss_8: 0.0442 - dense_2_loss_9: 0.0435 - dense_2_loss_10: 0.0329 - dense_2_loss_11: 0.0394 - dense_2_loss_12: 0.0388 - dense_2_loss_13: 0.0313 - dense_2_loss_14: 0.0345 - dense_2_loss_15: 0.0361 - dense_2_loss_16: 0.0378 - dense_2_loss_17: 0.0364 - dense_2_loss_18: 0.0363 - dense_2_loss_19: 0.0373 - dense_2_loss_20: 0.0387 - dense_2_loss_21: 0.0398 - dense_2_loss_22: 0.0380 - dense_2_loss_23: 0.0356 - dense_2_loss_24: 0.0351 - dense_2_loss_25: 0.0384 - dense_2_loss_26: 0.0359 - dense_2_loss_27: 0.0398 - dense_2_loss_28: 0.0435 - dense_2_loss_29: 0.0508 - dense_2_loss_30: 0.0000e+00 - dense_2_acc_1: 0.1000 - dense_2_acc_2: 0.6167 - dense_2_acc_3: 0.8500 - dense_2_acc_4: 1.0000 - dense_2_acc_5: 1.0000 - dense_2_acc_6: 1.0000 - dense_2_acc_7: 1.0000 - dense_2_acc_8: 1.0000 - dense_2_acc_9: 1.0000 - dense_2_acc_10: 1.0000 - dense_2_acc_11: 1.0000 - dense_2_acc_12: 1.0000 - dense_2_acc_13: 1.0000 - dense_2_acc_14: 1.0000 - dense_2_acc_15: 1.0000 - dense_2_acc_16: 1.0000 - dense_2_acc_17: 1.0000 - dense_2_acc_18: 1.0000 - dense_2_acc_19: 1.0000 - dense_2_acc_20: 1.0000 - dense_2_acc_21: 1.0000 - dense_2_acc_22: 1.0000 - dense_2_acc_23: 1.0000 - dense_2_acc_24: 1.0000 - dense_2_acc_25: 1.0000 - dense_2_acc_26: 1.0000 - dense_2_acc_27: 1.0000 - dense_2_acc_28: 1.0000 - dense_2_acc_29: 1.0000 - dense_2_acc_30: 0.0167         \n",
      "Epoch 86/100\n",
      "60/60 [==============================] - 1s - loss: 6.8888 - dense_2_loss_1: 3.8066 - dense_2_loss_2: 1.4601 - dense_2_loss_3: 0.4593 - dense_2_loss_4: 0.1357 - dense_2_loss_5: 0.0877 - dense_2_loss_6: 0.0633 - dense_2_loss_7: 0.0539 - dense_2_loss_8: 0.0430 - dense_2_loss_9: 0.0423 - dense_2_loss_10: 0.0321 - dense_2_loss_11: 0.0383 - dense_2_loss_12: 0.0378 - dense_2_loss_13: 0.0306 - dense_2_loss_14: 0.0337 - dense_2_loss_15: 0.0352 - dense_2_loss_16: 0.0368 - dense_2_loss_17: 0.0354 - dense_2_loss_18: 0.0352 - dense_2_loss_19: 0.0363 - dense_2_loss_20: 0.0377 - dense_2_loss_21: 0.0387 - dense_2_loss_22: 0.0369 - dense_2_loss_23: 0.0346 - dense_2_loss_24: 0.0342 - dense_2_loss_25: 0.0373 - dense_2_loss_26: 0.0348 - dense_2_loss_27: 0.0388 - dense_2_loss_28: 0.0425 - dense_2_loss_29: 0.0498 - dense_2_loss_30: 0.0000e+00 - dense_2_acc_1: 0.1000 - dense_2_acc_2: 0.6167 - dense_2_acc_3: 0.8500 - dense_2_acc_4: 1.0000 - dense_2_acc_5: 1.0000 - dense_2_acc_6: 1.0000 - dense_2_acc_7: 1.0000 - dense_2_acc_8: 1.0000 - dense_2_acc_9: 1.0000 - dense_2_acc_10: 1.0000 - dense_2_acc_11: 1.0000 - dense_2_acc_12: 1.0000 - dense_2_acc_13: 1.0000 - dense_2_acc_14: 1.0000 - dense_2_acc_15: 1.0000 - dense_2_acc_16: 1.0000 - dense_2_acc_17: 1.0000 - dense_2_acc_18: 1.0000 - dense_2_acc_19: 1.0000 - dense_2_acc_20: 1.0000 - dense_2_acc_21: 1.0000 - dense_2_acc_22: 1.0000 - dense_2_acc_23: 1.0000 - dense_2_acc_24: 1.0000 - dense_2_acc_25: 1.0000 - dense_2_acc_26: 1.0000 - dense_2_acc_27: 1.0000 - dense_2_acc_28: 1.0000 - dense_2_acc_29: 1.0000 - dense_2_acc_30: 0.0167         \n",
      "Epoch 87/100\n",
      "60/60 [==============================] - 1s - loss: 6.8353 - dense_2_loss_1: 3.8039 - dense_2_loss_2: 1.4480 - dense_2_loss_3: 0.4517 - dense_2_loss_4: 0.1327 - dense_2_loss_5: 0.0856 - dense_2_loss_6: 0.0619 - dense_2_loss_7: 0.0526 - dense_2_loss_8: 0.0420 - dense_2_loss_9: 0.0412 - dense_2_loss_10: 0.0313 - dense_2_loss_11: 0.0374 - dense_2_loss_12: 0.0369 - dense_2_loss_13: 0.0296 - dense_2_loss_14: 0.0328 - dense_2_loss_15: 0.0341 - dense_2_loss_16: 0.0357 - dense_2_loss_17: 0.0343 - dense_2_loss_18: 0.0344 - dense_2_loss_19: 0.0350 - dense_2_loss_20: 0.0365 - dense_2_loss_21: 0.0377 - dense_2_loss_22: 0.0360 - dense_2_loss_23: 0.0337 - dense_2_loss_24: 0.0336 - dense_2_loss_25: 0.0363 - dense_2_loss_26: 0.0344 - dense_2_loss_27: 0.0382 - dense_2_loss_28: 0.0397 - dense_2_loss_29: 0.0481 - dense_2_loss_30: 0.0000e+00 - dense_2_acc_1: 0.1000 - dense_2_acc_2: 0.6167 - dense_2_acc_3: 0.8500 - dense_2_acc_4: 1.0000 - dense_2_acc_5: 1.0000 - dense_2_acc_6: 1.0000 - dense_2_acc_7: 1.0000 - dense_2_acc_8: 1.0000 - dense_2_acc_9: 1.0000 - dense_2_acc_10: 1.0000 - dense_2_acc_11: 1.0000 - dense_2_acc_12: 1.0000 - dense_2_acc_13: 1.0000 - dense_2_acc_14: 1.0000 - dense_2_acc_15: 1.0000 - dense_2_acc_16: 1.0000 - dense_2_acc_17: 1.0000 - dense_2_acc_18: 1.0000 - dense_2_acc_19: 1.0000 - dense_2_acc_20: 1.0000 - dense_2_acc_21: 1.0000 - dense_2_acc_22: 1.0000 - dense_2_acc_23: 1.0000 - dense_2_acc_24: 1.0000 - dense_2_acc_25: 1.0000 - dense_2_acc_26: 1.0000 - dense_2_acc_27: 1.0000 - dense_2_acc_28: 1.0000 - dense_2_acc_29: 1.0000 - dense_2_acc_30: 0.0167     \n",
      "Epoch 88/100\n",
      "60/60 [==============================] - 1s - loss: 6.7841 - dense_2_loss_1: 3.8011 - dense_2_loss_2: 1.4351 - dense_2_loss_3: 0.4431 - dense_2_loss_4: 0.1298 - dense_2_loss_5: 0.0835 - dense_2_loss_6: 0.0603 - dense_2_loss_7: 0.0513 - dense_2_loss_8: 0.0409 - dense_2_loss_9: 0.0402 - dense_2_loss_10: 0.0305 - dense_2_loss_11: 0.0365 - dense_2_loss_12: 0.0359 - dense_2_loss_13: 0.0289 - dense_2_loss_14: 0.0320 - dense_2_loss_15: 0.0332 - dense_2_loss_16: 0.0349 - dense_2_loss_17: 0.0334 - dense_2_loss_18: 0.0335 - dense_2_loss_19: 0.0340 - dense_2_loss_20: 0.0352 - dense_2_loss_21: 0.0367 - dense_2_loss_22: 0.0353 - dense_2_loss_23: 0.0330 - dense_2_loss_24: 0.0328 - dense_2_loss_25: 0.0355 - dense_2_loss_26: 0.0338 - dense_2_loss_27: 0.0377 - dense_2_loss_28: 0.0387 - dense_2_loss_29: 0.0473 - dense_2_loss_30: 0.0000e+00 - dense_2_acc_1: 0.1000 - dense_2_acc_2: 0.6167 - dense_2_acc_3: 0.8500 - dense_2_acc_4: 1.0000 - dense_2_acc_5: 1.0000 - dense_2_acc_6: 1.0000 - dense_2_acc_7: 1.0000 - dense_2_acc_8: 1.0000 - dense_2_acc_9: 1.0000 - dense_2_acc_10: 1.0000 - dense_2_acc_11: 1.0000 - dense_2_acc_12: 1.0000 - dense_2_acc_13: 1.0000 - dense_2_acc_14: 1.0000 - dense_2_acc_15: 1.0000 - dense_2_acc_16: 1.0000 - dense_2_acc_17: 1.0000 - dense_2_acc_18: 1.0000 - dense_2_acc_19: 1.0000 - dense_2_acc_20: 1.0000 - dense_2_acc_21: 1.0000 - dense_2_acc_22: 1.0000 - dense_2_acc_23: 1.0000 - dense_2_acc_24: 1.0000 - dense_2_acc_25: 1.0000 - dense_2_acc_26: 1.0000 - dense_2_acc_27: 1.0000 - dense_2_acc_28: 1.0000 - dense_2_acc_29: 1.0000 - dense_2_acc_30: 0.0167     \n",
      "Epoch 89/100\n",
      "60/60 [==============================] - 1s - loss: 6.7324 - dense_2_loss_1: 3.7983 - dense_2_loss_2: 1.4225 - dense_2_loss_3: 0.4342 - dense_2_loss_4: 0.1270 - dense_2_loss_5: 0.0813 - dense_2_loss_6: 0.0587 - dense_2_loss_7: 0.0499 - dense_2_loss_8: 0.0399 - dense_2_loss_9: 0.0390 - dense_2_loss_10: 0.0298 - dense_2_loss_11: 0.0355 - dense_2_loss_12: 0.0350 - dense_2_loss_13: 0.0281 - dense_2_loss_14: 0.0311 - dense_2_loss_15: 0.0326 - dense_2_loss_16: 0.0340 - dense_2_loss_17: 0.0326 - dense_2_loss_18: 0.0327 - dense_2_loss_19: 0.0332 - dense_2_loss_20: 0.0344 - dense_2_loss_21: 0.0358 - dense_2_loss_22: 0.0345 - dense_2_loss_23: 0.0322 - dense_2_loss_24: 0.0320 - dense_2_loss_25: 0.0346 - dense_2_loss_26: 0.0328 - dense_2_loss_27: 0.0366 - dense_2_loss_28: 0.0379 - dense_2_loss_29: 0.0462 - dense_2_loss_30: 0.0000e+00 - dense_2_acc_1: 0.1000 - dense_2_acc_2: 0.6167 - dense_2_acc_3: 0.8667 - dense_2_acc_4: 1.0000 - dense_2_acc_5: 1.0000 - dense_2_acc_6: 1.0000 - dense_2_acc_7: 1.0000 - dense_2_acc_8: 1.0000 - dense_2_acc_9: 1.0000 - dense_2_acc_10: 1.0000 - dense_2_acc_11: 1.0000 - dense_2_acc_12: 1.0000 - dense_2_acc_13: 1.0000 - dense_2_acc_14: 1.0000 - dense_2_acc_15: 1.0000 - dense_2_acc_16: 1.0000 - dense_2_acc_17: 1.0000 - dense_2_acc_18: 1.0000 - dense_2_acc_19: 1.0000 - dense_2_acc_20: 1.0000 - dense_2_acc_21: 1.0000 - dense_2_acc_22: 1.0000 - dense_2_acc_23: 1.0000 - dense_2_acc_24: 1.0000 - dense_2_acc_25: 1.0000 - dense_2_acc_26: 1.0000 - dense_2_acc_27: 1.0000 - dense_2_acc_28: 1.0000 - dense_2_acc_29: 1.0000 - dense_2_acc_30: 0.0167         \n",
      "Epoch 90/100\n",
      "60/60 [==============================] - 1s - loss: 6.6853 - dense_2_loss_1: 3.7954 - dense_2_loss_2: 1.4106 - dense_2_loss_3: 0.4269 - dense_2_loss_4: 0.1246 - dense_2_loss_5: 0.0796 - dense_2_loss_6: 0.0572 - dense_2_loss_7: 0.0487 - dense_2_loss_8: 0.0389 - dense_2_loss_9: 0.0381 - dense_2_loss_10: 0.0293 - dense_2_loss_11: 0.0346 - dense_2_loss_12: 0.0342 - dense_2_loss_13: 0.0275 - dense_2_loss_14: 0.0303 - dense_2_loss_15: 0.0319 - dense_2_loss_16: 0.0332 - dense_2_loss_17: 0.0319 - dense_2_loss_18: 0.0320 - dense_2_loss_19: 0.0326 - dense_2_loss_20: 0.0336 - dense_2_loss_21: 0.0347 - dense_2_loss_22: 0.0336 - dense_2_loss_23: 0.0314 - dense_2_loss_24: 0.0310 - dense_2_loss_25: 0.0336 - dense_2_loss_26: 0.0316 - dense_2_loss_27: 0.0354 - dense_2_loss_28: 0.0379 - dense_2_loss_29: 0.0448 - dense_2_loss_30: 0.0000e+00 - dense_2_acc_1: 0.1000 - dense_2_acc_2: 0.6167 - dense_2_acc_3: 0.8667 - dense_2_acc_4: 1.0000 - dense_2_acc_5: 1.0000 - dense_2_acc_6: 1.0000 - dense_2_acc_7: 1.0000 - dense_2_acc_8: 1.0000 - dense_2_acc_9: 1.0000 - dense_2_acc_10: 1.0000 - dense_2_acc_11: 1.0000 - dense_2_acc_12: 1.0000 - dense_2_acc_13: 1.0000 - dense_2_acc_14: 1.0000 - dense_2_acc_15: 1.0000 - dense_2_acc_16: 1.0000 - dense_2_acc_17: 1.0000 - dense_2_acc_18: 1.0000 - dense_2_acc_19: 1.0000 - dense_2_acc_20: 1.0000 - dense_2_acc_21: 1.0000 - dense_2_acc_22: 1.0000 - dense_2_acc_23: 1.0000 - dense_2_acc_24: 1.0000 - dense_2_acc_25: 1.0000 - dense_2_acc_26: 1.0000 - dense_2_acc_27: 1.0000 - dense_2_acc_28: 1.0000 - dense_2_acc_29: 1.0000 - dense_2_acc_30: 0.0167         \n",
      "Epoch 91/100\n"
     ]
    },
    {
     "name": "stdout",
     "output_type": "stream",
     "text": [
      "60/60 [==============================] - 1s - loss: 6.6385 - dense_2_loss_1: 3.7928 - dense_2_loss_2: 1.3985 - dense_2_loss_3: 0.4188 - dense_2_loss_4: 0.1220 - dense_2_loss_5: 0.0779 - dense_2_loss_6: 0.0558 - dense_2_loss_7: 0.0474 - dense_2_loss_8: 0.0380 - dense_2_loss_9: 0.0373 - dense_2_loss_10: 0.0286 - dense_2_loss_11: 0.0337 - dense_2_loss_12: 0.0334 - dense_2_loss_13: 0.0269 - dense_2_loss_14: 0.0296 - dense_2_loss_15: 0.0311 - dense_2_loss_16: 0.0325 - dense_2_loss_17: 0.0311 - dense_2_loss_18: 0.0313 - dense_2_loss_19: 0.0319 - dense_2_loss_20: 0.0329 - dense_2_loss_21: 0.0339 - dense_2_loss_22: 0.0327 - dense_2_loss_23: 0.0307 - dense_2_loss_24: 0.0302 - dense_2_loss_25: 0.0328 - dense_2_loss_26: 0.0308 - dense_2_loss_27: 0.0345 - dense_2_loss_28: 0.0376 - dense_2_loss_29: 0.0438 - dense_2_loss_30: 0.0000e+00 - dense_2_acc_1: 0.1000 - dense_2_acc_2: 0.6167 - dense_2_acc_3: 0.8667 - dense_2_acc_4: 1.0000 - dense_2_acc_5: 1.0000 - dense_2_acc_6: 1.0000 - dense_2_acc_7: 1.0000 - dense_2_acc_8: 1.0000 - dense_2_acc_9: 1.0000 - dense_2_acc_10: 1.0000 - dense_2_acc_11: 1.0000 - dense_2_acc_12: 1.0000 - dense_2_acc_13: 1.0000 - dense_2_acc_14: 1.0000 - dense_2_acc_15: 1.0000 - dense_2_acc_16: 1.0000 - dense_2_acc_17: 1.0000 - dense_2_acc_18: 1.0000 - dense_2_acc_19: 1.0000 - dense_2_acc_20: 1.0000 - dense_2_acc_21: 1.0000 - dense_2_acc_22: 1.0000 - dense_2_acc_23: 1.0000 - dense_2_acc_24: 1.0000 - dense_2_acc_25: 1.0000 - dense_2_acc_26: 1.0000 - dense_2_acc_27: 1.0000 - dense_2_acc_28: 1.0000 - dense_2_acc_29: 1.0000 - dense_2_acc_30: 0.0167         \n",
      "Epoch 92/100\n",
      "60/60 [==============================] - 1s - loss: 6.5943 - dense_2_loss_1: 3.7902 - dense_2_loss_2: 1.3868 - dense_2_loss_3: 0.4119 - dense_2_loss_4: 0.1197 - dense_2_loss_5: 0.0763 - dense_2_loss_6: 0.0545 - dense_2_loss_7: 0.0463 - dense_2_loss_8: 0.0371 - dense_2_loss_9: 0.0365 - dense_2_loss_10: 0.0280 - dense_2_loss_11: 0.0330 - dense_2_loss_12: 0.0326 - dense_2_loss_13: 0.0264 - dense_2_loss_14: 0.0289 - dense_2_loss_15: 0.0304 - dense_2_loss_16: 0.0318 - dense_2_loss_17: 0.0303 - dense_2_loss_18: 0.0306 - dense_2_loss_19: 0.0310 - dense_2_loss_20: 0.0321 - dense_2_loss_21: 0.0331 - dense_2_loss_22: 0.0321 - dense_2_loss_23: 0.0300 - dense_2_loss_24: 0.0297 - dense_2_loss_25: 0.0321 - dense_2_loss_26: 0.0301 - dense_2_loss_27: 0.0338 - dense_2_loss_28: 0.0363 - dense_2_loss_29: 0.0427 - dense_2_loss_30: 0.0000e+00 - dense_2_acc_1: 0.1000 - dense_2_acc_2: 0.6167 - dense_2_acc_3: 0.8667 - dense_2_acc_4: 1.0000 - dense_2_acc_5: 1.0000 - dense_2_acc_6: 1.0000 - dense_2_acc_7: 1.0000 - dense_2_acc_8: 1.0000 - dense_2_acc_9: 1.0000 - dense_2_acc_10: 1.0000 - dense_2_acc_11: 1.0000 - dense_2_acc_12: 1.0000 - dense_2_acc_13: 1.0000 - dense_2_acc_14: 1.0000 - dense_2_acc_15: 1.0000 - dense_2_acc_16: 1.0000 - dense_2_acc_17: 1.0000 - dense_2_acc_18: 1.0000 - dense_2_acc_19: 1.0000 - dense_2_acc_20: 1.0000 - dense_2_acc_21: 1.0000 - dense_2_acc_22: 1.0000 - dense_2_acc_23: 1.0000 - dense_2_acc_24: 1.0000 - dense_2_acc_25: 1.0000 - dense_2_acc_26: 1.0000 - dense_2_acc_27: 1.0000 - dense_2_acc_28: 1.0000 - dense_2_acc_29: 1.0000 - dense_2_acc_30: 0.0167         \n",
      "Epoch 93/100\n",
      "60/60 [==============================] - 1s - loss: 6.5493 - dense_2_loss_1: 3.7873 - dense_2_loss_2: 1.3754 - dense_2_loss_3: 0.4044 - dense_2_loss_4: 0.1172 - dense_2_loss_5: 0.0745 - dense_2_loss_6: 0.0532 - dense_2_loss_7: 0.0453 - dense_2_loss_8: 0.0362 - dense_2_loss_9: 0.0357 - dense_2_loss_10: 0.0273 - dense_2_loss_11: 0.0323 - dense_2_loss_12: 0.0319 - dense_2_loss_13: 0.0257 - dense_2_loss_14: 0.0283 - dense_2_loss_15: 0.0296 - dense_2_loss_16: 0.0310 - dense_2_loss_17: 0.0295 - dense_2_loss_18: 0.0299 - dense_2_loss_19: 0.0302 - dense_2_loss_20: 0.0313 - dense_2_loss_21: 0.0324 - dense_2_loss_22: 0.0314 - dense_2_loss_23: 0.0293 - dense_2_loss_24: 0.0292 - dense_2_loss_25: 0.0314 - dense_2_loss_26: 0.0297 - dense_2_loss_27: 0.0334 - dense_2_loss_28: 0.0347 - dense_2_loss_29: 0.0417 - dense_2_loss_30: 0.0000e+00 - dense_2_acc_1: 0.1000 - dense_2_acc_2: 0.6167 - dense_2_acc_3: 0.9000 - dense_2_acc_4: 1.0000 - dense_2_acc_5: 1.0000 - dense_2_acc_6: 1.0000 - dense_2_acc_7: 1.0000 - dense_2_acc_8: 1.0000 - dense_2_acc_9: 1.0000 - dense_2_acc_10: 1.0000 - dense_2_acc_11: 1.0000 - dense_2_acc_12: 1.0000 - dense_2_acc_13: 1.0000 - dense_2_acc_14: 1.0000 - dense_2_acc_15: 1.0000 - dense_2_acc_16: 1.0000 - dense_2_acc_17: 1.0000 - dense_2_acc_18: 1.0000 - dense_2_acc_19: 1.0000 - dense_2_acc_20: 1.0000 - dense_2_acc_21: 1.0000 - dense_2_acc_22: 1.0000 - dense_2_acc_23: 1.0000 - dense_2_acc_24: 1.0000 - dense_2_acc_25: 1.0000 - dense_2_acc_26: 1.0000 - dense_2_acc_27: 1.0000 - dense_2_acc_28: 1.0000 - dense_2_acc_29: 1.0000 - dense_2_acc_30: 0.0167         \n",
      "Epoch 94/100\n",
      "60/60 [==============================] - 1s - loss: 6.5080 - dense_2_loss_1: 3.7847 - dense_2_loss_2: 1.3643 - dense_2_loss_3: 0.3976 - dense_2_loss_4: 0.1150 - dense_2_loss_5: 0.0730 - dense_2_loss_6: 0.0521 - dense_2_loss_7: 0.0443 - dense_2_loss_8: 0.0354 - dense_2_loss_9: 0.0350 - dense_2_loss_10: 0.0267 - dense_2_loss_11: 0.0316 - dense_2_loss_12: 0.0312 - dense_2_loss_13: 0.0252 - dense_2_loss_14: 0.0277 - dense_2_loss_15: 0.0289 - dense_2_loss_16: 0.0303 - dense_2_loss_17: 0.0288 - dense_2_loss_18: 0.0292 - dense_2_loss_19: 0.0295 - dense_2_loss_20: 0.0306 - dense_2_loss_21: 0.0317 - dense_2_loss_22: 0.0307 - dense_2_loss_23: 0.0286 - dense_2_loss_24: 0.0286 - dense_2_loss_25: 0.0307 - dense_2_loss_26: 0.0293 - dense_2_loss_27: 0.0328 - dense_2_loss_28: 0.0338 - dense_2_loss_29: 0.0409 - dense_2_loss_30: 0.0000e+00 - dense_2_acc_1: 0.1000 - dense_2_acc_2: 0.6167 - dense_2_acc_3: 0.9000 - dense_2_acc_4: 1.0000 - dense_2_acc_5: 1.0000 - dense_2_acc_6: 1.0000 - dense_2_acc_7: 1.0000 - dense_2_acc_8: 1.0000 - dense_2_acc_9: 1.0000 - dense_2_acc_10: 1.0000 - dense_2_acc_11: 1.0000 - dense_2_acc_12: 1.0000 - dense_2_acc_13: 1.0000 - dense_2_acc_14: 1.0000 - dense_2_acc_15: 1.0000 - dense_2_acc_16: 1.0000 - dense_2_acc_17: 1.0000 - dense_2_acc_18: 1.0000 - dense_2_acc_19: 1.0000 - dense_2_acc_20: 1.0000 - dense_2_acc_21: 1.0000 - dense_2_acc_22: 1.0000 - dense_2_acc_23: 1.0000 - dense_2_acc_24: 1.0000 - dense_2_acc_25: 1.0000 - dense_2_acc_26: 1.0000 - dense_2_acc_27: 1.0000 - dense_2_acc_28: 1.0000 - dense_2_acc_29: 1.0000 - dense_2_acc_30: 0.0167         \n",
      "Epoch 95/100\n",
      "60/60 [==============================] - 1s - loss: 6.4671 - dense_2_loss_1: 3.7822 - dense_2_loss_2: 1.3530 - dense_2_loss_3: 0.3909 - dense_2_loss_4: 0.1129 - dense_2_loss_5: 0.0716 - dense_2_loss_6: 0.0510 - dense_2_loss_7: 0.0434 - dense_2_loss_8: 0.0346 - dense_2_loss_9: 0.0343 - dense_2_loss_10: 0.0262 - dense_2_loss_11: 0.0309 - dense_2_loss_12: 0.0306 - dense_2_loss_13: 0.0246 - dense_2_loss_14: 0.0272 - dense_2_loss_15: 0.0283 - dense_2_loss_16: 0.0297 - dense_2_loss_17: 0.0282 - dense_2_loss_18: 0.0285 - dense_2_loss_19: 0.0289 - dense_2_loss_20: 0.0301 - dense_2_loss_21: 0.0309 - dense_2_loss_22: 0.0298 - dense_2_loss_23: 0.0279 - dense_2_loss_24: 0.0278 - dense_2_loss_25: 0.0300 - dense_2_loss_26: 0.0282 - dense_2_loss_27: 0.0317 - dense_2_loss_28: 0.0336 - dense_2_loss_29: 0.0401 - dense_2_loss_30: 0.0000e+00 - dense_2_acc_1: 0.1000 - dense_2_acc_2: 0.6167 - dense_2_acc_3: 0.9000 - dense_2_acc_4: 1.0000 - dense_2_acc_5: 1.0000 - dense_2_acc_6: 1.0000 - dense_2_acc_7: 1.0000 - dense_2_acc_8: 1.0000 - dense_2_acc_9: 1.0000 - dense_2_acc_10: 1.0000 - dense_2_acc_11: 1.0000 - dense_2_acc_12: 1.0000 - dense_2_acc_13: 1.0000 - dense_2_acc_14: 1.0000 - dense_2_acc_15: 1.0000 - dense_2_acc_16: 1.0000 - dense_2_acc_17: 1.0000 - dense_2_acc_18: 1.0000 - dense_2_acc_19: 1.0000 - dense_2_acc_20: 1.0000 - dense_2_acc_21: 1.0000 - dense_2_acc_22: 1.0000 - dense_2_acc_23: 1.0000 - dense_2_acc_24: 1.0000 - dense_2_acc_25: 1.0000 - dense_2_acc_26: 1.0000 - dense_2_acc_27: 1.0000 - dense_2_acc_28: 1.0000 - dense_2_acc_29: 1.0000 - dense_2_acc_30: 0.0167     \n",
      "Epoch 96/100\n",
      "60/60 [==============================] - 1s - loss: 6.4272 - dense_2_loss_1: 3.7795 - dense_2_loss_2: 1.3423 - dense_2_loss_3: 0.3839 - dense_2_loss_4: 0.1109 - dense_2_loss_5: 0.0702 - dense_2_loss_6: 0.0499 - dense_2_loss_7: 0.0424 - dense_2_loss_8: 0.0338 - dense_2_loss_9: 0.0335 - dense_2_loss_10: 0.0257 - dense_2_loss_11: 0.0301 - dense_2_loss_12: 0.0299 - dense_2_loss_13: 0.0242 - dense_2_loss_14: 0.0266 - dense_2_loss_15: 0.0278 - dense_2_loss_16: 0.0291 - dense_2_loss_17: 0.0276 - dense_2_loss_18: 0.0279 - dense_2_loss_19: 0.0284 - dense_2_loss_20: 0.0295 - dense_2_loss_21: 0.0302 - dense_2_loss_22: 0.0292 - dense_2_loss_23: 0.0273 - dense_2_loss_24: 0.0271 - dense_2_loss_25: 0.0294 - dense_2_loss_26: 0.0275 - dense_2_loss_27: 0.0310 - dense_2_loss_28: 0.0332 - dense_2_loss_29: 0.0393 - dense_2_loss_30: 0.0000e+00 - dense_2_acc_1: 0.1000 - dense_2_acc_2: 0.6167 - dense_2_acc_3: 0.9000 - dense_2_acc_4: 1.0000 - dense_2_acc_5: 1.0000 - dense_2_acc_6: 1.0000 - dense_2_acc_7: 1.0000 - dense_2_acc_8: 1.0000 - dense_2_acc_9: 1.0000 - dense_2_acc_10: 1.0000 - dense_2_acc_11: 1.0000 - dense_2_acc_12: 1.0000 - dense_2_acc_13: 1.0000 - dense_2_acc_14: 1.0000 - dense_2_acc_15: 1.0000 - dense_2_acc_16: 1.0000 - dense_2_acc_17: 1.0000 - dense_2_acc_18: 1.0000 - dense_2_acc_19: 1.0000 - dense_2_acc_20: 1.0000 - dense_2_acc_21: 1.0000 - dense_2_acc_22: 1.0000 - dense_2_acc_23: 1.0000 - dense_2_acc_24: 1.0000 - dense_2_acc_25: 1.0000 - dense_2_acc_26: 1.0000 - dense_2_acc_27: 1.0000 - dense_2_acc_28: 1.0000 - dense_2_acc_29: 1.0000 - dense_2_acc_30: 0.0167     \n",
      "Epoch 97/100\n",
      "60/60 [==============================] - 1s - loss: 6.3878 - dense_2_loss_1: 3.7770 - dense_2_loss_2: 1.3315 - dense_2_loss_3: 0.3765 - dense_2_loss_4: 0.1090 - dense_2_loss_5: 0.0687 - dense_2_loss_6: 0.0487 - dense_2_loss_7: 0.0416 - dense_2_loss_8: 0.0331 - dense_2_loss_9: 0.0327 - dense_2_loss_10: 0.0253 - dense_2_loss_11: 0.0294 - dense_2_loss_12: 0.0293 - dense_2_loss_13: 0.0236 - dense_2_loss_14: 0.0261 - dense_2_loss_15: 0.0272 - dense_2_loss_16: 0.0284 - dense_2_loss_17: 0.0270 - dense_2_loss_18: 0.0273 - dense_2_loss_19: 0.0278 - dense_2_loss_20: 0.0289 - dense_2_loss_21: 0.0295 - dense_2_loss_22: 0.0286 - dense_2_loss_23: 0.0268 - dense_2_loss_24: 0.0266 - dense_2_loss_25: 0.0288 - dense_2_loss_26: 0.0271 - dense_2_loss_27: 0.0304 - dense_2_loss_28: 0.0325 - dense_2_loss_29: 0.0385 - dense_2_loss_30: 0.0000e+00 - dense_2_acc_1: 0.1000 - dense_2_acc_2: 0.6167 - dense_2_acc_3: 0.9000 - dense_2_acc_4: 1.0000 - dense_2_acc_5: 1.0000 - dense_2_acc_6: 1.0000 - dense_2_acc_7: 1.0000 - dense_2_acc_8: 1.0000 - dense_2_acc_9: 1.0000 - dense_2_acc_10: 1.0000 - dense_2_acc_11: 1.0000 - dense_2_acc_12: 1.0000 - dense_2_acc_13: 1.0000 - dense_2_acc_14: 1.0000 - dense_2_acc_15: 1.0000 - dense_2_acc_16: 1.0000 - dense_2_acc_17: 1.0000 - dense_2_acc_18: 1.0000 - dense_2_acc_19: 1.0000 - dense_2_acc_20: 1.0000 - dense_2_acc_21: 1.0000 - dense_2_acc_22: 1.0000 - dense_2_acc_23: 1.0000 - dense_2_acc_24: 1.0000 - dense_2_acc_25: 1.0000 - dense_2_acc_26: 1.0000 - dense_2_acc_27: 1.0000 - dense_2_acc_28: 1.0000 - dense_2_acc_29: 1.0000 - dense_2_acc_30: 0.0167         \n",
      "Epoch 98/100\n",
      "60/60 [==============================] - 1s - loss: 6.3509 - dense_2_loss_1: 3.7743 - dense_2_loss_2: 1.3212 - dense_2_loss_3: 0.3711 - dense_2_loss_4: 0.1070 - dense_2_loss_5: 0.0673 - dense_2_loss_6: 0.0477 - dense_2_loss_7: 0.0407 - dense_2_loss_8: 0.0324 - dense_2_loss_9: 0.0321 - dense_2_loss_10: 0.0247 - dense_2_loss_11: 0.0289 - dense_2_loss_12: 0.0287 - dense_2_loss_13: 0.0231 - dense_2_loss_14: 0.0255 - dense_2_loss_15: 0.0266 - dense_2_loss_16: 0.0278 - dense_2_loss_17: 0.0265 - dense_2_loss_18: 0.0268 - dense_2_loss_19: 0.0272 - dense_2_loss_20: 0.0282 - dense_2_loss_21: 0.0289 - dense_2_loss_22: 0.0281 - dense_2_loss_23: 0.0262 - dense_2_loss_24: 0.0261 - dense_2_loss_25: 0.0282 - dense_2_loss_26: 0.0266 - dense_2_loss_27: 0.0298 - dense_2_loss_28: 0.0315 - dense_2_loss_29: 0.0377 - dense_2_loss_30: 0.0000e+00 - dense_2_acc_1: 0.1000 - dense_2_acc_2: 0.6167 - dense_2_acc_3: 0.9000 - dense_2_acc_4: 1.0000 - dense_2_acc_5: 1.0000 - dense_2_acc_6: 1.0000 - dense_2_acc_7: 1.0000 - dense_2_acc_8: 1.0000 - dense_2_acc_9: 1.0000 - dense_2_acc_10: 1.0000 - dense_2_acc_11: 1.0000 - dense_2_acc_12: 1.0000 - dense_2_acc_13: 1.0000 - dense_2_acc_14: 1.0000 - dense_2_acc_15: 1.0000 - dense_2_acc_16: 1.0000 - dense_2_acc_17: 1.0000 - dense_2_acc_18: 1.0000 - dense_2_acc_19: 1.0000 - dense_2_acc_20: 1.0000 - dense_2_acc_21: 1.0000 - dense_2_acc_22: 1.0000 - dense_2_acc_23: 1.0000 - dense_2_acc_24: 1.0000 - dense_2_acc_25: 1.0000 - dense_2_acc_26: 1.0000 - dense_2_acc_27: 1.0000 - dense_2_acc_28: 1.0000 - dense_2_acc_29: 1.0000 - dense_2_acc_30: 0.0167     \n",
      "Epoch 99/100\n",
      "60/60 [==============================] - 1s - loss: 6.3144 - dense_2_loss_1: 3.7717 - dense_2_loss_2: 1.3106 - dense_2_loss_3: 0.3653 - dense_2_loss_4: 0.1052 - dense_2_loss_5: 0.0661 - dense_2_loss_6: 0.0467 - dense_2_loss_7: 0.0399 - dense_2_loss_8: 0.0317 - dense_2_loss_9: 0.0314 - dense_2_loss_10: 0.0243 - dense_2_loss_11: 0.0283 - dense_2_loss_12: 0.0281 - dense_2_loss_13: 0.0227 - dense_2_loss_14: 0.0249 - dense_2_loss_15: 0.0261 - dense_2_loss_16: 0.0272 - dense_2_loss_17: 0.0259 - dense_2_loss_18: 0.0263 - dense_2_loss_19: 0.0266 - dense_2_loss_20: 0.0276 - dense_2_loss_21: 0.0283 - dense_2_loss_22: 0.0275 - dense_2_loss_23: 0.0257 - dense_2_loss_24: 0.0256 - dense_2_loss_25: 0.0276 - dense_2_loss_26: 0.0262 - dense_2_loss_27: 0.0293 - dense_2_loss_28: 0.0307 - dense_2_loss_29: 0.0369 - dense_2_loss_30: 0.0000e+00 - dense_2_acc_1: 0.1000 - dense_2_acc_2: 0.6167 - dense_2_acc_3: 0.9000 - dense_2_acc_4: 1.0000 - dense_2_acc_5: 1.0000 - dense_2_acc_6: 1.0000 - dense_2_acc_7: 1.0000 - dense_2_acc_8: 1.0000 - dense_2_acc_9: 1.0000 - dense_2_acc_10: 1.0000 - dense_2_acc_11: 1.0000 - dense_2_acc_12: 1.0000 - dense_2_acc_13: 1.0000 - dense_2_acc_14: 1.0000 - dense_2_acc_15: 1.0000 - dense_2_acc_16: 1.0000 - dense_2_acc_17: 1.0000 - dense_2_acc_18: 1.0000 - dense_2_acc_19: 1.0000 - dense_2_acc_20: 1.0000 - dense_2_acc_21: 1.0000 - dense_2_acc_22: 1.0000 - dense_2_acc_23: 1.0000 - dense_2_acc_24: 1.0000 - dense_2_acc_25: 1.0000 - dense_2_acc_26: 1.0000 - dense_2_acc_27: 1.0000 - dense_2_acc_28: 1.0000 - dense_2_acc_29: 1.0000 - dense_2_acc_30: 0.0167     \n",
      "Epoch 100/100\n",
      "60/60 [==============================] - 1s - loss: 6.2780 - dense_2_loss_1: 3.7693 - dense_2_loss_2: 1.3002 - dense_2_loss_3: 0.3584 - dense_2_loss_4: 0.1034 - dense_2_loss_5: 0.0649 - dense_2_loss_6: 0.0457 - dense_2_loss_7: 0.0391 - dense_2_loss_8: 0.0311 - dense_2_loss_9: 0.0308 - dense_2_loss_10: 0.0238 - dense_2_loss_11: 0.0277 - dense_2_loss_12: 0.0275 - dense_2_loss_13: 0.0223 - dense_2_loss_14: 0.0244 - dense_2_loss_15: 0.0256 - dense_2_loss_16: 0.0267 - dense_2_loss_17: 0.0254 - dense_2_loss_18: 0.0258 - dense_2_loss_19: 0.0261 - dense_2_loss_20: 0.0271 - dense_2_loss_21: 0.0278 - dense_2_loss_22: 0.0269 - dense_2_loss_23: 0.0252 - dense_2_loss_24: 0.0251 - dense_2_loss_25: 0.0270 - dense_2_loss_26: 0.0256 - dense_2_loss_27: 0.0287 - dense_2_loss_28: 0.0303 - dense_2_loss_29: 0.0362 - dense_2_loss_30: 0.0000e+00 - dense_2_acc_1: 0.1000 - dense_2_acc_2: 0.6167 - dense_2_acc_3: 0.9000 - dense_2_acc_4: 1.0000 - dense_2_acc_5: 1.0000 - dense_2_acc_6: 1.0000 - dense_2_acc_7: 1.0000 - dense_2_acc_8: 1.0000 - dense_2_acc_9: 1.0000 - dense_2_acc_10: 1.0000 - dense_2_acc_11: 1.0000 - dense_2_acc_12: 1.0000 - dense_2_acc_13: 1.0000 - dense_2_acc_14: 1.0000 - dense_2_acc_15: 1.0000 - dense_2_acc_16: 1.0000 - dense_2_acc_17: 1.0000 - dense_2_acc_18: 1.0000 - dense_2_acc_19: 1.0000 - dense_2_acc_20: 1.0000 - dense_2_acc_21: 1.0000 - dense_2_acc_22: 1.0000 - dense_2_acc_23: 1.0000 - dense_2_acc_24: 1.0000 - dense_2_acc_25: 1.0000 - dense_2_acc_26: 1.0000 - dense_2_acc_27: 1.0000 - dense_2_acc_28: 1.0000 - dense_2_acc_29: 1.0000 - dense_2_acc_30: 0.0167         \n"
     ]
    },
    {
     "data": {
      "text/plain": [
       "<keras.callbacks.History at 0x7ff05786ada0>"
      ]
     },
     "execution_count": 21,
     "metadata": {},
     "output_type": "execute_result"
    }
   ],
   "source": [
    "model.fit([X, a0, c0], list(Y), epochs=100)"
   ]
  },
  {
   "cell_type": "markdown",
   "metadata": {},
   "source": [
    "You should see the model loss going down. Now that you have trained a model, lets go on the the final section to implement an inference algorithm, and generate some music! "
   ]
  },
  {
   "cell_type": "markdown",
   "metadata": {},
   "source": [
    "## 3 - Generating music\n",
    "\n",
    "You now have a trained model which has learned the patterns of the jazz soloist. Lets now use this model to synthesize new music. \n",
    "\n",
    "#### 3.1 - Predicting & Sampling\n",
    "\n",
    "<img src=\"images/music_gen.png\" style=\"width:600;height:400px;\">\n",
    "\n",
    "At each step of sampling, you will take as input the activation `a` and cell state `c` from the previous state of the LSTM, forward propagate by one step, and get a new output activation as well as cell state. The new activation `a` can then be used to generate the output, using `densor` as before. \n",
    "\n",
    "To start off the model, we will initialize `x0` as well as the LSTM activation and and cell value `a0` and `c0` to be zeros. \n",
    "\n",
    "\n",
    "<!-- \n",
    "You are about to build a function that will do this inference for you. Your function takes in your previous model and the number of time steps `Ty` that you want to sample. It will return a keras model that would be able to generate sequences for you. Furthermore, the function takes in a dense layer of `78` units and the number of activations. \n",
    "!--> \n",
    "\n",
    "\n",
    "**Exercise:** Implement the function below to sample a sequence of musical values. Here are some of the key steps you'll need to implement inside the for-loop that generates the $T_y$ output characters: \n",
    "\n",
    "Step 2.A: Use `LSTM_Cell`, which inputs the previous step's `c` and `a` to generate the current step's `c` and `a`. \n",
    "\n",
    "Step 2.B: Use `densor` (defined previously) to compute a softmax on `a` to get the output for the current step. \n",
    "\n",
    "Step 2.C: Save the output you have just generated by appending it to `outputs`.\n",
    "\n",
    "Step 2.D: Sample x to the be \"out\"'s one-hot version (the prediction) so that you can pass it to the next LSTM's step.  We have already provided this line of code, which uses a [Lambda](https://keras.io/layers/core/#lambda) function. \n",
    "```python\n",
    "x = Lambda(one_hot)(out) \n",
    "```\n",
    "[Minor technical note: Rather than sampling a value at random according to the probabilities in `out`, this line of code actually chooses the single most likely note at each step using an argmax.]\n"
   ]
  },
  {
   "cell_type": "code",
   "execution_count": 22,
   "metadata": {
    "collapsed": true
   },
   "outputs": [],
   "source": [
    "# GRADED FUNCTION: music_inference_model\n",
    "\n",
    "def music_inference_model(LSTM_cell, densor, n_values = 78, n_a = 64, Ty = 100):\n",
    "    \"\"\"\n",
    "    Uses the trained \"LSTM_cell\" and \"densor\" from model() to generate a sequence of values.\n",
    "    \n",
    "    Arguments:\n",
    "    LSTM_cell -- the trained \"LSTM_cell\" from model(), Keras layer object\n",
    "    densor -- the trained \"densor\" from model(), Keras layer object\n",
    "    n_values -- integer, umber of unique values\n",
    "    n_a -- number of units in the LSTM_cell\n",
    "    Ty -- integer, number of time steps to generate\n",
    "    \n",
    "    Returns:\n",
    "    inference_model -- Keras model instance\n",
    "    \"\"\"\n",
    "    \n",
    "    # Define the input of your model with a shape \n",
    "    x0 = Input(shape=(1, n_values))\n",
    "    \n",
    "    # Define s0, initial hidden state for the decoder LSTM\n",
    "    a0 = Input(shape=(n_a,), name='a0')\n",
    "    c0 = Input(shape=(n_a,), name='c0')\n",
    "    a = a0\n",
    "    c = c0\n",
    "    x = x0\n",
    "\n",
    "    ### START CODE HERE ###\n",
    "    # Step 1: Create an empty list of \"outputs\" to later store your predicted values (≈1 line)\n",
    "    outputs = []\n",
    "    \n",
    "    # Step 2: Loop over Ty and generate a value at every time step\n",
    "    for t in range(Ty):\n",
    "        \n",
    "        # Step 2.A: Perform one step of LSTM_cell (≈1 line)\n",
    "        a, _, c = LSTM_cell(x, initial_state=[a, c])\n",
    "        \n",
    "        # Step 2.B: Apply Dense layer to the hidden state output of the LSTM_cell (≈1 line)\n",
    "        out = densor(a)\n",
    "\n",
    "        # Step 2.C: Append the prediction \"out\" to \"outputs\". out.shape = (None, 78) (≈1 line)\n",
    "        outputs.append(out)\n",
    "        \n",
    "        # Step 2.D: Select the next value according to \"out\", and set \"x\" to be the one-hot representation of the\n",
    "        #           selected value, which will be passed as the input to LSTM_cell on the next step. We have provided \n",
    "        #           the line of code you need to do this. \n",
    "        x = Lambda(one_hot)(out)\n",
    "        \n",
    "    # Step 3: Create model instance with the correct \"inputs\" and \"outputs\" (≈1 line)\n",
    "    inference_model = Model(inputs=[x0, a0, c0], outputs=outputs)\n",
    "    \n",
    "    ### END CODE HERE ###\n",
    "    \n",
    "    return inference_model"
   ]
  },
  {
   "cell_type": "markdown",
   "metadata": {},
   "source": [
    "Run the cell below to define your inference model. This model is hard coded to generate 50 values."
   ]
  },
  {
   "cell_type": "code",
   "execution_count": 23,
   "metadata": {
    "collapsed": true
   },
   "outputs": [],
   "source": [
    "inference_model = music_inference_model(LSTM_cell, densor, n_values = 78, n_a = 64, Ty = 50)"
   ]
  },
  {
   "cell_type": "markdown",
   "metadata": {},
   "source": [
    "Finally, this creates the zero-valued vectors you will use to initialize `x` and the LSTM state variables `a` and `c`. "
   ]
  },
  {
   "cell_type": "code",
   "execution_count": 24,
   "metadata": {
    "collapsed": true
   },
   "outputs": [],
   "source": [
    "x_initializer = np.zeros((1, 1, 78))\n",
    "a_initializer = np.zeros((1, n_a))\n",
    "c_initializer = np.zeros((1, n_a))"
   ]
  },
  {
   "cell_type": "markdown",
   "metadata": {},
   "source": [
    "**Exercise**: Implement `predict_and_sample()`. This function takes many arguments including the inputs [x_initializer, a_initializer, c_initializer]. In order to predict the output corresponding to this input, you will need to carry-out 3 steps:\n",
    "1. Use your inference model to predict an output given your set of inputs. The output `pred` should be a list of length $T_y$ where each element is a numpy-array of shape (1, n_values).\n",
    "2. Convert `pred` into a numpy array of $T_y$ indices. Each index corresponds is computed by taking the `argmax` of an element of the `pred` list. [Hint](https://docs.scipy.org/doc/numpy/reference/generated/numpy.argmax.html).\n",
    "3. Convert the indices into their one-hot vector representations. [Hint](https://keras.io/utils/#to_categorical)."
   ]
  },
  {
   "cell_type": "code",
   "execution_count": 27,
   "metadata": {
    "collapsed": true
   },
   "outputs": [],
   "source": [
    "# GRADED FUNCTION: predict_and_sample\n",
    "\n",
    "def predict_and_sample(inference_model, x_initializer = x_initializer, a_initializer = a_initializer, \n",
    "                       c_initializer = c_initializer):\n",
    "    \"\"\"\n",
    "    Predicts the next value of values using the inference model.\n",
    "    \n",
    "    Arguments:\n",
    "    inference_model -- Keras model instance for inference time\n",
    "    x_initializer -- numpy array of shape (1, 1, 78), one-hot vector initializing the values generation\n",
    "    a_initializer -- numpy array of shape (1, n_a), initializing the hidden state of the LSTM_cell\n",
    "    c_initializer -- numpy array of shape (1, n_a), initializing the cell state of the LSTM_cel\n",
    "    \n",
    "    Returns:\n",
    "    results -- numpy-array of shape (Ty, 78), matrix of one-hot vectors representing the values generated\n",
    "    indices -- numpy-array of shape (Ty, 1), matrix of indices representing the values generated\n",
    "    \"\"\"\n",
    "    \n",
    "    ### START CODE HERE ###\n",
    "    # Step 1: Use your inference model to predict an output sequence given x_initializer, a_initializer and c_initializer.\n",
    "    pred = inference_model.predict([x_initializer, a_initializer, c_initializer])\n",
    "    # Step 2: Convert \"pred\" into an np.array() of indices with the maximum probabilities\n",
    "    indices = np.argmax(pred, axis=-1)\n",
    "    # Step 3: Convert indices to one-hot vectors, the shape of the results should be (1, )\n",
    "    results = to_categorical(indices, num_classes=78)\n",
    "    ### END CODE HERE ###\n",
    "    \n",
    "    return results, indices"
   ]
  },
  {
   "cell_type": "code",
   "execution_count": 28,
   "metadata": {},
   "outputs": [
    {
     "name": "stdout",
     "output_type": "stream",
     "text": [
      "np.argmax(results[12]) = 70\n",
      "np.argmax(results[17]) = 34\n",
      "list(indices[12:18]) = [array([70]), array([34]), array([35]), array([71]), array([70]), array([34])]\n"
     ]
    }
   ],
   "source": [
    "results, indices = predict_and_sample(inference_model, x_initializer, a_initializer, c_initializer)\n",
    "print(\"np.argmax(results[12]) =\", np.argmax(results[12]))\n",
    "print(\"np.argmax(results[17]) =\", np.argmax(results[17]))\n",
    "print(\"list(indices[12:18]) =\", list(indices[12:18]))"
   ]
  },
  {
   "cell_type": "markdown",
   "metadata": {},
   "source": [
    "**Expected Output**: Your results may differ because Keras' results are not completely predictable. However, if you have trained your LSTM_cell with model.fit() for exactly 100 epochs as described above, you should very likely observe a sequence of indices that are not all identical. Moreover, you should observe that: np.argmax(results[12]) is the first element of list(indices[12:18]) and np.argmax(results[17]) is the last element of list(indices[12:18]). \n",
    "\n",
    "<table>\n",
    "    <tr>\n",
    "        <td>\n",
    "            **np.argmax(results[12])** =\n",
    "        </td>\n",
    "        <td>\n",
    "        1\n",
    "        </td>\n",
    "    </tr>\n",
    "    <tr>\n",
    "        <td>\n",
    "            **np.argmax(results[12])** =\n",
    "        </td>\n",
    "        <td>\n",
    "        42\n",
    "        </td>\n",
    "    </tr>\n",
    "    <tr>\n",
    "        <td>\n",
    "            **list(indices[12:18])** =\n",
    "        </td>\n",
    "        <td>\n",
    "            [array([1]), array([42]), array([54]), array([17]), array([1]), array([42])]\n",
    "        </td>\n",
    "    </tr>\n",
    "</table>"
   ]
  },
  {
   "cell_type": "markdown",
   "metadata": {},
   "source": [
    "#### 3.3 - Generate music \n",
    "\n",
    "Finally, you are ready to generate music. Your RNN generates a sequence of values. The following code generates music by first calling your `predict_and_sample()` function. These values are then post-processed into musical chords (meaning that multiple values or notes can be played at the same time). \n",
    "\n",
    "Most computational music algorithms use some post-processing because it is difficult to generate music that sounds good without such post-processing. The post-processing does things such as clean up the generated audio by making sure the same sound is not repeated too many times, that two successive notes are not too far from each other in pitch, and so on. One could argue that a lot of these post-processing steps are hacks; also, a lot the music generation literature has also focused on hand-crafting post-processors, and a lot of the output quality depends on the quality of the post-processing and not just the quality of the RNN. But this post-processing does make a huge difference, so lets use it in our implementation as well. \n",
    "\n",
    "Lets make some music! "
   ]
  },
  {
   "cell_type": "markdown",
   "metadata": {},
   "source": [
    "Run the following cell to generate music and record it into your `out_stream`. This can take a couple of minutes."
   ]
  },
  {
   "cell_type": "code",
   "execution_count": 15,
   "metadata": {
    "scrolled": false
   },
   "outputs": [
    {
     "name": "stdout",
     "output_type": "stream",
     "text": [
      "Predicting new values for different set of chords.\n",
      "Generated 51 sounds using the predicted values for the set of chords (\"1\") and after pruning\n",
      "Generated 50 sounds using the predicted values for the set of chords (\"2\") and after pruning\n",
      "Generated 50 sounds using the predicted values for the set of chords (\"3\") and after pruning\n",
      "Generated 51 sounds using the predicted values for the set of chords (\"4\") and after pruning\n",
      "Generated 51 sounds using the predicted values for the set of chords (\"5\") and after pruning\n",
      "Your generated music is saved in output/my_music.midi\n"
     ]
    }
   ],
   "source": [
    "out_stream = generate_music(inference_model)"
   ]
  },
  {
   "cell_type": "markdown",
   "metadata": {},
   "source": [
    "To listen to your music, click File->Open... Then go to \"output/\" and download \"my_music.midi\". Either play it on your computer with an application that can read midi files if you have one, or use one of the free online \"MIDI to mp3\" conversion tools to convert this to mp3.  \n",
    "\n",
    "As reference, here also is a 30sec audio clip we generated using this algorithm. "
   ]
  },
  {
   "cell_type": "code",
   "execution_count": null,
   "metadata": {
    "collapsed": true
   },
   "outputs": [],
   "source": [
    "IPython.display.Audio('./data/30s_trained_model.mp3')"
   ]
  },
  {
   "cell_type": "markdown",
   "metadata": {},
   "source": [
    "### Congratulations!\n",
    "\n",
    "You have come to the end of the notebook. \n",
    "\n",
    "<font color=\"blue\">\n",
    "Here's what you should remember:\n",
    "- A sequence model can be used to generate musical values, which are then post-processed into midi music. \n",
    "- Fairly similar models can be used to generate dinosaur names or to generate music, with the major difference being the input fed to the model.  \n",
    "- In Keras, sequence generation involves defining layers with shared weights, which are then repeated for the different time steps $1, \\ldots, T_x$. "
   ]
  },
  {
   "cell_type": "markdown",
   "metadata": {},
   "source": [
    "Congratulations on completing this assignment and generating a jazz solo! "
   ]
  },
  {
   "cell_type": "markdown",
   "metadata": {},
   "source": [
    "**References**\n",
    "\n",
    "The ideas presented in this notebook came primarily from three computational music papers cited below. The implementation here also took significant inspiration and used many components from Ji-Sung Kim's github repository.\n",
    "\n",
    "- Ji-Sung Kim, 2016, [deepjazz](https://github.com/jisungk/deepjazz)\n",
    "- Jon Gillick, Kevin Tang and Robert Keller, 2009. [Learning Jazz Grammars](http://ai.stanford.edu/~kdtang/papers/smc09-jazzgrammar.pdf)\n",
    "- Robert Keller and David Morrison, 2007, [A Grammatical Approach to Automatic Improvisation](http://smc07.uoa.gr/SMC07%20Proceedings/SMC07%20Paper%2055.pdf)\n",
    "- François Pachet, 1999, [Surprising Harmonies](http://citeseerx.ist.psu.edu/viewdoc/download?doi=10.1.1.5.7473&rep=rep1&type=pdf)\n",
    "\n",
    "We're also grateful to François Germain for valuable feedback."
   ]
  }
 ],
 "metadata": {
  "coursera": {
   "course_slug": "nlp-sequence-models",
   "graded_item_id": "EG0F7",
   "launcher_item_id": "cxJXc"
  },
  "kernelspec": {
   "display_name": "Python 3",
   "language": "python",
   "name": "python3"
  },
  "language_info": {
   "codemirror_mode": {
    "name": "ipython",
    "version": 3
   },
   "file_extension": ".py",
   "mimetype": "text/x-python",
   "name": "python",
   "nbconvert_exporter": "python",
   "pygments_lexer": "ipython3",
   "version": "3.6.0"
  }
 },
 "nbformat": 4,
 "nbformat_minor": 2
}
